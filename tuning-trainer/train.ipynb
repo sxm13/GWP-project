{
 "cells": [
  {
   "cell_type": "markdown",
   "id": "b3f77497-cf4b-429d-af91-d7fda71c2fc1",
   "metadata": {},
   "source": [
    "# Life time"
   ]
  },
  {
   "cell_type": "code",
   "execution_count": null,
   "id": "49889054-7007-4973-bc63-7e20948d2326",
   "metadata": {},
   "outputs": [],
   "source": [
    "from data import data_prepare,data_split,normal\n",
    "from model import gbr,rf,dt"
   ]
  },
  {
   "cell_type": "code",
   "execution_count": 2,
   "id": "198c81c5-3464-450e-b05d-903c9aca7c01",
   "metadata": {
    "scrolled": true
   },
   "outputs": [
    {
     "data": {
      "text/html": [
       "<div>\n",
       "<style scoped>\n",
       "    .dataframe tbody tr th:only-of-type {\n",
       "        vertical-align: middle;\n",
       "    }\n",
       "\n",
       "    .dataframe tbody tr th {\n",
       "        vertical-align: top;\n",
       "    }\n",
       "\n",
       "    .dataframe thead th {\n",
       "        text-align: right;\n",
       "    }\n",
       "</style>\n",
       "<table border=\"1\" class=\"dataframe\">\n",
       "  <thead>\n",
       "    <tr style=\"text-align: right;\">\n",
       "      <th></th>\n",
       "      <th>SMILE</th>\n",
       "      <th>IP</th>\n",
       "      <th>SMR_VSA7</th>\n",
       "      <th>fr_halogen</th>\n",
       "      <th>Chi2v</th>\n",
       "      <th>FractionCSP3</th>\n",
       "      <th>SMR_VSA6</th>\n",
       "      <th>MinAbsEStateIndex</th>\n",
       "      <th>AvgIpc</th>\n",
       "      <th>SPS</th>\n",
       "      <th>FpDensityMorgan2</th>\n",
       "      <th>LF</th>\n",
       "    </tr>\n",
       "  </thead>\n",
       "  <tbody>\n",
       "    <tr>\n",
       "      <th>0</th>\n",
       "      <td>C(C(F)(F)F)(C(F)(F)F)O</td>\n",
       "      <td>0.423469</td>\n",
       "      <td>0.00000</td>\n",
       "      <td>6</td>\n",
       "      <td>1.485762</td>\n",
       "      <td>1.000000</td>\n",
       "      <td>0.000000</td>\n",
       "      <td>4.236111</td>\n",
       "      <td>1.589495</td>\n",
       "      <td>14.400000</td>\n",
       "      <td>1.000000</td>\n",
       "      <td>0.278754</td>\n",
       "    </tr>\n",
       "    <tr>\n",
       "      <th>1</th>\n",
       "      <td>C(=C/F)\\C(C(F)(F)F)(C(F)(F)F)F</td>\n",
       "      <td>0.381241</td>\n",
       "      <td>12.40581</td>\n",
       "      <td>8</td>\n",
       "      <td>1.999939</td>\n",
       "      <td>0.600000</td>\n",
       "      <td>0.000000</td>\n",
       "      <td>1.137917</td>\n",
       "      <td>1.824142</td>\n",
       "      <td>15.384615</td>\n",
       "      <td>1.000000</td>\n",
       "      <td>-0.476254</td>\n",
       "    </tr>\n",
       "    <tr>\n",
       "      <th>2</th>\n",
       "      <td>C(C(C(F)(F)F)(F)F)(Cl)Cl</td>\n",
       "      <td>0.413552</td>\n",
       "      <td>0.00000</td>\n",
       "      <td>7</td>\n",
       "      <td>2.517686</td>\n",
       "      <td>1.000000</td>\n",
       "      <td>0.000000</td>\n",
       "      <td>2.756944</td>\n",
       "      <td>1.617252</td>\n",
       "      <td>14.400000</td>\n",
       "      <td>1.200000</td>\n",
       "      <td>0.278754</td>\n",
       "    </tr>\n",
       "    <tr>\n",
       "      <th>3</th>\n",
       "      <td>C(C(F)(F)Cl)(F)F</td>\n",
       "      <td>0.441425</td>\n",
       "      <td>0.00000</td>\n",
       "      <td>5</td>\n",
       "      <td>1.346241</td>\n",
       "      <td>1.000000</td>\n",
       "      <td>0.000000</td>\n",
       "      <td>3.769290</td>\n",
       "      <td>1.314320</td>\n",
       "      <td>12.857143</td>\n",
       "      <td>1.428571</td>\n",
       "      <td>1.230449</td>\n",
       "    </tr>\n",
       "    <tr>\n",
       "      <th>4</th>\n",
       "      <td>C(C(F)(F)F)(OC(F)F)Cl</td>\n",
       "      <td>0.426675</td>\n",
       "      <td>0.00000</td>\n",
       "      <td>6</td>\n",
       "      <td>1.650787</td>\n",
       "      <td>1.000000</td>\n",
       "      <td>0.000000</td>\n",
       "      <td>2.921682</td>\n",
       "      <td>1.602158</td>\n",
       "      <td>15.900000</td>\n",
       "      <td>1.600000</td>\n",
       "      <td>0.544068</td>\n",
       "    </tr>\n",
       "    <tr>\n",
       "      <th>...</th>\n",
       "      <td>...</td>\n",
       "      <td>...</td>\n",
       "      <td>...</td>\n",
       "      <td>...</td>\n",
       "      <td>...</td>\n",
       "      <td>...</td>\n",
       "      <td>...</td>\n",
       "      <td>...</td>\n",
       "      <td>...</td>\n",
       "      <td>...</td>\n",
       "      <td>...</td>\n",
       "      <td>...</td>\n",
       "    </tr>\n",
       "    <tr>\n",
       "      <th>191</th>\n",
       "      <td>FS(F)(F)(F)(F)F</td>\n",
       "      <td>0.536314</td>\n",
       "      <td>0.00000</td>\n",
       "      <td>6</td>\n",
       "      <td>2.624453</td>\n",
       "      <td>0.000000</td>\n",
       "      <td>0.000000</td>\n",
       "      <td>9.847222</td>\n",
       "      <td>0.591673</td>\n",
       "      <td>23.142857</td>\n",
       "      <td>0.571429</td>\n",
       "      <td>3.505150</td>\n",
       "    </tr>\n",
       "    <tr>\n",
       "      <th>192</th>\n",
       "      <td>N(F)(F)F</td>\n",
       "      <td>0.484371</td>\n",
       "      <td>0.00000</td>\n",
       "      <td>3</td>\n",
       "      <td>0.191663</td>\n",
       "      <td>0.000000</td>\n",
       "      <td>0.000000</td>\n",
       "      <td>2.500000</td>\n",
       "      <td>0.811278</td>\n",
       "      <td>9.000000</td>\n",
       "      <td>1.000000</td>\n",
       "      <td>2.755112</td>\n",
       "    </tr>\n",
       "    <tr>\n",
       "      <th>193</th>\n",
       "      <td>O=COC(F)(F)C(F)(F)F</td>\n",
       "      <td>0.420345</td>\n",
       "      <td>0.00000</td>\n",
       "      <td>5</td>\n",
       "      <td>1.228611</td>\n",
       "      <td>0.666667</td>\n",
       "      <td>0.000000</td>\n",
       "      <td>0.964792</td>\n",
       "      <td>1.613308</td>\n",
       "      <td>12.900000</td>\n",
       "      <td>1.500000</td>\n",
       "      <td>0.556303</td>\n",
       "    </tr>\n",
       "    <tr>\n",
       "      <th>194</th>\n",
       "      <td>O=S(=O)(F)F</td>\n",
       "      <td>0.482148</td>\n",
       "      <td>0.00000</td>\n",
       "      <td>2</td>\n",
       "      <td>1.135017</td>\n",
       "      <td>0.000000</td>\n",
       "      <td>0.000000</td>\n",
       "      <td>5.666667</td>\n",
       "      <td>0.721928</td>\n",
       "      <td>11.600000</td>\n",
       "      <td>1.200000</td>\n",
       "      <td>1.556303</td>\n",
       "    </tr>\n",
       "    <tr>\n",
       "      <th>195</th>\n",
       "      <td>OCCF</td>\n",
       "      <td>0.385075</td>\n",
       "      <td>0.00000</td>\n",
       "      <td>1</td>\n",
       "      <td>0.412589</td>\n",
       "      <td>1.000000</td>\n",
       "      <td>13.281473</td>\n",
       "      <td>0.347222</td>\n",
       "      <td>1.370951</td>\n",
       "      <td>7.500000</td>\n",
       "      <td>2.000000</td>\n",
       "      <td>-1.356547</td>\n",
       "    </tr>\n",
       "  </tbody>\n",
       "</table>\n",
       "<p>196 rows × 12 columns</p>\n",
       "</div>"
      ],
      "text/plain": [
       "                              SMILE        IP  SMR_VSA7  fr_halogen     Chi2v  \\\n",
       "0            C(C(F)(F)F)(C(F)(F)F)O  0.423469   0.00000           6  1.485762   \n",
       "1    C(=C/F)\\C(C(F)(F)F)(C(F)(F)F)F  0.381241  12.40581           8  1.999939   \n",
       "2          C(C(C(F)(F)F)(F)F)(Cl)Cl  0.413552   0.00000           7  2.517686   \n",
       "3                  C(C(F)(F)Cl)(F)F  0.441425   0.00000           5  1.346241   \n",
       "4             C(C(F)(F)F)(OC(F)F)Cl  0.426675   0.00000           6  1.650787   \n",
       "..                              ...       ...       ...         ...       ...   \n",
       "191                 FS(F)(F)(F)(F)F  0.536314   0.00000           6  2.624453   \n",
       "192                        N(F)(F)F  0.484371   0.00000           3  0.191663   \n",
       "193             O=COC(F)(F)C(F)(F)F  0.420345   0.00000           5  1.228611   \n",
       "194                     O=S(=O)(F)F  0.482148   0.00000           2  1.135017   \n",
       "195                            OCCF  0.385075   0.00000           1  0.412589   \n",
       "\n",
       "     FractionCSP3   SMR_VSA6  MinAbsEStateIndex    AvgIpc        SPS  \\\n",
       "0        1.000000   0.000000           4.236111  1.589495  14.400000   \n",
       "1        0.600000   0.000000           1.137917  1.824142  15.384615   \n",
       "2        1.000000   0.000000           2.756944  1.617252  14.400000   \n",
       "3        1.000000   0.000000           3.769290  1.314320  12.857143   \n",
       "4        1.000000   0.000000           2.921682  1.602158  15.900000   \n",
       "..            ...        ...                ...       ...        ...   \n",
       "191      0.000000   0.000000           9.847222  0.591673  23.142857   \n",
       "192      0.000000   0.000000           2.500000  0.811278   9.000000   \n",
       "193      0.666667   0.000000           0.964792  1.613308  12.900000   \n",
       "194      0.000000   0.000000           5.666667  0.721928  11.600000   \n",
       "195      1.000000  13.281473           0.347222  1.370951   7.500000   \n",
       "\n",
       "     FpDensityMorgan2        LF  \n",
       "0            1.000000  0.278754  \n",
       "1            1.000000 -0.476254  \n",
       "2            1.200000  0.278754  \n",
       "3            1.428571  1.230449  \n",
       "4            1.600000  0.544068  \n",
       "..                ...       ...  \n",
       "191          0.571429  3.505150  \n",
       "192          1.000000  2.755112  \n",
       "193          1.500000  0.556303  \n",
       "194          1.200000  1.556303  \n",
       "195          2.000000 -1.356547  \n",
       "\n",
       "[196 rows x 12 columns]"
      ]
     },
     "execution_count": 2,
     "metadata": {},
     "output_type": "execute_result"
    }
   ],
   "source": [
    "data_prepare(data_csv=\"./ipcc_dataset.csv\",mm = \"GBR\", tar = \"LF\",verbos=False)\n",
    "df_Xtrain, df_Ytrain, df_Xtest, df_Ytest=data_split(mm = \"GBR\", tar = \"LF\",ratio = 0.8,verbos = True)"
   ]
  },
  {
   "cell_type": "code",
   "execution_count": 11,
   "id": "383b5803-cf1a-466d-b3ff-33b295928fe7",
   "metadata": {
    "scrolled": true
   },
   "outputs": [
    {
     "name": "stdout",
     "output_type": "stream",
     "text": [
      "0.45570519783258734\n",
      "1.379349161192526\n",
      "2.39418697396179\n",
      "2.3778630706519563\n",
      "1.4545350435463287\n",
      "0.6390378659184932\n",
      "1.0110650633645422\n",
      "0.4201301873387385\n",
      "1.2658262217558789\n",
      "1.5039833986020246\n",
      "0.6039405211115759\n",
      "0.4543339174679172\n",
      "0.6136967070646979\n",
      "0.5579301288173564\n",
      "1.7675859765448627\n",
      "0.5734451004410783\n",
      "0.47887123781458574\n",
      "0.4114609671768834\n",
      "1.2383560905403357\n",
      "0.466955151159533\n",
      "0.45200837721242604\n",
      "0.4159165886131171\n",
      "0.4787781956903518\n",
      "0.40536422877060313\n",
      "0.43836728056831537\n",
      "0.530200115812013\n",
      "0.4241205435137008\n",
      "0.46936940902182106\n",
      "0.40832183059714994\n",
      "0.4734706154176367\n",
      "0.5159933165976881\n",
      "0.406999685939932\n",
      "0.4011063096786214\n",
      "0.4663411730900708\n",
      "0.37730540252416966\n",
      "0.4282340607482579\n",
      "0.3997972738571336\n",
      "0.573233746237914\n",
      "0.3999034519756855\n",
      "0.6305590501754956\n",
      "0.38125672868496396\n",
      "0.5247076670512897\n",
      "0.5490933758964788\n",
      "0.49066595738871943\n",
      "0.4208891173828425\n",
      "2.1671540114782966\n",
      "0.4474895205476308\n",
      "0.4598769703269053\n",
      "0.5902488210975584\n",
      "0.419615679521918\n",
      "0.38143387746522117\n",
      "0.5552245326286132\n",
      "0.42117384544460973\n",
      "0.41568622960833623\n",
      "0.45972561145269736\n",
      "0.4148460307266558\n",
      "0.38492235796289453\n",
      "2.394436529839173\n",
      "0.3889124867935917\n",
      "0.40739710578750116\n",
      "0.3863953783264596\n",
      "0.42032103299756257\n",
      "0.41181884116262674\n",
      "0.4097345231564275\n",
      "0.41392215737873944\n",
      "1.1915452116053018\n",
      "0.41826929738020163\n",
      "0.4781113500782486\n",
      "0.4081438262879423\n",
      "0.3598086893107835\n",
      "0.4530775973417338\n",
      "0.4495360810786342\n",
      "0.45777209888297243\n",
      "0.4062999684273135\n",
      "0.4189242462316667\n",
      "0.4313263196542497\n",
      "0.43021672632991137\n",
      "0.45848255947606875\n",
      "0.6508902942841011\n",
      "0.40114455546529654\n",
      "0.44622308775491215\n",
      "0.46459369044050336\n",
      "0.5047120000934611\n",
      "0.4315837722949848\n",
      "0.42071932567209663\n",
      "0.38226421751825124\n",
      "0.41304891101579677\n",
      "0.3851395905466478\n",
      "0.44440451617346877\n",
      "0.41493441677514575\n",
      "0.43830354789591236\n",
      "0.48361688353966803\n",
      "0.36685579652762657\n",
      "0.43594189004880446\n",
      "0.40079310033473403\n",
      "0.42843621328619397\n",
      "0.3949719053300621\n",
      "0.4302890745330825\n",
      "0.3941457454338012\n",
      "0.3979169979543996\n",
      "Best score=0.3598\n",
      "Training: r2,mae,rmse:  0.9819721385776129 0.14164614728490088 0.20713526201511354\n",
      "Test: r2,mae,rmse:  0.8293312357439906 0.3308768472689453 0.43466429900970793\n",
      "impact:  Index(['IP', 'SMR_VSA7', 'fr_halogen', 'Chi2v', 'FractionCSP3', 'SMR_VSA6',\n",
      "       'MinAbsEStateIndex', 'AvgIpc', 'SPS', 'FpDensityMorgan2'],\n",
      "      dtype='object') [0.5271414  0.08223113 0.01688787 0.02675031 0.1449474  0.03522634\n",
      " 0.0488168  0.03146176 0.03011126 0.05642576]\n"
     ]
    }
   ],
   "source": [
    "gbr(df_Xtrain, df_Ytrain, df_Xtest, df_Ytest, tar='LF', n_job=1, call=100, save = True)"
   ]
  },
  {
   "cell_type": "code",
   "execution_count": 3,
   "id": "acfe8db8-67fc-49da-85b1-ab2b6d5735f1",
   "metadata": {
    "scrolled": true
   },
   "outputs": [
    {
     "name": "stdout",
     "output_type": "stream",
     "text": [
      "0.45382036950035565\n",
      "0.65968897550916\n",
      "0.6814536525906212\n",
      "0.5863860089262803\n",
      "0.6224663960320058\n",
      "0.5705006974505061\n",
      "1.0824007577068189\n",
      "0.7926546955357819\n",
      "1.0292126032839826\n",
      "0.6203580635486117\n",
      "1.0698877875921193\n",
      "0.457790130043611\n",
      "0.46510592114161875\n",
      "0.3663264365461282\n",
      "0.348013390747138\n",
      "0.4120004245655065\n",
      "0.34991515786308713\n",
      "0.5956871437278572\n",
      "0.5791242255182583\n",
      "0.5707721361155491\n",
      "0.3530799259896698\n",
      "1.1132813264272399\n",
      "0.3493380311368307\n",
      "0.3527487664000544\n",
      "0.3650223118810214\n",
      "0.344161668418457\n",
      "0.3509831548096436\n",
      "1.2576854773683332\n",
      "0.39812946038138464\n",
      "0.6264869931271169\n",
      "0.6029685778905717\n",
      "0.337413623855256\n",
      "0.41258287620503353\n",
      "0.3466778344948986\n",
      "0.33858888443227747\n",
      "0.33919644413192207\n",
      "0.3422870608533989\n",
      "1.1051368952058436\n",
      "0.7378619729354983\n",
      "0.3434790273917509\n",
      "0.3509491639788403\n",
      "0.3450482171024059\n",
      "0.34159613783021053\n",
      "0.5868982074032255\n",
      "0.3489395613841064\n",
      "0.3510710314768904\n",
      "0.5838471939875485\n",
      "0.3414982581418078\n",
      "0.35695669755597087\n",
      "0.3426041256240163\n",
      "0.338320665718135\n",
      "0.34527604690894986\n"
     ]
    },
    {
     "name": "stderr",
     "output_type": "stream",
     "text": [
      "/root/anaconda3/envs/gwp/lib/python3.12/site-packages/skopt/optimizer/optimizer.py:449: UserWarning: The objective has been evaluated at this point before.\n",
      "  warnings.warn(\"The objective has been evaluated \"\n"
     ]
    },
    {
     "name": "stdout",
     "output_type": "stream",
     "text": [
      "0.338320665718135\n",
      "0.3474973910886484\n",
      "0.3469528624381909\n",
      "0.34017004968322906\n",
      "0.33880326056071264\n",
      "0.34412222387216296\n",
      "0.3469826709676317\n",
      "0.3373310059162925\n",
      "0.3401473128818995\n",
      "0.3498450255987899\n",
      "0.3408248140992369\n",
      "0.347187472981766\n",
      "0.347167954908538\n",
      "0.35795011733118853\n",
      "0.3426691145341852\n",
      "0.35392200882976177\n",
      "0.3630554613473165\n",
      "0.34042665340682005\n",
      "0.3470131270409412\n",
      "0.34461971582595047\n",
      "0.3621197734550376\n",
      "0.35943202439169314\n",
      "0.3532082808464642\n",
      "0.3359953921883284\n",
      "0.3395250701397009\n",
      "0.3445306253460323\n",
      "0.33747114272892775\n",
      "0.3449289570068018\n",
      "0.36180451927344226\n",
      "0.34362972142944237\n",
      "0.3456834016056848\n",
      "0.3537699943124868\n",
      "0.3468349465635502\n",
      "0.33964728188022636\n",
      "0.33378506381844325\n",
      "0.34682193944421646\n",
      "0.3499836810788651\n",
      "0.3532724437263361\n",
      "0.34778683969702445\n",
      "0.35631060579961904\n",
      "0.3482744342932345\n",
      "0.3563955293765072\n",
      "0.346047260950618\n",
      "0.3445503710167381\n",
      "0.3330881942680742\n",
      "0.34917244505087774\n",
      "1.3560351195084315\n",
      "0.34717651020806806\n",
      "Training: r2,mae,rmse:  0.9761423695124691 0.17242256532708589 0.23316132793895342\n",
      "Test: r2,mae,rmse:  0.848937339683898 0.3573238483057808 0.47633268540488477\n",
      "impact:  Index(['IP', 'MinAbsEStateIndex', 'FpDensityMorgan3', 'FractionCSP3',\n",
      "       'FpDensityMorgan2', 'Chi2v', 'MinPartialCharge', 'qed',\n",
      "       'MinAbsPartialCharge', 'SlogP_VSA6'],\n",
      "      dtype='object') [0.62988761 0.09033727 0.0646125  0.06280296 0.02974316 0.03565386\n",
      " 0.02757758 0.01829484 0.01697218 0.02411804]\n"
     ]
    }
   ],
   "source": [
    "data_prepare(data_csv=\"./ipcc_dataset.csv\",mm = \"RF\", tar = \"LF\",verbos=False)\n",
    "df_Xtrain, df_Ytrain, df_Xtest, df_Ytest=data_split(mm = \"RF\", tar = \"LF\",ratio = 0.8,verbos = True)\n",
    "rf(df_Xtrain, df_Ytrain, df_Xtest, df_Ytest, tar='LF', n_job=1, call=100, save = True)"
   ]
  },
  {
   "cell_type": "code",
   "execution_count": 5,
   "id": "cca134ef-fa71-475c-98bf-fa4007197c18",
   "metadata": {
    "scrolled": true
   },
   "outputs": [
    {
     "name": "stdout",
     "output_type": "stream",
     "text": [
      "Selecting point  1\n",
      "Selecting point  2\n",
      "Selecting point  3\n",
      "Selecting point  4\n",
      "Selecting point  5\n",
      "Selecting point  6\n",
      "Selecting point  7\n",
      "Selecting point  8\n",
      "Selecting point  9\n",
      "Selecting point  10\n",
      "Selecting point  11\n",
      "Selecting point  12\n",
      "Selecting point  13\n",
      "Selecting point  14\n",
      "Selecting point  15\n",
      "Selecting point  16\n",
      "Selecting point  17\n",
      "Selecting point  18\n",
      "Selecting point  19\n",
      "Selecting point  20\n",
      "Selecting point  21\n",
      "Selecting point  22\n",
      "Selecting point  23\n",
      "Selecting point  24\n",
      "Selecting point  25\n",
      "Selecting point  26\n",
      "Selecting point  27\n",
      "Selecting point  28\n",
      "Selecting point  29\n",
      "Selecting point  30\n",
      "Selecting point  31\n",
      "Selecting point  32\n",
      "Selecting point  33\n",
      "Selecting point  34\n",
      "Selecting point  35\n",
      "Selecting point  36\n",
      "Selecting point  37\n",
      "Selecting point  38\n",
      "Selecting point  39\n",
      "Selecting point  40\n",
      "Selecting point  41\n",
      "Selecting point  42\n",
      "Selecting point  43\n",
      "Selecting point  44\n",
      "Selecting point  45\n",
      "Selecting point  46\n",
      "Selecting point  47\n",
      "Selecting point  48\n",
      "Selecting point  49\n",
      "Selecting point  50\n",
      "Selecting point  51\n",
      "Selecting point  52\n",
      "Selecting point  53\n",
      "Selecting point  54\n",
      "Selecting point  55\n",
      "Selecting point  56\n",
      "Selecting point  57\n",
      "Selecting point  58\n",
      "Selecting point  59\n",
      "Selecting point  60\n",
      "Selecting point  61\n",
      "Selecting point  62\n",
      "Selecting point  63\n",
      "Selecting point  64\n",
      "Selecting point  65\n",
      "Selecting point  66\n",
      "Selecting point  67\n",
      "Selecting point  68\n",
      "Selecting point  69\n",
      "Selecting point  70\n",
      "Selecting point  71\n",
      "Selecting point  72\n",
      "Selecting point  73\n",
      "Selecting point  74\n",
      "Selecting point  75\n",
      "Selecting point  76\n",
      "Selecting point  77\n",
      "Selecting point  78\n",
      "Selecting point  79\n",
      "Selecting point  80\n",
      "Selecting point  81\n",
      "Selecting point  82\n",
      "Selecting point  83\n",
      "Selecting point  84\n",
      "Selecting point  85\n",
      "Selecting point  86\n",
      "Selecting point  87\n",
      "Selecting point  88\n",
      "Selecting point  89\n",
      "Selecting point  90\n",
      "Selecting point  91\n",
      "Selecting point  92\n",
      "Selecting point  93\n",
      "Selecting point  94\n",
      "Selecting point  95\n",
      "Selecting point  96\n",
      "Selecting point  97\n",
      "Selecting point  98\n",
      "Selecting point  99\n",
      "Selecting point  100\n",
      "Selecting point  101\n",
      "Selecting point  102\n",
      "Selecting point  103\n",
      "Selecting point  104\n",
      "Selecting point  105\n",
      "Selecting point  106\n",
      "Selecting point  107\n",
      "Selecting point  108\n",
      "Selecting point  109\n",
      "Selecting point  110\n",
      "Selecting point  111\n",
      "Selecting point  112\n",
      "Selecting point  113\n",
      "Selecting point  114\n",
      "Selecting point  115\n",
      "Selecting point  116\n",
      "Selecting point  117\n",
      "Selecting point  118\n",
      "Selecting point  119\n",
      "Selecting point  120\n",
      "Selecting point  121\n",
      "Selecting point  122\n",
      "Selecting point  123\n",
      "Selecting point  124\n",
      "Selecting point  125\n",
      "Selecting point  126\n",
      "Selecting point  127\n",
      "Selecting point  128\n",
      "Selecting point  129\n",
      "Selecting point  130\n",
      "Selecting point  131\n",
      "Selecting point  132\n",
      "Selecting point  133\n",
      "Selecting point  134\n",
      "Selecting point  135\n",
      "Selecting point  136\n",
      "Selecting point  137\n",
      "Selecting point  138\n",
      "Selecting point  139\n",
      "Selecting point  140\n",
      "Selecting point  141\n",
      "Selecting point  142\n",
      "Selecting point  143\n",
      "Selecting point  144\n",
      "Selecting point  145\n",
      "Selecting point  146\n",
      "Selecting point  147\n",
      "Selecting point  148\n",
      "Selecting point  149\n",
      "Selecting point  150\n",
      "Selecting point  151\n",
      "Selecting point  152\n",
      "Selecting point  153\n",
      "Selecting point  154\n",
      "Selecting point  155\n",
      "Total number of materials :  196\n",
      "Number of features:  10\n",
      "1.0173364557507771\n",
      "0.8508989115585195\n",
      "0.8751821872498553\n",
      "0.8508989115585195\n",
      "0.8284689450678939\n",
      "0.7603849232425517\n",
      "0.7875630947569017\n",
      "0.7614761042252306\n",
      "0.7688790992095023\n",
      "0.8903790507804606\n",
      "0.7438186798389734\n",
      "0.7325806740854773\n",
      "1.193142684160324\n",
      "0.8621622039668833\n",
      "0.6301569575170987\n",
      "1.193142684160324\n",
      "0.605991136505847\n",
      "0.7082229913959112\n",
      "0.6047386887094325\n",
      "0.6781505036922609\n",
      "1.193142684160324\n",
      "0.7571986679838217\n",
      "0.5957177303706128\n",
      "0.6067512539241156\n",
      "0.6009499356121676\n",
      "0.6681889581635909\n",
      "0.6285571001434501\n",
      "1.1931426841603239\n",
      "0.7303921942810101\n",
      "0.8284689450678939\n",
      "0.7512704292411232\n",
      "0.7512704292411232\n",
      "0.685964394528278\n",
      "0.597603543120424\n",
      "0.6029652902590671\n",
      "0.5890210081239513\n",
      "0.6541370721495697\n",
      "0.5987379857962584\n",
      "0.5987379857962584\n",
      "0.641345862180698\n",
      "0.6029652902590671\n",
      "1.1931426841603243\n",
      "0.8284689450678941\n",
      "0.5932654698779329\n",
      "0.6263553444231297\n",
      "0.6291919444703613\n",
      "0.608715273189096\n",
      "0.9041709513550543\n",
      "0.5938750673775448\n",
      "0.6062182791820361\n",
      "0.716182431306752\n",
      "0.6515167351295491\n",
      "1.1137226650722345\n",
      "0.8695265753772239\n",
      "0.6063828183860442\n",
      "0.605539153601851\n",
      "0.6053060733977074\n",
      "0.5933084062318372\n",
      "0.5957177303706128\n",
      "0.5958822695746211\n",
      "0.8244498536168194\n",
      "0.6212280353590028\n",
      "0.6674694280800437\n",
      "0.7622770235223248\n",
      "0.6160001247958258\n",
      "1.193142684160324\n",
      "0.6324675463998344\n",
      "0.7690689542222949\n",
      "0.8903790507804604\n",
      "0.8508989115585195\n",
      "0.6053746143978429\n",
      "1.1137226650722345\n",
      "1.193142684160324\n",
      "1.193142684160324\n",
      "0.5916646006751487\n",
      "0.5910550031755368\n"
     ]
    },
    {
     "name": "stderr",
     "output_type": "stream",
     "text": [
      "/root/anaconda3/envs/gwp/lib/python3.12/site-packages/skopt/optimizer/optimizer.py:449: UserWarning: The objective has been evaluated at this point before.\n",
      "  warnings.warn(\"The objective has been evaluated \"\n"
     ]
    },
    {
     "name": "stdout",
     "output_type": "stream",
     "text": [
      "0.5916646006751487\n",
      "0.6063335125246908\n",
      "0.606600734005459\n",
      "0.7518512392805998\n",
      "0.5906333499661505\n",
      "0.6063335125246907\n",
      "0.867305017524901\n",
      "1.193142684160324\n",
      "0.5932654698779329\n",
      "0.9726916588867001\n",
      "0.605991136505847\n",
      "0.5937552771192445\n",
      "0.5837601902425474\n",
      "0.5863923101543298\n",
      "0.5863923101543296\n"
     ]
    },
    {
     "name": "stderr",
     "output_type": "stream",
     "text": [
      "/root/anaconda3/envs/gwp/lib/python3.12/site-packages/skopt/optimizer/optimizer.py:449: UserWarning: The objective has been evaluated at this point before.\n",
      "  warnings.warn(\"The objective has been evaluated \"\n"
     ]
    },
    {
     "name": "stdout",
     "output_type": "stream",
     "text": [
      "0.5837601902425474\n",
      "0.5831505927429355\n"
     ]
    },
    {
     "name": "stderr",
     "output_type": "stream",
     "text": [
      "/root/anaconda3/envs/gwp/lib/python3.12/site-packages/skopt/optimizer/optimizer.py:449: UserWarning: The objective has been evaluated at this point before.\n",
      "  warnings.warn(\"The objective has been evaluated \"\n"
     ]
    },
    {
     "name": "stdout",
     "output_type": "stream",
     "text": [
      "0.5863923101543296\n",
      "0.5831505927429355\n",
      "0.5863923101543296\n"
     ]
    },
    {
     "name": "stderr",
     "output_type": "stream",
     "text": [
      "/root/anaconda3/envs/gwp/lib/python3.12/site-packages/skopt/optimizer/optimizer.py:449: UserWarning: The objective has been evaluated at this point before.\n",
      "  warnings.warn(\"The objective has been evaluated \"\n"
     ]
    },
    {
     "name": "stdout",
     "output_type": "stream",
     "text": [
      "0.5837601902425474\n"
     ]
    },
    {
     "name": "stderr",
     "output_type": "stream",
     "text": [
      "/root/anaconda3/envs/gwp/lib/python3.12/site-packages/skopt/optimizer/optimizer.py:449: UserWarning: The objective has been evaluated at this point before.\n",
      "  warnings.warn(\"The objective has been evaluated \"\n"
     ]
    },
    {
     "name": "stdout",
     "output_type": "stream",
     "text": [
      "0.5837601902425473\n",
      "0.605991136505847\n",
      "0.5857827126547177\n",
      "Training: r2,mae,rmse:  0.9251324810738178 0.2853824581637362 0.40241649883840275\n",
      "Test: r2,mae,rmse:  0.8663059052869854 0.36776277924678563 0.5101959317601602\n",
      "impact:  Index(['IP', 'MinAbsEStateIndex', 'FractionCSP3', 'FpDensityMorgan3', 'Chi2v',\n",
      "       'BCUT2D_LOGPHI', 'MinAbsPartialCharge', 'MinPartialCharge',\n",
      "       'BCUT2D_MWHI', 'SPS'],\n",
      "      dtype='object') [0.63418878 0.14640858 0.08579143 0.05098301 0.03734198 0.0062218\n",
      " 0.00583212 0.0176587  0.01448442 0.00108918]\n"
     ]
    }
   ],
   "source": [
    "data_prepare(data_csv=\"./ipcc_dataset.csv\",mm = \"DT\", tar = \"LF\",verbos=False)\n",
    "df_Xtrain, df_Ytrain, df_Xtest, df_Ytest=data_split(mm = \"DT\", tar = \"LF\",ratio = 0.8,verbos = True)\n",
    "dt(df_Xtrain, df_Ytrain, df_Xtest, df_Ytest, tar='LF', n_job=1, call=100, save = True)"
   ]
  },
  {
   "cell_type": "code",
   "execution_count": 8,
   "id": "50bfb300-aadf-494b-8e7b-4f393fd8865c",
   "metadata": {},
   "outputs": [],
   "source": [
    "from model import lasso,kr,ada,svr,knn,mlp"
   ]
  },
  {
   "cell_type": "code",
   "execution_count": 9,
   "id": "0353f1f0-fa02-443a-8b97-2da7089da20f",
   "metadata": {
    "scrolled": true
   },
   "outputs": [
    {
     "name": "stdout",
     "output_type": "stream",
     "text": [
      "Selecting point  1\n",
      "Selecting point  2\n",
      "Selecting point  3\n",
      "Selecting point  4\n",
      "Selecting point  5\n",
      "Selecting point  6\n",
      "Selecting point  7\n",
      "Selecting point  8\n",
      "Selecting point  9\n",
      "Selecting point  10\n",
      "Selecting point  11\n",
      "Selecting point  12\n",
      "Selecting point  13\n",
      "Selecting point  14\n",
      "Selecting point  15\n",
      "Selecting point  16\n",
      "Selecting point  17\n",
      "Selecting point  18\n",
      "Selecting point  19\n",
      "Selecting point  20\n",
      "Selecting point  21\n",
      "Selecting point  22\n",
      "Selecting point  23\n",
      "Selecting point  24\n",
      "Selecting point  25\n",
      "Selecting point  26\n",
      "Selecting point  27\n",
      "Selecting point  28\n",
      "Selecting point  29\n",
      "Selecting point  30\n",
      "Selecting point  31\n",
      "Selecting point  32\n",
      "Selecting point  33\n",
      "Selecting point  34\n",
      "Selecting point  35\n",
      "Selecting point  36\n",
      "Selecting point  37\n",
      "Selecting point  38\n",
      "Selecting point  39\n",
      "Selecting point  40\n",
      "Selecting point  41\n",
      "Selecting point  42\n",
      "Selecting point  43\n",
      "Selecting point  44\n",
      "Selecting point  45\n",
      "Selecting point  46\n",
      "Selecting point  47\n",
      "Selecting point  48\n",
      "Selecting point  49\n",
      "Selecting point  50\n",
      "Selecting point  51\n",
      "Selecting point  52\n",
      "Selecting point  53\n",
      "Selecting point  54\n",
      "Selecting point  55\n",
      "Selecting point  56\n",
      "Selecting point  57\n",
      "Selecting point  58\n",
      "Selecting point  59\n",
      "Selecting point  60\n",
      "Selecting point  61\n",
      "Selecting point  62\n",
      "Selecting point  63\n",
      "Selecting point  64\n",
      "Selecting point  65\n",
      "Selecting point  66\n",
      "Selecting point  67\n",
      "Selecting point  68\n",
      "Selecting point  69\n",
      "Selecting point  70\n",
      "Selecting point  71\n",
      "Selecting point  72\n",
      "Selecting point  73\n",
      "Selecting point  74\n",
      "Selecting point  75\n",
      "Selecting point  76\n",
      "Selecting point  77\n",
      "Selecting point  78\n",
      "Selecting point  79\n",
      "Selecting point  80\n",
      "Selecting point  81\n",
      "Selecting point  82\n",
      "Selecting point  83\n",
      "Selecting point  84\n",
      "Selecting point  85\n",
      "Selecting point  86\n",
      "Selecting point  87\n",
      "Selecting point  88\n",
      "Selecting point  89\n",
      "Selecting point  90\n",
      "Selecting point  91\n",
      "Selecting point  92\n",
      "Selecting point  93\n",
      "Selecting point  94\n",
      "Selecting point  95\n",
      "Selecting point  96\n",
      "Selecting point  97\n",
      "Selecting point  98\n",
      "Selecting point  99\n",
      "Selecting point  100\n",
      "Selecting point  101\n",
      "Selecting point  102\n",
      "Selecting point  103\n",
      "Selecting point  104\n",
      "Selecting point  105\n",
      "Selecting point  106\n",
      "Selecting point  107\n",
      "Selecting point  108\n",
      "Selecting point  109\n",
      "Selecting point  110\n",
      "Selecting point  111\n",
      "Selecting point  112\n",
      "Selecting point  113\n",
      "Selecting point  114\n",
      "Selecting point  115\n",
      "Selecting point  116\n",
      "Selecting point  117\n",
      "Selecting point  118\n",
      "Selecting point  119\n",
      "Selecting point  120\n",
      "Selecting point  121\n",
      "Selecting point  122\n",
      "Selecting point  123\n",
      "Selecting point  124\n",
      "Selecting point  125\n",
      "Selecting point  126\n",
      "Selecting point  127\n",
      "Selecting point  128\n",
      "Selecting point  129\n",
      "Selecting point  130\n",
      "Selecting point  131\n",
      "Selecting point  132\n",
      "Selecting point  133\n",
      "Selecting point  134\n",
      "Selecting point  135\n",
      "Selecting point  136\n",
      "Selecting point  137\n",
      "Selecting point  138\n",
      "Selecting point  139\n",
      "Selecting point  140\n",
      "Selecting point  141\n",
      "Selecting point  142\n",
      "Selecting point  143\n",
      "Selecting point  144\n",
      "Selecting point  145\n",
      "Selecting point  146\n",
      "Selecting point  147\n",
      "Selecting point  148\n",
      "Selecting point  149\n",
      "Selecting point  150\n",
      "Selecting point  151\n",
      "Selecting point  152\n",
      "Selecting point  153\n",
      "Selecting point  154\n",
      "Selecting point  155\n",
      "Total number of materials :  196\n",
      "Number of features:  10\n",
      "0.3705799088910139\n",
      "0.3742457994002054\n",
      "0.37424706390733153\n",
      "0.37424703362977796\n",
      "0.3704092028177052\n",
      "0.7638147084425759\n",
      "0.3738896320697259\n",
      "1.447810470019522\n",
      "0.3742466155794738\n",
      "0.37424706136246133\n",
      "0.37265525587677206\n",
      "0.42941967310914303\n",
      "0.3742140794909055\n",
      "0.37423997736915754\n",
      "0.3764956080665235\n",
      "0.37840761376106513\n",
      "0.3741395114826138\n",
      "0.37424707549482084\n",
      "0.3742469209306871\n",
      "0.3742439442010302\n",
      "0.37349687511592516\n",
      "0.37423145217827836\n",
      "0.36904916430933676\n",
      "0.37405737556936836\n",
      "0.3742469908058513\n",
      "0.3741878846178536\n",
      "0.37424631059804553\n",
      "0.371722802227999\n"
     ]
    },
    {
     "name": "stderr",
     "output_type": "stream",
     "text": [
      "/root/anaconda3/envs/gwp/lib/python3.12/site-packages/skopt/optimizer/optimizer.py:449: UserWarning: The objective has been evaluated at this point before.\n",
      "  warnings.warn(\"The objective has been evaluated \"\n"
     ]
    },
    {
     "name": "stdout",
     "output_type": "stream",
     "text": [
      "0.37424707181487993\n",
      "0.37424680686073\n",
      "0.36946035892858975\n",
      "0.36916789925576793\n",
      "0.3742425161925858\n",
      "0.37279204494649465\n",
      "0.3690225657592551\n",
      "0.36989323995096235\n",
      "0.36887475303737655\n",
      "0.36918551926424764\n",
      "0.3742449688455358\n",
      "0.36903452435313205\n",
      "0.3689483379818425\n",
      "0.3692281539955768\n",
      "0.3689384259824053\n",
      "0.3689296157089985\n",
      "0.3737299775309014\n",
      "0.3689233546106004\n",
      "0.37308311776429315\n",
      "0.368908007334413\n",
      "0.36903325568432355\n",
      "0.36915745209204337\n",
      "0.3692915885581203\n",
      "0.3742249411762691\n",
      "0.3690707921982573\n",
      "0.3711601334577211\n",
      "0.3693388642489664\n",
      "0.3694589708525833\n",
      "0.36951089821292615\n",
      "0.36899174713356475\n",
      "0.3692956800874803\n",
      "0.3693238491506009\n",
      "0.36904216994670636\n",
      "0.3695529258908331\n",
      "0.3689661955923226\n",
      "0.36986190843388383\n",
      "0.3695572484715347\n",
      "0.36898438642121184\n",
      "0.36889866357400103\n",
      "0.36888616761673915\n",
      "0.36930198720193375\n",
      "0.36886894443892715\n",
      "0.36897303552250166\n",
      "0.3690352046975447\n",
      "0.36906807150495635\n",
      "0.3691941790617143\n",
      "0.36927354800076495\n",
      "0.36891723274320765\n",
      "0.3691416019467905\n",
      "0.37424705018837356\n",
      "0.3694884076308947\n",
      "0.3690366547493931\n",
      "0.3693611904354785\n",
      "0.3690220694930371\n",
      "0.3688939048547758\n",
      "0.39602021584575103\n",
      "0.3688740339628926\n",
      "0.3688758321977101\n",
      "0.3689049061727265\n",
      "0.37124925033865946\n",
      "0.370500498767876\n",
      "0.3699752403957401\n",
      "0.3689335778935178\n",
      "0.3689011956543638\n",
      "0.37063765514723634\n",
      "0.3692744541933319\n",
      "0.36914024512984733\n",
      "0.3694219582567148\n",
      "0.3692947192845407\n",
      "0.3689631344193499\n",
      "0.36913165138301635\n",
      "0.3691769212836204\n",
      "Training: r2,mae,rmse:  0.8797709818001291 0.4271927361364335 0.5250181462557557\n",
      "Test: r2,mae,rmse:  0.8221337625669947 0.4004370149351978 0.5071463878100995\n",
      "                   Importance\n",
      "IP                   0.262177\n",
      "SMR_VSA7             0.258013\n",
      "MinAbsEStateIndex    0.062748\n",
      "FpDensityMorgan3     0.037013\n",
      "SlogP_VSA12          0.038095\n",
      "fr_ketone            0.000000\n",
      "EState_VSA5          0.000000\n",
      "VSA_EState3          0.024074\n",
      "HomoLumoGap          0.044596\n",
      "BCUT2D_LOGPHI        0.022864\n"
     ]
    }
   ],
   "source": [
    "data_prepare(data_csv=\"./ipcc_dataset.csv\",mm = \"Lasso\", tar = \"LF\",verbos=False)\n",
    "df_Xtrain, df_Ytrain, df_Xtest, df_Ytest=data_split(mm = \"Lasso\", tar = \"LF\",ratio = 0.8,verbos = True)\n",
    "df_Xtrain, df_Ytrain, df_Xtest, df_Ytest=normal(df_Xtrain, df_Ytrain, df_Xtest, df_Ytest, mm='Lasso',tar='LF')\n",
    "lasso(df_Xtrain, df_Ytrain, df_Xtest, df_Ytest, tar='LF', n_job=1, call=100, save = True)"
   ]
  },
  {
   "cell_type": "code",
   "execution_count": 10,
   "id": "89fd8237-cb31-4b88-beb9-39cb60cab8ce",
   "metadata": {
    "scrolled": true
   },
   "outputs": [
    {
     "name": "stdout",
     "output_type": "stream",
     "text": [
      "Selecting point  1\n",
      "Selecting point  2\n",
      "Selecting point  3\n",
      "Selecting point  4\n",
      "Selecting point  5\n",
      "Selecting point  6\n",
      "Selecting point  7\n",
      "Selecting point  8\n",
      "Selecting point  9\n",
      "Selecting point  10\n",
      "Selecting point  11\n",
      "Selecting point  12\n",
      "Selecting point  13\n",
      "Selecting point  14\n",
      "Selecting point  15\n",
      "Selecting point  16\n",
      "Selecting point  17\n",
      "Selecting point  18\n",
      "Selecting point  19\n",
      "Selecting point  20\n",
      "Selecting point  21\n",
      "Selecting point  22\n",
      "Selecting point  23\n",
      "Selecting point  24\n",
      "Selecting point  25\n",
      "Selecting point  26\n",
      "Selecting point  27\n",
      "Selecting point  28\n",
      "Selecting point  29\n",
      "Selecting point  30\n",
      "Selecting point  31\n",
      "Selecting point  32\n",
      "Selecting point  33\n",
      "Selecting point  34\n",
      "Selecting point  35\n",
      "Selecting point  36\n",
      "Selecting point  37\n",
      "Selecting point  38\n",
      "Selecting point  39\n",
      "Selecting point  40\n",
      "Selecting point  41\n",
      "Selecting point  42\n",
      "Selecting point  43\n",
      "Selecting point  44\n",
      "Selecting point  45\n",
      "Selecting point  46\n",
      "Selecting point  47\n",
      "Selecting point  48\n",
      "Selecting point  49\n",
      "Selecting point  50\n",
      "Selecting point  51\n",
      "Selecting point  52\n",
      "Selecting point  53\n",
      "Selecting point  54\n",
      "Selecting point  55\n",
      "Selecting point  56\n",
      "Selecting point  57\n",
      "Selecting point  58\n",
      "Selecting point  59\n",
      "Selecting point  60\n",
      "Selecting point  61\n",
      "Selecting point  62\n",
      "Selecting point  63\n",
      "Selecting point  64\n",
      "Selecting point  65\n",
      "Selecting point  66\n",
      "Selecting point  67\n",
      "Selecting point  68\n",
      "Selecting point  69\n",
      "Selecting point  70\n",
      "Selecting point  71\n",
      "Selecting point  72\n",
      "Selecting point  73\n",
      "Selecting point  74\n",
      "Selecting point  75\n",
      "Selecting point  76\n",
      "Selecting point  77\n",
      "Selecting point  78\n",
      "Selecting point  79\n",
      "Selecting point  80\n",
      "Selecting point  81\n",
      "Selecting point  82\n",
      "Selecting point  83\n",
      "Selecting point  84\n",
      "Selecting point  85\n",
      "Selecting point  86\n",
      "Selecting point  87\n",
      "Selecting point  88\n",
      "Selecting point  89\n",
      "Selecting point  90\n",
      "Selecting point  91\n",
      "Selecting point  92\n",
      "Selecting point  93\n",
      "Selecting point  94\n",
      "Selecting point  95\n",
      "Selecting point  96\n",
      "Selecting point  97\n",
      "Selecting point  98\n",
      "Selecting point  99\n",
      "Selecting point  100\n",
      "Selecting point  101\n",
      "Selecting point  102\n",
      "Selecting point  103\n",
      "Selecting point  104\n",
      "Selecting point  105\n",
      "Selecting point  106\n",
      "Selecting point  107\n",
      "Selecting point  108\n",
      "Selecting point  109\n",
      "Selecting point  110\n",
      "Selecting point  111\n",
      "Selecting point  112\n",
      "Selecting point  113\n",
      "Selecting point  114\n",
      "Selecting point  115\n",
      "Selecting point  116\n",
      "Selecting point  117\n",
      "Selecting point  118\n",
      "Selecting point  119\n",
      "Selecting point  120\n",
      "Selecting point  121\n",
      "Selecting point  122\n",
      "Selecting point  123\n",
      "Selecting point  124\n",
      "Selecting point  125\n",
      "Selecting point  126\n",
      "Selecting point  127\n",
      "Selecting point  128\n",
      "Selecting point  129\n",
      "Selecting point  130\n",
      "Selecting point  131\n",
      "Selecting point  132\n",
      "Selecting point  133\n",
      "Selecting point  134\n",
      "Selecting point  135\n",
      "Selecting point  136\n",
      "Selecting point  137\n",
      "Selecting point  138\n",
      "Selecting point  139\n",
      "Selecting point  140\n",
      "Selecting point  141\n",
      "Selecting point  142\n",
      "Selecting point  143\n",
      "Selecting point  144\n",
      "Selecting point  145\n",
      "Selecting point  146\n",
      "Selecting point  147\n",
      "Selecting point  148\n",
      "Selecting point  149\n",
      "Selecting point  150\n",
      "Selecting point  151\n",
      "Selecting point  152\n",
      "Selecting point  153\n",
      "Selecting point  154\n",
      "Selecting point  155\n",
      "Total number of materials :  196\n",
      "Number of features:  10\n",
      "0.890893917722348\n",
      "0.8908938838163112\n",
      "0.8910286976027848\n",
      "0.890898498273198\n",
      "0.8908940495017422\n",
      "0.8908938840310533\n",
      "0.8909107212307106\n",
      "0.8908939559505651\n",
      "0.8908938889434227\n",
      "0.8908995299392327\n",
      "0.890894965580556\n",
      "0.8908941112066465\n",
      "0.8908938838631235\n",
      "0.8908938851135091\n",
      "0.890894742626298\n",
      "0.8908938976746255\n",
      "0.8908948288977309\n",
      "0.8908938865024311\n",
      "0.890893885215102\n",
      "0.8908938844404075\n",
      "0.8908938835802047\n",
      "0.890893884334055\n",
      "0.8908938936054444\n",
      "0.8908939033587853\n",
      "0.8908942829540951\n",
      "0.8908938846380463\n",
      "0.8908938838631755\n",
      "0.8908938851008512\n",
      "0.891067129480201\n",
      "0.8908938838631235\n",
      "0.8908939758692085\n",
      "0.8908949441440959\n",
      "0.8908938960434108\n",
      "0.8908960648377515\n",
      "0.8908939348302045\n",
      "0.8908938843335088\n",
      "0.8908938848438849\n",
      "0.8908938863745398\n",
      "0.8908938854963001\n",
      "0.8908938851692925\n",
      "0.8908941266331967\n",
      "0.8909591109838685\n",
      "0.8908938843372963\n",
      "0.8908938910642974\n",
      "0.8908939650226573\n",
      "0.89089397284512\n",
      "0.8908938833166629\n",
      "0.890894310710066\n",
      "0.8908939083638995\n",
      "0.8908938873203247\n",
      "0.8908938838271003\n",
      "0.8908938851056336\n",
      "0.8908939039939335\n",
      "0.8908940280469496\n",
      "0.8908938878754302\n",
      "0.8908939000230035\n",
      "0.8908939250498109\n",
      "0.8908938873044363\n",
      "0.8908944288467444\n",
      "0.8909072904140615\n",
      "0.8908938848312895\n",
      "0.8908938848298718\n",
      "0.8908938835550761\n",
      "0.890894066247202\n",
      "0.890893884261747\n",
      "0.890902817083818\n",
      "0.8909052590635825\n",
      "0.8908939359331283\n",
      "0.8908939022585253\n",
      "0.8908940684422033\n",
      "0.8908954330338368\n",
      "0.8909193605327305\n",
      "0.890893884247929\n",
      "0.8908938845522517\n",
      "0.890893885381381\n",
      "0.8909780283590225\n",
      "0.8908938840228904\n",
      "0.8908938841356372\n",
      "0.8908955625696194\n",
      "0.8908939109525734\n",
      "0.8908938904774203\n",
      "0.8908945184758357\n",
      "0.8909734025767584\n",
      "0.8908939528079769\n",
      "0.8908938853918652\n",
      "0.8908939292533044\n",
      "0.8908938860005844\n",
      "0.8908943273240227\n",
      "0.8908982157776366\n",
      "0.8908938852341656\n",
      "0.890893884895297\n",
      "0.8908939975794408\n",
      "0.8908938967486527\n",
      "0.8908938842572027\n",
      "0.8908938845358751\n",
      "0.8909022922952079\n",
      "0.8908938840289284\n",
      "0.8909102019416224\n",
      "0.8908938898554233\n",
      "0.8908938837089971\n",
      "Training: r2,mae,rmse:  0.8506266787393396 0.45356867787893135 0.5987285152934495\n",
      "Test: r2,mae,rmse:  0.7299228675753755 0.4363047564581228 0.5198396099610672\n",
      "                  Importance\n",
      "fr_allylic_oxid     0.529653\n",
      "FractionCSP3        0.512848\n",
      "SlogP_VSA6          0.105643\n",
      "SMR_VSA7            0.105643\n",
      "PEOE_VSA9           0.268607\n",
      "PEOE_VSA8           0.200812\n",
      "FpDensityMorgan1    1.060978\n",
      "EState_VSA1         0.845455\n",
      "AvgIpc              0.325358\n",
      "Chi1v               0.279218\n"
     ]
    }
   ],
   "source": [
    "data_prepare(data_csv=\"./ipcc_dataset.csv\",mm = \"Kr\", tar = \"LF\",verbos=False)\n",
    "df_Xtrain, df_Ytrain, df_Xtest, df_Ytest=data_split(mm = \"Kr\", tar = \"LF\",ratio = 0.8,verbos = True)\n",
    "df_Xtrain, df_Ytrain, df_Xtest, df_Ytest=normal(df_Xtrain, df_Ytrain, df_Xtest, df_Ytest, mm='Kr',tar='LF')\n",
    "kr(df_Xtrain, df_Ytrain, df_Xtest, df_Ytest, tar='LF', n_job=1, call=100, save = True)"
   ]
  },
  {
   "cell_type": "code",
   "execution_count": 11,
   "id": "7727475c-194d-4d4b-8c81-5bb436e4a12b",
   "metadata": {
    "scrolled": true
   },
   "outputs": [
    {
     "name": "stdout",
     "output_type": "stream",
     "text": [
      "Selecting point  1\n",
      "Selecting point  2\n",
      "Selecting point  3\n",
      "Selecting point  4\n",
      "Selecting point  5\n",
      "Selecting point  6\n",
      "Selecting point  7\n",
      "Selecting point  8\n",
      "Selecting point  9\n",
      "Selecting point  10\n",
      "Selecting point  11\n",
      "Selecting point  12\n",
      "Selecting point  13\n",
      "Selecting point  14\n",
      "Selecting point  15\n",
      "Selecting point  16\n",
      "Selecting point  17\n",
      "Selecting point  18\n",
      "Selecting point  19\n",
      "Selecting point  20\n",
      "Selecting point  21\n",
      "Selecting point  22\n",
      "Selecting point  23\n",
      "Selecting point  24\n",
      "Selecting point  25\n",
      "Selecting point  26\n",
      "Selecting point  27\n",
      "Selecting point  28\n",
      "Selecting point  29\n",
      "Selecting point  30\n",
      "Selecting point  31\n",
      "Selecting point  32\n",
      "Selecting point  33\n",
      "Selecting point  34\n",
      "Selecting point  35\n",
      "Selecting point  36\n",
      "Selecting point  37\n",
      "Selecting point  38\n",
      "Selecting point  39\n",
      "Selecting point  40\n",
      "Selecting point  41\n",
      "Selecting point  42\n",
      "Selecting point  43\n",
      "Selecting point  44\n",
      "Selecting point  45\n",
      "Selecting point  46\n",
      "Selecting point  47\n",
      "Selecting point  48\n",
      "Selecting point  49\n",
      "Selecting point  50\n",
      "Selecting point  51\n",
      "Selecting point  52\n",
      "Selecting point  53\n",
      "Selecting point  54\n",
      "Selecting point  55\n",
      "Selecting point  56\n",
      "Selecting point  57\n",
      "Selecting point  58\n",
      "Selecting point  59\n",
      "Selecting point  60\n",
      "Selecting point  61\n",
      "Selecting point  62\n",
      "Selecting point  63\n",
      "Selecting point  64\n",
      "Selecting point  65\n",
      "Selecting point  66\n",
      "Selecting point  67\n",
      "Selecting point  68\n",
      "Selecting point  69\n",
      "Selecting point  70\n",
      "Selecting point  71\n",
      "Selecting point  72\n",
      "Selecting point  73\n",
      "Selecting point  74\n",
      "Selecting point  75\n",
      "Selecting point  76\n",
      "Selecting point  77\n",
      "Selecting point  78\n",
      "Selecting point  79\n",
      "Selecting point  80\n",
      "Selecting point  81\n",
      "Selecting point  82\n",
      "Selecting point  83\n",
      "Selecting point  84\n",
      "Selecting point  85\n",
      "Selecting point  86\n",
      "Selecting point  87\n",
      "Selecting point  88\n",
      "Selecting point  89\n",
      "Selecting point  90\n",
      "Selecting point  91\n",
      "Selecting point  92\n",
      "Selecting point  93\n",
      "Selecting point  94\n",
      "Selecting point  95\n",
      "Selecting point  96\n",
      "Selecting point  97\n",
      "Selecting point  98\n",
      "Selecting point  99\n",
      "Selecting point  100\n",
      "Selecting point  101\n",
      "Selecting point  102\n",
      "Selecting point  103\n",
      "Selecting point  104\n",
      "Selecting point  105\n",
      "Selecting point  106\n",
      "Selecting point  107\n",
      "Selecting point  108\n",
      "Selecting point  109\n",
      "Selecting point  110\n",
      "Selecting point  111\n",
      "Selecting point  112\n",
      "Selecting point  113\n",
      "Selecting point  114\n",
      "Selecting point  115\n",
      "Selecting point  116\n",
      "Selecting point  117\n",
      "Selecting point  118\n",
      "Selecting point  119\n",
      "Selecting point  120\n",
      "Selecting point  121\n",
      "Selecting point  122\n",
      "Selecting point  123\n",
      "Selecting point  124\n",
      "Selecting point  125\n",
      "Selecting point  126\n",
      "Selecting point  127\n",
      "Selecting point  128\n",
      "Selecting point  129\n",
      "Selecting point  130\n",
      "Selecting point  131\n",
      "Selecting point  132\n",
      "Selecting point  133\n",
      "Selecting point  134\n",
      "Selecting point  135\n",
      "Selecting point  136\n",
      "Selecting point  137\n",
      "Selecting point  138\n",
      "Selecting point  139\n",
      "Selecting point  140\n",
      "Selecting point  141\n",
      "Selecting point  142\n",
      "Selecting point  143\n",
      "Selecting point  144\n",
      "Selecting point  145\n",
      "Selecting point  146\n",
      "Selecting point  147\n",
      "Selecting point  148\n",
      "Selecting point  149\n",
      "Selecting point  150\n",
      "Selecting point  151\n",
      "Selecting point  152\n",
      "Selecting point  153\n",
      "Selecting point  154\n",
      "Selecting point  155\n",
      "Total number of materials :  196\n",
      "Number of features:  10\n",
      "0.589234577700436\n",
      "0.6037885837498423\n",
      "0.4873830750084684\n",
      "0.5846847430869875\n",
      "0.5680012425635214\n",
      "0.7796256931318818\n",
      "0.6020256992917987\n",
      "0.5749089591103246\n",
      "0.5726181850451626\n",
      "0.4441640461694248\n",
      "0.41625962216886664\n",
      "0.42333281824369323\n",
      "0.4258568530278687\n",
      "0.418856259988833\n",
      "0.42448541456284017\n",
      "0.4363732009087811\n",
      "0.6021628687334375\n",
      "0.45196878564335796\n",
      "0.4241431017442709\n",
      "0.4432742855594146\n",
      "0.8366125625956563\n",
      "0.9533114193101511\n",
      "0.5866526066796116\n",
      "0.44449188086744806\n",
      "0.5691244813350752\n",
      "0.4195350709262506\n",
      "0.4199795972388931\n",
      "0.4559947854509332\n",
      "0.42536914582189667\n",
      "0.4295244930420837\n",
      "0.4509748460957817\n",
      "0.4255411398535184\n",
      "0.42921935302714215\n",
      "0.5808638321160474\n",
      "0.42736555700211404\n",
      "0.5072186370454563\n",
      "0.41996892009449355\n",
      "0.4244879251522641\n",
      "0.43834417179525875\n",
      "0.40876195606438487\n",
      "0.41734845804048304\n"
     ]
    },
    {
     "name": "stderr",
     "output_type": "stream",
     "text": [
      "/root/anaconda3/envs/gwp/lib/python3.12/site-packages/skopt/optimizer/optimizer.py:449: UserWarning: The objective has been evaluated at this point before.\n",
      "  warnings.warn(\"The objective has been evaluated \"\n"
     ]
    },
    {
     "name": "stdout",
     "output_type": "stream",
     "text": [
      "0.42570010578677087\n",
      "0.4250882626760998\n",
      "0.4301382137426426\n",
      "0.43570564200343487\n",
      "0.4282925211194574\n"
     ]
    },
    {
     "name": "stderr",
     "output_type": "stream",
     "text": [
      "/root/anaconda3/envs/gwp/lib/python3.12/site-packages/skopt/optimizer/optimizer.py:449: UserWarning: The objective has been evaluated at this point before.\n",
      "  warnings.warn(\"The objective has been evaluated \"\n"
     ]
    },
    {
     "name": "stdout",
     "output_type": "stream",
     "text": [
      "0.4294423267778066\n",
      "0.441100144928396\n",
      "0.4387292088142085\n",
      "0.4094794867633862\n",
      "0.4197273033270631\n"
     ]
    },
    {
     "name": "stderr",
     "output_type": "stream",
     "text": [
      "/root/anaconda3/envs/gwp/lib/python3.12/site-packages/skopt/optimizer/optimizer.py:449: UserWarning: The objective has been evaluated at this point before.\n",
      "  warnings.warn(\"The objective has been evaluated \"\n"
     ]
    },
    {
     "name": "stdout",
     "output_type": "stream",
     "text": [
      "0.42284256867153525\n",
      "0.4316132234344356\n",
      "0.4260417715610367\n",
      "0.41732790353849386\n"
     ]
    },
    {
     "name": "stderr",
     "output_type": "stream",
     "text": [
      "/root/anaconda3/envs/gwp/lib/python3.12/site-packages/skopt/optimizer/optimizer.py:449: UserWarning: The objective has been evaluated at this point before.\n",
      "  warnings.warn(\"The objective has been evaluated \"\n"
     ]
    },
    {
     "name": "stdout",
     "output_type": "stream",
     "text": [
      "0.4139488555051571\n"
     ]
    },
    {
     "name": "stderr",
     "output_type": "stream",
     "text": [
      "/root/anaconda3/envs/gwp/lib/python3.12/site-packages/skopt/optimizer/optimizer.py:449: UserWarning: The objective has been evaluated at this point before.\n",
      "  warnings.warn(\"The objective has been evaluated \"\n"
     ]
    },
    {
     "name": "stdout",
     "output_type": "stream",
     "text": [
      "0.41478125462918947\n"
     ]
    },
    {
     "name": "stderr",
     "output_type": "stream",
     "text": [
      "/root/anaconda3/envs/gwp/lib/python3.12/site-packages/skopt/optimizer/optimizer.py:449: UserWarning: The objective has been evaluated at this point before.\n",
      "  warnings.warn(\"The objective has been evaluated \"\n"
     ]
    },
    {
     "name": "stdout",
     "output_type": "stream",
     "text": [
      "0.4176110658198585\n"
     ]
    },
    {
     "name": "stderr",
     "output_type": "stream",
     "text": [
      "/root/anaconda3/envs/gwp/lib/python3.12/site-packages/skopt/optimizer/optimizer.py:449: UserWarning: The objective has been evaluated at this point before.\n",
      "  warnings.warn(\"The objective has been evaluated \"\n"
     ]
    },
    {
     "name": "stdout",
     "output_type": "stream",
     "text": [
      "0.42439650056340594\n",
      "0.4157365865732457\n"
     ]
    },
    {
     "name": "stderr",
     "output_type": "stream",
     "text": [
      "/root/anaconda3/envs/gwp/lib/python3.12/site-packages/skopt/optimizer/optimizer.py:449: UserWarning: The objective has been evaluated at this point before.\n",
      "  warnings.warn(\"The objective has been evaluated \"\n"
     ]
    },
    {
     "name": "stdout",
     "output_type": "stream",
     "text": [
      "0.4321873592175519\n",
      "0.42643908060895475\n",
      "0.41254652658595753\n"
     ]
    },
    {
     "name": "stderr",
     "output_type": "stream",
     "text": [
      "/root/anaconda3/envs/gwp/lib/python3.12/site-packages/skopt/optimizer/optimizer.py:449: UserWarning: The objective has been evaluated at this point before.\n",
      "  warnings.warn(\"The objective has been evaluated \"\n"
     ]
    },
    {
     "name": "stdout",
     "output_type": "stream",
     "text": [
      "0.4272607720207854\n"
     ]
    },
    {
     "name": "stderr",
     "output_type": "stream",
     "text": [
      "/root/anaconda3/envs/gwp/lib/python3.12/site-packages/skopt/optimizer/optimizer.py:449: UserWarning: The objective has been evaluated at this point before.\n",
      "  warnings.warn(\"The objective has been evaluated \"\n"
     ]
    },
    {
     "name": "stdout",
     "output_type": "stream",
     "text": [
      "0.4212659976206553\n",
      "0.4222831855988266\n",
      "0.4207676263037615\n",
      "0.427399661219009\n",
      "0.4152858947655943\n"
     ]
    },
    {
     "name": "stderr",
     "output_type": "stream",
     "text": [
      "/root/anaconda3/envs/gwp/lib/python3.12/site-packages/skopt/optimizer/optimizer.py:449: UserWarning: The objective has been evaluated at this point before.\n",
      "  warnings.warn(\"The objective has been evaluated \"\n"
     ]
    },
    {
     "name": "stdout",
     "output_type": "stream",
     "text": [
      "0.4353806600578706\n"
     ]
    },
    {
     "name": "stderr",
     "output_type": "stream",
     "text": [
      "/root/anaconda3/envs/gwp/lib/python3.12/site-packages/skopt/optimizer/optimizer.py:449: UserWarning: The objective has been evaluated at this point before.\n",
      "  warnings.warn(\"The objective has been evaluated \"\n"
     ]
    },
    {
     "name": "stdout",
     "output_type": "stream",
     "text": [
      "0.41960519260087253\n",
      "0.43020043196861063\n"
     ]
    },
    {
     "name": "stderr",
     "output_type": "stream",
     "text": [
      "/root/anaconda3/envs/gwp/lib/python3.12/site-packages/skopt/optimizer/optimizer.py:449: UserWarning: The objective has been evaluated at this point before.\n",
      "  warnings.warn(\"The objective has been evaluated \"\n"
     ]
    },
    {
     "name": "stdout",
     "output_type": "stream",
     "text": [
      "0.4278927918957936\n"
     ]
    },
    {
     "name": "stderr",
     "output_type": "stream",
     "text": [
      "/root/anaconda3/envs/gwp/lib/python3.12/site-packages/skopt/optimizer/optimizer.py:449: UserWarning: The objective has been evaluated at this point before.\n",
      "  warnings.warn(\"The objective has been evaluated \"\n"
     ]
    },
    {
     "name": "stdout",
     "output_type": "stream",
     "text": [
      "0.43176731611631586\n"
     ]
    },
    {
     "name": "stderr",
     "output_type": "stream",
     "text": [
      "/root/anaconda3/envs/gwp/lib/python3.12/site-packages/skopt/optimizer/optimizer.py:449: UserWarning: The objective has been evaluated at this point before.\n",
      "  warnings.warn(\"The objective has been evaluated \"\n"
     ]
    },
    {
     "name": "stdout",
     "output_type": "stream",
     "text": [
      "0.41130315738738926\n"
     ]
    },
    {
     "name": "stderr",
     "output_type": "stream",
     "text": [
      "/root/anaconda3/envs/gwp/lib/python3.12/site-packages/skopt/optimizer/optimizer.py:449: UserWarning: The objective has been evaluated at this point before.\n",
      "  warnings.warn(\"The objective has been evaluated \"\n"
     ]
    },
    {
     "name": "stdout",
     "output_type": "stream",
     "text": [
      "0.4222057671556131\n",
      "0.4268333069096073\n",
      "0.4263676598445022\n"
     ]
    },
    {
     "name": "stderr",
     "output_type": "stream",
     "text": [
      "/root/anaconda3/envs/gwp/lib/python3.12/site-packages/skopt/optimizer/optimizer.py:449: UserWarning: The objective has been evaluated at this point before.\n",
      "  warnings.warn(\"The objective has been evaluated \"\n"
     ]
    },
    {
     "name": "stdout",
     "output_type": "stream",
     "text": [
      "0.42126127352597376\n",
      "0.4352004771413728\n"
     ]
    },
    {
     "name": "stderr",
     "output_type": "stream",
     "text": [
      "/root/anaconda3/envs/gwp/lib/python3.12/site-packages/skopt/optimizer/optimizer.py:449: UserWarning: The objective has been evaluated at this point before.\n",
      "  warnings.warn(\"The objective has been evaluated \"\n"
     ]
    },
    {
     "name": "stdout",
     "output_type": "stream",
     "text": [
      "0.427349453320636\n"
     ]
    },
    {
     "name": "stderr",
     "output_type": "stream",
     "text": [
      "/root/anaconda3/envs/gwp/lib/python3.12/site-packages/skopt/optimizer/optimizer.py:449: UserWarning: The objective has been evaluated at this point before.\n",
      "  warnings.warn(\"The objective has been evaluated \"\n"
     ]
    },
    {
     "name": "stdout",
     "output_type": "stream",
     "text": [
      "0.4203346461991101\n"
     ]
    },
    {
     "name": "stderr",
     "output_type": "stream",
     "text": [
      "/root/anaconda3/envs/gwp/lib/python3.12/site-packages/skopt/optimizer/optimizer.py:449: UserWarning: The objective has been evaluated at this point before.\n",
      "  warnings.warn(\"The objective has been evaluated \"\n"
     ]
    },
    {
     "name": "stdout",
     "output_type": "stream",
     "text": [
      "0.42858887333609175\n"
     ]
    },
    {
     "name": "stderr",
     "output_type": "stream",
     "text": [
      "/root/anaconda3/envs/gwp/lib/python3.12/site-packages/skopt/optimizer/optimizer.py:449: UserWarning: The objective has been evaluated at this point before.\n",
      "  warnings.warn(\"The objective has been evaluated \"\n"
     ]
    },
    {
     "name": "stdout",
     "output_type": "stream",
     "text": [
      "0.4203825921319061\n"
     ]
    },
    {
     "name": "stderr",
     "output_type": "stream",
     "text": [
      "/root/anaconda3/envs/gwp/lib/python3.12/site-packages/skopt/optimizer/optimizer.py:449: UserWarning: The objective has been evaluated at this point before.\n",
      "  warnings.warn(\"The objective has been evaluated \"\n"
     ]
    },
    {
     "name": "stdout",
     "output_type": "stream",
     "text": [
      "0.424839541127934\n",
      "0.4302801891968889\n",
      "0.41715515421502447\n",
      "0.410798031081851\n"
     ]
    },
    {
     "name": "stderr",
     "output_type": "stream",
     "text": [
      "/root/anaconda3/envs/gwp/lib/python3.12/site-packages/skopt/optimizer/optimizer.py:449: UserWarning: The objective has been evaluated at this point before.\n",
      "  warnings.warn(\"The objective has been evaluated \"\n"
     ]
    },
    {
     "name": "stdout",
     "output_type": "stream",
     "text": [
      "0.4230507719644253\n"
     ]
    },
    {
     "name": "stderr",
     "output_type": "stream",
     "text": [
      "/root/anaconda3/envs/gwp/lib/python3.12/site-packages/skopt/optimizer/optimizer.py:449: UserWarning: The objective has been evaluated at this point before.\n",
      "  warnings.warn(\"The objective has been evaluated \"\n"
     ]
    },
    {
     "name": "stdout",
     "output_type": "stream",
     "text": [
      "0.424279887416923\n"
     ]
    },
    {
     "name": "stderr",
     "output_type": "stream",
     "text": [
      "/root/anaconda3/envs/gwp/lib/python3.12/site-packages/skopt/optimizer/optimizer.py:449: UserWarning: The objective has been evaluated at this point before.\n",
      "  warnings.warn(\"The objective has been evaluated \"\n"
     ]
    },
    {
     "name": "stdout",
     "output_type": "stream",
     "text": [
      "0.4313803680269217\n",
      "0.42967994534984344\n"
     ]
    },
    {
     "name": "stderr",
     "output_type": "stream",
     "text": [
      "/root/anaconda3/envs/gwp/lib/python3.12/site-packages/skopt/optimizer/optimizer.py:449: UserWarning: The objective has been evaluated at this point before.\n",
      "  warnings.warn(\"The objective has been evaluated \"\n"
     ]
    },
    {
     "name": "stdout",
     "output_type": "stream",
     "text": [
      "0.43498354390361715\n"
     ]
    },
    {
     "name": "stderr",
     "output_type": "stream",
     "text": [
      "/root/anaconda3/envs/gwp/lib/python3.12/site-packages/skopt/optimizer/optimizer.py:449: UserWarning: The objective has been evaluated at this point before.\n",
      "  warnings.warn(\"The objective has been evaluated \"\n"
     ]
    },
    {
     "name": "stdout",
     "output_type": "stream",
     "text": [
      "0.4339124032817912\n",
      "0.42965212284879106\n",
      "0.4275164055804478\n",
      "0.42053398316103846\n"
     ]
    },
    {
     "name": "stderr",
     "output_type": "stream",
     "text": [
      "/root/anaconda3/envs/gwp/lib/python3.12/site-packages/skopt/optimizer/optimizer.py:449: UserWarning: The objective has been evaluated at this point before.\n",
      "  warnings.warn(\"The objective has been evaluated \"\n"
     ]
    },
    {
     "name": "stdout",
     "output_type": "stream",
     "text": [
      "0.42967622513800074\n"
     ]
    },
    {
     "name": "stderr",
     "output_type": "stream",
     "text": [
      "/root/anaconda3/envs/gwp/lib/python3.12/site-packages/skopt/optimizer/optimizer.py:449: UserWarning: The objective has been evaluated at this point before.\n",
      "  warnings.warn(\"The objective has been evaluated \"\n"
     ]
    },
    {
     "name": "stdout",
     "output_type": "stream",
     "text": [
      "0.42597478961260027\n",
      "0.4330965422913321\n",
      "Best score=0.4088\n",
      "Training: r2,mae,rmse:  0.9227705368391516 0.3714415511809194 0.42312697347782086\n",
      "Test: r2,mae,rmse:  0.8315312945969316 0.335212445858416 0.4750792585281196\n",
      "impact:  Index(['IP', 'MinAbsEStateIndex', 'FpDensityMorgan3', 'BCUT2D_MWHI',\n",
      "       'FractionCSP3', 'Chi2v', 'FpDensityMorgan2', 'HomoLumoGap', 'AvgIpc',\n",
      "       'SlogP_VSA6'],\n",
      "      dtype='object') [0.51787698 0.15264136 0.05710554 0.08450952 0.04876023 0.02818951\n",
      " 0.02074708 0.03312961 0.03533555 0.02170461]\n"
     ]
    }
   ],
   "source": [
    "data_prepare(data_csv=\"./ipcc_dataset.csv\",mm = \"Ada\", tar = \"LF\",verbos=False)\n",
    "df_Xtrain, df_Ytrain, df_Xtest, df_Ytest=data_split(mm = \"Ada\", tar = \"LF\",ratio = 0.8,verbos = True)\n",
    "df_Xtrain, df_Ytrain, df_Xtest, df_Ytest=normal(df_Xtrain, df_Ytrain, df_Xtest, df_Ytest, mm='Ada',tar='LF')\n",
    "ada(df_Xtrain, df_Ytrain, df_Xtest, df_Ytest, tar='LF', n_job=1, call=100, save = True)"
   ]
  },
  {
   "cell_type": "code",
   "execution_count": 12,
   "id": "f054de1f-6b81-47d2-8515-b2e9be84349f",
   "metadata": {
    "scrolled": true
   },
   "outputs": [
    {
     "name": "stdout",
     "output_type": "stream",
     "text": [
      "Selecting point  1\n",
      "Selecting point  2\n",
      "Selecting point  3\n",
      "Selecting point  4\n",
      "Selecting point  5\n",
      "Selecting point  6\n",
      "Selecting point  7\n",
      "Selecting point  8\n",
      "Selecting point  9\n",
      "Selecting point  10\n",
      "Selecting point  11\n",
      "Selecting point  12\n",
      "Selecting point  13\n",
      "Selecting point  14\n",
      "Selecting point  15\n",
      "Selecting point  16\n",
      "Selecting point  17\n",
      "Selecting point  18\n",
      "Selecting point  19\n",
      "Selecting point  20\n",
      "Selecting point  21\n",
      "Selecting point  22\n",
      "Selecting point  23\n",
      "Selecting point  24\n",
      "Selecting point  25\n",
      "Selecting point  26\n",
      "Selecting point  27\n",
      "Selecting point  28\n",
      "Selecting point  29\n",
      "Selecting point  30\n",
      "Selecting point  31\n",
      "Selecting point  32\n",
      "Selecting point  33\n",
      "Selecting point  34\n",
      "Selecting point  35\n",
      "Selecting point  36\n",
      "Selecting point  37\n",
      "Selecting point  38\n",
      "Selecting point  39\n",
      "Selecting point  40\n",
      "Selecting point  41\n",
      "Selecting point  42\n",
      "Selecting point  43\n",
      "Selecting point  44\n",
      "Selecting point  45\n",
      "Selecting point  46\n",
      "Selecting point  47\n",
      "Selecting point  48\n",
      "Selecting point  49\n",
      "Selecting point  50\n",
      "Selecting point  51\n",
      "Selecting point  52\n",
      "Selecting point  53\n",
      "Selecting point  54\n",
      "Selecting point  55\n",
      "Selecting point  56\n",
      "Selecting point  57\n",
      "Selecting point  58\n",
      "Selecting point  59\n",
      "Selecting point  60\n",
      "Selecting point  61\n",
      "Selecting point  62\n",
      "Selecting point  63\n",
      "Selecting point  64\n",
      "Selecting point  65\n",
      "Selecting point  66\n",
      "Selecting point  67\n",
      "Selecting point  68\n",
      "Selecting point  69\n",
      "Selecting point  70\n",
      "Selecting point  71\n",
      "Selecting point  72\n",
      "Selecting point  73\n",
      "Selecting point  74\n",
      "Selecting point  75\n",
      "Selecting point  76\n",
      "Selecting point  77\n",
      "Selecting point  78\n",
      "Selecting point  79\n",
      "Selecting point  80\n",
      "Selecting point  81\n",
      "Selecting point  82\n",
      "Selecting point  83\n",
      "Selecting point  84\n",
      "Selecting point  85\n",
      "Selecting point  86\n",
      "Selecting point  87\n",
      "Selecting point  88\n",
      "Selecting point  89\n",
      "Selecting point  90\n",
      "Selecting point  91\n",
      "Selecting point  92\n",
      "Selecting point  93\n",
      "Selecting point  94\n",
      "Selecting point  95\n",
      "Selecting point  96\n",
      "Selecting point  97\n",
      "Selecting point  98\n",
      "Selecting point  99\n",
      "Selecting point  100\n",
      "Selecting point  101\n",
      "Selecting point  102\n",
      "Selecting point  103\n",
      "Selecting point  104\n",
      "Selecting point  105\n",
      "Selecting point  106\n",
      "Selecting point  107\n",
      "Selecting point  108\n",
      "Selecting point  109\n",
      "Selecting point  110\n",
      "Selecting point  111\n",
      "Selecting point  112\n",
      "Selecting point  113\n",
      "Selecting point  114\n",
      "Selecting point  115\n",
      "Selecting point  116\n",
      "Selecting point  117\n",
      "Selecting point  118\n",
      "Selecting point  119\n",
      "Selecting point  120\n",
      "Selecting point  121\n",
      "Selecting point  122\n",
      "Selecting point  123\n",
      "Selecting point  124\n",
      "Selecting point  125\n",
      "Selecting point  126\n",
      "Selecting point  127\n",
      "Selecting point  128\n",
      "Selecting point  129\n",
      "Selecting point  130\n",
      "Selecting point  131\n",
      "Selecting point  132\n",
      "Selecting point  133\n",
      "Selecting point  134\n",
      "Selecting point  135\n",
      "Selecting point  136\n",
      "Selecting point  137\n",
      "Selecting point  138\n",
      "Selecting point  139\n",
      "Selecting point  140\n",
      "Selecting point  141\n",
      "Selecting point  142\n",
      "Selecting point  143\n",
      "Selecting point  144\n",
      "Selecting point  145\n",
      "Selecting point  146\n",
      "Selecting point  147\n",
      "Selecting point  148\n",
      "Selecting point  149\n",
      "Selecting point  150\n",
      "Selecting point  151\n",
      "Selecting point  152\n",
      "Selecting point  153\n",
      "Selecting point  154\n",
      "Selecting point  155\n",
      "Total number of materials :  196\n",
      "Number of features:  10\n",
      "2.2903317015565503\n",
      "2.2777360081922278\n",
      "1.3987290526023672\n",
      "1.1580141196856604\n",
      "2.2779494206786293\n",
      "0.8164340334943345\n",
      "2.281091795230922\n",
      "2.2576938062139855\n",
      "0.7818698798976597\n",
      "2.273469198477101\n",
      "0.7451835015966233\n",
      "0.8874971591418269\n"
     ]
    },
    {
     "name": "stderr",
     "output_type": "stream",
     "text": [
      "/root/anaconda3/envs/gwp/lib/python3.12/site-packages/skopt/optimizer/optimizer.py:449: UserWarning: The objective has been evaluated at this point before.\n",
      "  warnings.warn(\"The objective has been evaluated \"\n",
      "/root/anaconda3/envs/gwp/lib/python3.12/site-packages/skopt/optimizer/optimizer.py:449: UserWarning: The objective has been evaluated at this point before.\n",
      "  warnings.warn(\"The objective has been evaluated \"\n"
     ]
    },
    {
     "name": "stdout",
     "output_type": "stream",
     "text": [
      "0.7451835015966233\n",
      "0.7451835015966233\n",
      "0.7452412505794811\n",
      "0.7452125163349146\n",
      "0.7452236152824694\n",
      "0.7452172674936256\n",
      "0.7450780370996773\n",
      "0.7452158252625327\n",
      "0.7452193655667513\n",
      "0.7452952329400164\n",
      "0.7451379081266535\n",
      "0.7469739309192438\n",
      "0.747130488411792\n",
      "0.7448209420650115\n",
      "0.7447791768759997\n",
      "0.7452041375993537\n",
      "0.7448579567610808\n",
      "0.7448619275297317\n",
      "0.7487964402297869\n",
      "0.7454142352078984\n",
      "0.7450065273899333\n",
      "0.794782542011177\n",
      "0.7458186503639209\n",
      "0.7453059280081009\n",
      "0.7451942778625387\n",
      "0.7448912745995606\n",
      "0.7417762926295731\n",
      "2.291949893015689\n",
      "0.7448462089487207\n",
      "0.7450650945722629\n",
      "0.7405871388943639\n",
      "0.7411036110601549\n",
      "0.7404581299198718\n",
      "0.7405094878955322\n",
      "0.7407039337836909\n",
      "0.7407656381755285\n",
      "0.7408162159288284\n",
      "0.7408113633160816\n",
      "0.7408012608254315\n",
      "0.7408284068694899\n",
      "0.7408540713944451\n",
      "0.7406186367130771\n",
      "0.7405090086941077\n",
      "0.7410760169494188\n",
      "0.7411789777576774\n",
      "0.7412554655680411\n",
      "0.741053598371076\n",
      "0.7451965094382744\n",
      "0.7412100353259912\n",
      "0.7412148591538893\n",
      "0.740842945174729\n",
      "0.7410671555581534\n",
      "0.7412670734390442\n",
      "0.7451451992954461\n",
      "0.7411347043780215\n",
      "0.7449840855849613\n",
      "0.7412575253280981\n",
      "0.741145311745979\n",
      "0.7411394333963768\n",
      "0.7411559447223632\n",
      "0.7410519654915937\n",
      "0.7411729670840214\n",
      "0.7412317498837772\n",
      "0.7411736873725093\n",
      "0.7411614400902946\n",
      "0.7411921022506831\n",
      "0.7452140304234449\n",
      "0.7411419769303298\n",
      "0.7411343000697798\n",
      "0.7410693655952456\n",
      "0.7411242140838996\n",
      "0.7405707450242234\n",
      "0.7410688101574285\n",
      "0.745196619031389\n",
      "0.7411398107150167\n",
      "0.7411988847534204\n",
      "0.7452180243386388\n",
      "0.7411167507798868\n",
      "0.7411766280548553\n",
      "0.741098396403418\n",
      "0.7411949029925978\n",
      "0.7411384839952102\n",
      "0.7451919121446784\n",
      "0.7408010077090916\n",
      "0.7409876319970796\n",
      "0.7408329499647006\n",
      "0.7409524360860864\n",
      "0.74121148679209\n",
      "Best score=0.7405\n",
      "Training: r2,mae,rmse:  0.8444153487989332 0.4001860627689514 0.5950771921033513\n",
      "Test: r2,mae,rmse:  0.8712242534533501 0.3747567764288703 0.4413277917661004\n",
      "                   Importance\n",
      "IP                   0.352431\n",
      "FractionCSP3         0.027887\n",
      "SMR_VSA7             0.101968\n",
      "SlogP_VSA6           0.101968\n",
      "HomoLumoGap          0.050566\n",
      "MinAbsEStateIndex    0.130109\n",
      "FpDensityMorgan3     0.133823\n",
      "PEOE_VSA12           0.013459\n",
      "FpDensityMorgan2     0.123688\n",
      "FpDensityMorgan1     0.053730\n"
     ]
    }
   ],
   "source": [
    "data_prepare(data_csv=\"./ipcc_dataset.csv\",mm = \"SVR\", tar = \"LF\",verbos=False)\n",
    "df_Xtrain, df_Ytrain, df_Xtest, df_Ytest=data_split(mm = \"SVR\", tar = \"LF\",ratio = 0.8,verbos = True)\n",
    "df_Xtrain, df_Ytrain, df_Xtest, df_Ytest=normal(df_Xtrain, df_Ytrain, df_Xtest, df_Ytest, mm='SVR',tar='LF')\n",
    "svr(df_Xtrain, df_Ytrain, df_Xtest, df_Ytest, tar='LF', n_job=1, call=100, save = True)"
   ]
  },
  {
   "cell_type": "code",
   "execution_count": 13,
   "id": "2a173974-cff5-4ef7-b776-0dc5fef595b4",
   "metadata": {
    "scrolled": true
   },
   "outputs": [
    {
     "name": "stdout",
     "output_type": "stream",
     "text": [
      "Selecting point  1\n",
      "Selecting point  2\n",
      "Selecting point  3\n",
      "Selecting point  4\n",
      "Selecting point  5\n",
      "Selecting point  6\n",
      "Selecting point  7\n",
      "Selecting point  8\n",
      "Selecting point  9\n",
      "Selecting point  10\n",
      "Selecting point  11\n",
      "Selecting point  12\n",
      "Selecting point  13\n",
      "Selecting point  14\n",
      "Selecting point  15\n",
      "Selecting point  16\n",
      "Selecting point  17\n",
      "Selecting point  18\n",
      "Selecting point  19\n",
      "Selecting point  20\n",
      "Selecting point  21\n",
      "Selecting point  22\n",
      "Selecting point  23\n",
      "Selecting point  24\n",
      "Selecting point  25\n",
      "Selecting point  26\n",
      "Selecting point  27\n",
      "Selecting point  28\n",
      "Selecting point  29\n",
      "Selecting point  30\n",
      "Selecting point  31\n",
      "Selecting point  32\n",
      "Selecting point  33\n",
      "Selecting point  34\n",
      "Selecting point  35\n",
      "Selecting point  36\n",
      "Selecting point  37\n",
      "Selecting point  38\n",
      "Selecting point  39\n",
      "Selecting point  40\n",
      "Selecting point  41\n",
      "Selecting point  42\n",
      "Selecting point  43\n",
      "Selecting point  44\n",
      "Selecting point  45\n",
      "Selecting point  46\n",
      "Selecting point  47\n",
      "Selecting point  48\n",
      "Selecting point  49\n",
      "Selecting point  50\n",
      "Selecting point  51\n",
      "Selecting point  52\n",
      "Selecting point  53\n",
      "Selecting point  54\n",
      "Selecting point  55\n",
      "Selecting point  56\n",
      "Selecting point  57\n",
      "Selecting point  58\n",
      "Selecting point  59\n",
      "Selecting point  60\n",
      "Selecting point  61\n",
      "Selecting point  62\n",
      "Selecting point  63\n",
      "Selecting point  64\n",
      "Selecting point  65\n",
      "Selecting point  66\n",
      "Selecting point  67\n",
      "Selecting point  68\n",
      "Selecting point  69\n",
      "Selecting point  70\n",
      "Selecting point  71\n",
      "Selecting point  72\n",
      "Selecting point  73\n",
      "Selecting point  74\n",
      "Selecting point  75\n",
      "Selecting point  76\n",
      "Selecting point  77\n",
      "Selecting point  78\n",
      "Selecting point  79\n",
      "Selecting point  80\n",
      "Selecting point  81\n",
      "Selecting point  82\n",
      "Selecting point  83\n",
      "Selecting point  84\n",
      "Selecting point  85\n",
      "Selecting point  86\n",
      "Selecting point  87\n",
      "Selecting point  88\n",
      "Selecting point  89\n",
      "Selecting point  90\n",
      "Selecting point  91\n",
      "Selecting point  92\n",
      "Selecting point  93\n",
      "Selecting point  94\n",
      "Selecting point  95\n",
      "Selecting point  96\n",
      "Selecting point  97\n",
      "Selecting point  98\n",
      "Selecting point  99\n",
      "Selecting point  100\n",
      "Selecting point  101\n",
      "Selecting point  102\n",
      "Selecting point  103\n",
      "Selecting point  104\n",
      "Selecting point  105\n",
      "Selecting point  106\n",
      "Selecting point  107\n",
      "Selecting point  108\n",
      "Selecting point  109\n",
      "Selecting point  110\n",
      "Selecting point  111\n",
      "Selecting point  112\n",
      "Selecting point  113\n",
      "Selecting point  114\n",
      "Selecting point  115\n",
      "Selecting point  116\n",
      "Selecting point  117\n",
      "Selecting point  118\n",
      "Selecting point  119\n",
      "Selecting point  120\n",
      "Selecting point  121\n",
      "Selecting point  122\n",
      "Selecting point  123\n",
      "Selecting point  124\n",
      "Selecting point  125\n",
      "Selecting point  126\n",
      "Selecting point  127\n",
      "Selecting point  128\n",
      "Selecting point  129\n",
      "Selecting point  130\n",
      "Selecting point  131\n",
      "Selecting point  132\n",
      "Selecting point  133\n",
      "Selecting point  134\n",
      "Selecting point  135\n",
      "Selecting point  136\n",
      "Selecting point  137\n",
      "Selecting point  138\n",
      "Selecting point  139\n",
      "Selecting point  140\n",
      "Selecting point  141\n",
      "Selecting point  142\n",
      "Selecting point  143\n",
      "Selecting point  144\n",
      "Selecting point  145\n",
      "Selecting point  146\n",
      "Selecting point  147\n",
      "Selecting point  148\n",
      "Selecting point  149\n",
      "Selecting point  150\n",
      "Selecting point  151\n",
      "Selecting point  152\n",
      "Selecting point  153\n",
      "Selecting point  154\n",
      "Selecting point  155\n",
      "Total number of materials :  196\n",
      "Number of features:  10\n",
      "0.6300057908387869\n",
      "0.749528636451697\n",
      "0.6337117357240113\n",
      "0.7117892493446096\n",
      "0.6256216853579395\n",
      "0.7363670479543722\n",
      "0.6635151196509796\n",
      "0.7799609734047275\n",
      "0.6779211752810792\n",
      "0.7363670479543722\n",
      "0.6392527225749705\n",
      "0.7682633036484793\n",
      "0.7682633036484792\n",
      "0.6238867686490631\n",
      "0.8117267503976153\n",
      "0.6306794904576517\n",
      "0.6789652900712742\n"
     ]
    },
    {
     "name": "stderr",
     "output_type": "stream",
     "text": [
      "/root/anaconda3/envs/gwp/lib/python3.12/site-packages/skopt/optimizer/optimizer.py:449: UserWarning: The objective has been evaluated at this point before.\n",
      "  warnings.warn(\"The objective has been evaluated \"\n",
      "/root/anaconda3/envs/gwp/lib/python3.12/site-packages/skopt/optimizer/optimizer.py:449: UserWarning: The objective has been evaluated at this point before.\n",
      "  warnings.warn(\"The objective has been evaluated \"\n"
     ]
    },
    {
     "name": "stdout",
     "output_type": "stream",
     "text": [
      "0.6238867686490631\n",
      "0.6238867686490631\n",
      "0.6935120393431801\n",
      "0.6680506490661944\n",
      "0.653155246311392\n"
     ]
    },
    {
     "name": "stderr",
     "output_type": "stream",
     "text": [
      "/root/anaconda3/envs/gwp/lib/python3.12/site-packages/skopt/optimizer/optimizer.py:449: UserWarning: The objective has been evaluated at this point before.\n",
      "  warnings.warn(\"The objective has been evaluated \"\n"
     ]
    },
    {
     "name": "stdout",
     "output_type": "stream",
     "text": [
      "0.6238867686490631\n"
     ]
    },
    {
     "name": "stderr",
     "output_type": "stream",
     "text": [
      "/root/anaconda3/envs/gwp/lib/python3.12/site-packages/skopt/optimizer/optimizer.py:449: UserWarning: The objective has been evaluated at this point before.\n",
      "  warnings.warn(\"The objective has been evaluated \"\n"
     ]
    },
    {
     "name": "stdout",
     "output_type": "stream",
     "text": [
      "0.6238867686490631\n",
      "0.628252002313263\n",
      "0.6622341358636114\n",
      "0.7193868199112632\n"
     ]
    },
    {
     "name": "stderr",
     "output_type": "stream",
     "text": [
      "/root/anaconda3/envs/gwp/lib/python3.12/site-packages/skopt/optimizer/optimizer.py:449: UserWarning: The objective has been evaluated at this point before.\n",
      "  warnings.warn(\"The objective has been evaluated \"\n"
     ]
    },
    {
     "name": "stdout",
     "output_type": "stream",
     "text": [
      "0.6238867686490631\n",
      "0.6525167385152322\n"
     ]
    },
    {
     "name": "stderr",
     "output_type": "stream",
     "text": [
      "/root/anaconda3/envs/gwp/lib/python3.12/site-packages/skopt/optimizer/optimizer.py:449: UserWarning: The objective has been evaluated at this point before.\n",
      "  warnings.warn(\"The objective has been evaluated \"\n"
     ]
    },
    {
     "name": "stdout",
     "output_type": "stream",
     "text": [
      "0.6238867686490631\n",
      "0.6492125684134489\n",
      "0.7070454852103435\n",
      "0.6993068207474255\n",
      "0.65373918550312\n"
     ]
    },
    {
     "name": "stderr",
     "output_type": "stream",
     "text": [
      "/root/anaconda3/envs/gwp/lib/python3.12/site-packages/skopt/optimizer/optimizer.py:449: UserWarning: The objective has been evaluated at this point before.\n",
      "  warnings.warn(\"The objective has been evaluated \"\n"
     ]
    },
    {
     "name": "stdout",
     "output_type": "stream",
     "text": [
      "0.6238867686490631\n",
      "0.667079121620538\n",
      "0.669743302546184\n"
     ]
    },
    {
     "name": "stderr",
     "output_type": "stream",
     "text": [
      "/root/anaconda3/envs/gwp/lib/python3.12/site-packages/skopt/optimizer/optimizer.py:449: UserWarning: The objective has been evaluated at this point before.\n",
      "  warnings.warn(\"The objective has been evaluated \"\n"
     ]
    },
    {
     "name": "stdout",
     "output_type": "stream",
     "text": [
      "0.6238867686490631\n"
     ]
    },
    {
     "name": "stderr",
     "output_type": "stream",
     "text": [
      "/root/anaconda3/envs/gwp/lib/python3.12/site-packages/skopt/optimizer/optimizer.py:449: UserWarning: The objective has been evaluated at this point before.\n",
      "  warnings.warn(\"The objective has been evaluated \"\n"
     ]
    },
    {
     "name": "stdout",
     "output_type": "stream",
     "text": [
      "0.6238867686490631\n"
     ]
    },
    {
     "name": "stderr",
     "output_type": "stream",
     "text": [
      "/root/anaconda3/envs/gwp/lib/python3.12/site-packages/skopt/optimizer/optimizer.py:449: UserWarning: The objective has been evaluated at this point before.\n",
      "  warnings.warn(\"The objective has been evaluated \"\n"
     ]
    },
    {
     "name": "stdout",
     "output_type": "stream",
     "text": [
      "0.6238867686490631\n",
      "0.6628186548031807\n"
     ]
    },
    {
     "name": "stderr",
     "output_type": "stream",
     "text": [
      "/root/anaconda3/envs/gwp/lib/python3.12/site-packages/skopt/optimizer/optimizer.py:449: UserWarning: The objective has been evaluated at this point before.\n",
      "  warnings.warn(\"The objective has been evaluated \"\n"
     ]
    },
    {
     "name": "stdout",
     "output_type": "stream",
     "text": [
      "0.6238867686490631\n"
     ]
    },
    {
     "name": "stderr",
     "output_type": "stream",
     "text": [
      "/root/anaconda3/envs/gwp/lib/python3.12/site-packages/skopt/optimizer/optimizer.py:449: UserWarning: The objective has been evaluated at this point before.\n",
      "  warnings.warn(\"The objective has been evaluated \"\n"
     ]
    },
    {
     "name": "stdout",
     "output_type": "stream",
     "text": [
      "0.6238867686490631\n"
     ]
    },
    {
     "name": "stderr",
     "output_type": "stream",
     "text": [
      "/root/anaconda3/envs/gwp/lib/python3.12/site-packages/skopt/optimizer/optimizer.py:449: UserWarning: The objective has been evaluated at this point before.\n",
      "  warnings.warn(\"The objective has been evaluated \"\n"
     ]
    },
    {
     "name": "stdout",
     "output_type": "stream",
     "text": [
      "0.6238867686490631\n"
     ]
    },
    {
     "name": "stderr",
     "output_type": "stream",
     "text": [
      "/root/anaconda3/envs/gwp/lib/python3.12/site-packages/skopt/optimizer/optimizer.py:449: UserWarning: The objective has been evaluated at this point before.\n",
      "  warnings.warn(\"The objective has been evaluated \"\n"
     ]
    },
    {
     "name": "stdout",
     "output_type": "stream",
     "text": [
      "0.6238867686490631\n"
     ]
    },
    {
     "name": "stderr",
     "output_type": "stream",
     "text": [
      "/root/anaconda3/envs/gwp/lib/python3.12/site-packages/skopt/optimizer/optimizer.py:449: UserWarning: The objective has been evaluated at this point before.\n",
      "  warnings.warn(\"The objective has been evaluated \"\n"
     ]
    },
    {
     "name": "stdout",
     "output_type": "stream",
     "text": [
      "0.6238867686490631\n"
     ]
    },
    {
     "name": "stderr",
     "output_type": "stream",
     "text": [
      "/root/anaconda3/envs/gwp/lib/python3.12/site-packages/skopt/optimizer/optimizer.py:449: UserWarning: The objective has been evaluated at this point before.\n",
      "  warnings.warn(\"The objective has been evaluated \"\n"
     ]
    },
    {
     "name": "stdout",
     "output_type": "stream",
     "text": [
      "0.6238867686490631\n"
     ]
    },
    {
     "name": "stderr",
     "output_type": "stream",
     "text": [
      "/root/anaconda3/envs/gwp/lib/python3.12/site-packages/skopt/optimizer/optimizer.py:449: UserWarning: The objective has been evaluated at this point before.\n",
      "  warnings.warn(\"The objective has been evaluated \"\n"
     ]
    },
    {
     "name": "stdout",
     "output_type": "stream",
     "text": [
      "0.6238867686490631\n"
     ]
    },
    {
     "name": "stderr",
     "output_type": "stream",
     "text": [
      "/root/anaconda3/envs/gwp/lib/python3.12/site-packages/skopt/optimizer/optimizer.py:449: UserWarning: The objective has been evaluated at this point before.\n",
      "  warnings.warn(\"The objective has been evaluated \"\n"
     ]
    },
    {
     "name": "stdout",
     "output_type": "stream",
     "text": [
      "0.6238867686490631\n"
     ]
    },
    {
     "name": "stderr",
     "output_type": "stream",
     "text": [
      "/root/anaconda3/envs/gwp/lib/python3.12/site-packages/skopt/optimizer/optimizer.py:449: UserWarning: The objective has been evaluated at this point before.\n",
      "  warnings.warn(\"The objective has been evaluated \"\n"
     ]
    },
    {
     "name": "stdout",
     "output_type": "stream",
     "text": [
      "0.6238867686490631\n"
     ]
    },
    {
     "name": "stderr",
     "output_type": "stream",
     "text": [
      "/root/anaconda3/envs/gwp/lib/python3.12/site-packages/skopt/optimizer/optimizer.py:449: UserWarning: The objective has been evaluated at this point before.\n",
      "  warnings.warn(\"The objective has been evaluated \"\n"
     ]
    },
    {
     "name": "stdout",
     "output_type": "stream",
     "text": [
      "0.6238867686490631\n"
     ]
    },
    {
     "name": "stderr",
     "output_type": "stream",
     "text": [
      "/root/anaconda3/envs/gwp/lib/python3.12/site-packages/skopt/optimizer/optimizer.py:449: UserWarning: The objective has been evaluated at this point before.\n",
      "  warnings.warn(\"The objective has been evaluated \"\n"
     ]
    },
    {
     "name": "stdout",
     "output_type": "stream",
     "text": [
      "0.6238867686490631\n"
     ]
    },
    {
     "name": "stderr",
     "output_type": "stream",
     "text": [
      "/root/anaconda3/envs/gwp/lib/python3.12/site-packages/skopt/optimizer/optimizer.py:449: UserWarning: The objective has been evaluated at this point before.\n",
      "  warnings.warn(\"The objective has been evaluated \"\n"
     ]
    },
    {
     "name": "stdout",
     "output_type": "stream",
     "text": [
      "0.6238867686490631\n"
     ]
    },
    {
     "name": "stderr",
     "output_type": "stream",
     "text": [
      "/root/anaconda3/envs/gwp/lib/python3.12/site-packages/skopt/optimizer/optimizer.py:449: UserWarning: The objective has been evaluated at this point before.\n",
      "  warnings.warn(\"The objective has been evaluated \"\n"
     ]
    },
    {
     "name": "stdout",
     "output_type": "stream",
     "text": [
      "0.6238867686490631\n"
     ]
    },
    {
     "name": "stderr",
     "output_type": "stream",
     "text": [
      "/root/anaconda3/envs/gwp/lib/python3.12/site-packages/skopt/optimizer/optimizer.py:449: UserWarning: The objective has been evaluated at this point before.\n",
      "  warnings.warn(\"The objective has been evaluated \"\n"
     ]
    },
    {
     "name": "stdout",
     "output_type": "stream",
     "text": [
      "0.6238867686490631\n"
     ]
    },
    {
     "name": "stderr",
     "output_type": "stream",
     "text": [
      "/root/anaconda3/envs/gwp/lib/python3.12/site-packages/skopt/optimizer/optimizer.py:449: UserWarning: The objective has been evaluated at this point before.\n",
      "  warnings.warn(\"The objective has been evaluated \"\n"
     ]
    },
    {
     "name": "stdout",
     "output_type": "stream",
     "text": [
      "0.6238867686490631\n",
      "0.6541254867730817\n"
     ]
    },
    {
     "name": "stderr",
     "output_type": "stream",
     "text": [
      "/root/anaconda3/envs/gwp/lib/python3.12/site-packages/skopt/optimizer/optimizer.py:449: UserWarning: The objective has been evaluated at this point before.\n",
      "  warnings.warn(\"The objective has been evaluated \"\n"
     ]
    },
    {
     "name": "stdout",
     "output_type": "stream",
     "text": [
      "0.6238867686490631\n"
     ]
    },
    {
     "name": "stderr",
     "output_type": "stream",
     "text": [
      "/root/anaconda3/envs/gwp/lib/python3.12/site-packages/skopt/optimizer/optimizer.py:449: UserWarning: The objective has been evaluated at this point before.\n",
      "  warnings.warn(\"The objective has been evaluated \"\n"
     ]
    },
    {
     "name": "stdout",
     "output_type": "stream",
     "text": [
      "0.6238867686490631\n"
     ]
    },
    {
     "name": "stderr",
     "output_type": "stream",
     "text": [
      "/root/anaconda3/envs/gwp/lib/python3.12/site-packages/skopt/optimizer/optimizer.py:449: UserWarning: The objective has been evaluated at this point before.\n",
      "  warnings.warn(\"The objective has been evaluated \"\n"
     ]
    },
    {
     "name": "stdout",
     "output_type": "stream",
     "text": [
      "0.6238867686490631\n"
     ]
    },
    {
     "name": "stderr",
     "output_type": "stream",
     "text": [
      "/root/anaconda3/envs/gwp/lib/python3.12/site-packages/skopt/optimizer/optimizer.py:449: UserWarning: The objective has been evaluated at this point before.\n",
      "  warnings.warn(\"The objective has been evaluated \"\n"
     ]
    },
    {
     "name": "stdout",
     "output_type": "stream",
     "text": [
      "0.6238867686490631\n"
     ]
    },
    {
     "name": "stderr",
     "output_type": "stream",
     "text": [
      "/root/anaconda3/envs/gwp/lib/python3.12/site-packages/skopt/optimizer/optimizer.py:449: UserWarning: The objective has been evaluated at this point before.\n",
      "  warnings.warn(\"The objective has been evaluated \"\n"
     ]
    },
    {
     "name": "stdout",
     "output_type": "stream",
     "text": [
      "0.6238867686490631\n"
     ]
    },
    {
     "name": "stderr",
     "output_type": "stream",
     "text": [
      "/root/anaconda3/envs/gwp/lib/python3.12/site-packages/skopt/optimizer/optimizer.py:449: UserWarning: The objective has been evaluated at this point before.\n",
      "  warnings.warn(\"The objective has been evaluated \"\n"
     ]
    },
    {
     "name": "stdout",
     "output_type": "stream",
     "text": [
      "0.6238867686490631\n"
     ]
    },
    {
     "name": "stderr",
     "output_type": "stream",
     "text": [
      "/root/anaconda3/envs/gwp/lib/python3.12/site-packages/skopt/optimizer/optimizer.py:449: UserWarning: The objective has been evaluated at this point before.\n",
      "  warnings.warn(\"The objective has been evaluated \"\n"
     ]
    },
    {
     "name": "stdout",
     "output_type": "stream",
     "text": [
      "0.6238867686490631\n"
     ]
    },
    {
     "name": "stderr",
     "output_type": "stream",
     "text": [
      "/root/anaconda3/envs/gwp/lib/python3.12/site-packages/skopt/optimizer/optimizer.py:449: UserWarning: The objective has been evaluated at this point before.\n",
      "  warnings.warn(\"The objective has been evaluated \"\n"
     ]
    },
    {
     "name": "stdout",
     "output_type": "stream",
     "text": [
      "0.6238867686490631\n"
     ]
    },
    {
     "name": "stderr",
     "output_type": "stream",
     "text": [
      "/root/anaconda3/envs/gwp/lib/python3.12/site-packages/skopt/optimizer/optimizer.py:449: UserWarning: The objective has been evaluated at this point before.\n",
      "  warnings.warn(\"The objective has been evaluated \"\n"
     ]
    },
    {
     "name": "stdout",
     "output_type": "stream",
     "text": [
      "0.6238867686490631\n",
      "0.6919844827302141\n"
     ]
    },
    {
     "name": "stderr",
     "output_type": "stream",
     "text": [
      "/root/anaconda3/envs/gwp/lib/python3.12/site-packages/skopt/optimizer/optimizer.py:449: UserWarning: The objective has been evaluated at this point before.\n",
      "  warnings.warn(\"The objective has been evaluated \"\n"
     ]
    },
    {
     "name": "stdout",
     "output_type": "stream",
     "text": [
      "0.6238867686490631\n"
     ]
    },
    {
     "name": "stderr",
     "output_type": "stream",
     "text": [
      "/root/anaconda3/envs/gwp/lib/python3.12/site-packages/skopt/optimizer/optimizer.py:449: UserWarning: The objective has been evaluated at this point before.\n",
      "  warnings.warn(\"The objective has been evaluated \"\n"
     ]
    },
    {
     "name": "stdout",
     "output_type": "stream",
     "text": [
      "0.6238867686490631\n"
     ]
    },
    {
     "name": "stderr",
     "output_type": "stream",
     "text": [
      "/root/anaconda3/envs/gwp/lib/python3.12/site-packages/skopt/optimizer/optimizer.py:449: UserWarning: The objective has been evaluated at this point before.\n",
      "  warnings.warn(\"The objective has been evaluated \"\n"
     ]
    },
    {
     "name": "stdout",
     "output_type": "stream",
     "text": [
      "0.6238867686490631\n"
     ]
    },
    {
     "name": "stderr",
     "output_type": "stream",
     "text": [
      "/root/anaconda3/envs/gwp/lib/python3.12/site-packages/skopt/optimizer/optimizer.py:449: UserWarning: The objective has been evaluated at this point before.\n",
      "  warnings.warn(\"The objective has been evaluated \"\n"
     ]
    },
    {
     "name": "stdout",
     "output_type": "stream",
     "text": [
      "0.6238867686490631\n"
     ]
    },
    {
     "name": "stderr",
     "output_type": "stream",
     "text": [
      "/root/anaconda3/envs/gwp/lib/python3.12/site-packages/skopt/optimizer/optimizer.py:449: UserWarning: The objective has been evaluated at this point before.\n",
      "  warnings.warn(\"The objective has been evaluated \"\n"
     ]
    },
    {
     "name": "stdout",
     "output_type": "stream",
     "text": [
      "0.6238867686490631\n"
     ]
    },
    {
     "name": "stderr",
     "output_type": "stream",
     "text": [
      "/root/anaconda3/envs/gwp/lib/python3.12/site-packages/skopt/optimizer/optimizer.py:449: UserWarning: The objective has been evaluated at this point before.\n",
      "  warnings.warn(\"The objective has been evaluated \"\n"
     ]
    },
    {
     "name": "stdout",
     "output_type": "stream",
     "text": [
      "0.6238867686490631\n"
     ]
    },
    {
     "name": "stderr",
     "output_type": "stream",
     "text": [
      "/root/anaconda3/envs/gwp/lib/python3.12/site-packages/skopt/optimizer/optimizer.py:449: UserWarning: The objective has been evaluated at this point before.\n",
      "  warnings.warn(\"The objective has been evaluated \"\n"
     ]
    },
    {
     "name": "stdout",
     "output_type": "stream",
     "text": [
      "0.6238867686490631\n"
     ]
    },
    {
     "name": "stderr",
     "output_type": "stream",
     "text": [
      "/root/anaconda3/envs/gwp/lib/python3.12/site-packages/skopt/optimizer/optimizer.py:449: UserWarning: The objective has been evaluated at this point before.\n",
      "  warnings.warn(\"The objective has been evaluated \"\n"
     ]
    },
    {
     "name": "stdout",
     "output_type": "stream",
     "text": [
      "0.6238867686490631\n"
     ]
    },
    {
     "name": "stderr",
     "output_type": "stream",
     "text": [
      "/root/anaconda3/envs/gwp/lib/python3.12/site-packages/skopt/optimizer/optimizer.py:449: UserWarning: The objective has been evaluated at this point before.\n",
      "  warnings.warn(\"The objective has been evaluated \"\n"
     ]
    },
    {
     "name": "stdout",
     "output_type": "stream",
     "text": [
      "0.6238867686490631\n"
     ]
    },
    {
     "name": "stderr",
     "output_type": "stream",
     "text": [
      "/root/anaconda3/envs/gwp/lib/python3.12/site-packages/skopt/optimizer/optimizer.py:449: UserWarning: The objective has been evaluated at this point before.\n",
      "  warnings.warn(\"The objective has been evaluated \"\n"
     ]
    },
    {
     "name": "stdout",
     "output_type": "stream",
     "text": [
      "0.6238867686490631\n"
     ]
    },
    {
     "name": "stderr",
     "output_type": "stream",
     "text": [
      "/root/anaconda3/envs/gwp/lib/python3.12/site-packages/skopt/optimizer/optimizer.py:449: UserWarning: The objective has been evaluated at this point before.\n",
      "  warnings.warn(\"The objective has been evaluated \"\n"
     ]
    },
    {
     "name": "stdout",
     "output_type": "stream",
     "text": [
      "0.6238867686490631\n"
     ]
    },
    {
     "name": "stderr",
     "output_type": "stream",
     "text": [
      "/root/anaconda3/envs/gwp/lib/python3.12/site-packages/skopt/optimizer/optimizer.py:449: UserWarning: The objective has been evaluated at this point before.\n",
      "  warnings.warn(\"The objective has been evaluated \"\n"
     ]
    },
    {
     "name": "stdout",
     "output_type": "stream",
     "text": [
      "0.6238867686490631\n"
     ]
    },
    {
     "name": "stderr",
     "output_type": "stream",
     "text": [
      "/root/anaconda3/envs/gwp/lib/python3.12/site-packages/skopt/optimizer/optimizer.py:449: UserWarning: The objective has been evaluated at this point before.\n",
      "  warnings.warn(\"The objective has been evaluated \"\n"
     ]
    },
    {
     "name": "stdout",
     "output_type": "stream",
     "text": [
      "0.6238867686490631\n"
     ]
    },
    {
     "name": "stderr",
     "output_type": "stream",
     "text": [
      "/root/anaconda3/envs/gwp/lib/python3.12/site-packages/skopt/optimizer/optimizer.py:449: UserWarning: The objective has been evaluated at this point before.\n",
      "  warnings.warn(\"The objective has been evaluated \"\n"
     ]
    },
    {
     "name": "stdout",
     "output_type": "stream",
     "text": [
      "0.6238867686490631\n"
     ]
    },
    {
     "name": "stderr",
     "output_type": "stream",
     "text": [
      "/root/anaconda3/envs/gwp/lib/python3.12/site-packages/skopt/optimizer/optimizer.py:449: UserWarning: The objective has been evaluated at this point before.\n",
      "  warnings.warn(\"The objective has been evaluated \"\n"
     ]
    },
    {
     "name": "stdout",
     "output_type": "stream",
     "text": [
      "0.6238867686490631\n"
     ]
    },
    {
     "name": "stderr",
     "output_type": "stream",
     "text": [
      "/root/anaconda3/envs/gwp/lib/python3.12/site-packages/skopt/optimizer/optimizer.py:449: UserWarning: The objective has been evaluated at this point before.\n",
      "  warnings.warn(\"The objective has been evaluated \"\n"
     ]
    },
    {
     "name": "stdout",
     "output_type": "stream",
     "text": [
      "0.6238867686490631\n"
     ]
    },
    {
     "name": "stderr",
     "output_type": "stream",
     "text": [
      "/root/anaconda3/envs/gwp/lib/python3.12/site-packages/skopt/optimizer/optimizer.py:449: UserWarning: The objective has been evaluated at this point before.\n",
      "  warnings.warn(\"The objective has been evaluated \"\n"
     ]
    },
    {
     "name": "stdout",
     "output_type": "stream",
     "text": [
      "0.6238867686490631\n"
     ]
    },
    {
     "name": "stderr",
     "output_type": "stream",
     "text": [
      "/root/anaconda3/envs/gwp/lib/python3.12/site-packages/skopt/optimizer/optimizer.py:449: UserWarning: The objective has been evaluated at this point before.\n",
      "  warnings.warn(\"The objective has been evaluated \"\n"
     ]
    },
    {
     "name": "stdout",
     "output_type": "stream",
     "text": [
      "0.6238867686490631\n"
     ]
    },
    {
     "name": "stderr",
     "output_type": "stream",
     "text": [
      "/root/anaconda3/envs/gwp/lib/python3.12/site-packages/skopt/optimizer/optimizer.py:449: UserWarning: The objective has been evaluated at this point before.\n",
      "  warnings.warn(\"The objective has been evaluated \"\n"
     ]
    },
    {
     "name": "stdout",
     "output_type": "stream",
     "text": [
      "0.6238867686490631\n"
     ]
    },
    {
     "name": "stderr",
     "output_type": "stream",
     "text": [
      "/root/anaconda3/envs/gwp/lib/python3.12/site-packages/skopt/optimizer/optimizer.py:449: UserWarning: The objective has been evaluated at this point before.\n",
      "  warnings.warn(\"The objective has been evaluated \"\n"
     ]
    },
    {
     "name": "stdout",
     "output_type": "stream",
     "text": [
      "0.6238867686490631\n"
     ]
    },
    {
     "name": "stderr",
     "output_type": "stream",
     "text": [
      "/root/anaconda3/envs/gwp/lib/python3.12/site-packages/skopt/optimizer/optimizer.py:449: UserWarning: The objective has been evaluated at this point before.\n",
      "  warnings.warn(\"The objective has been evaluated \"\n"
     ]
    },
    {
     "name": "stdout",
     "output_type": "stream",
     "text": [
      "0.6238867686490631\n"
     ]
    },
    {
     "name": "stderr",
     "output_type": "stream",
     "text": [
      "/root/anaconda3/envs/gwp/lib/python3.12/site-packages/skopt/optimizer/optimizer.py:449: UserWarning: The objective has been evaluated at this point before.\n",
      "  warnings.warn(\"The objective has been evaluated \"\n"
     ]
    },
    {
     "name": "stdout",
     "output_type": "stream",
     "text": [
      "0.6238867686490631\n"
     ]
    },
    {
     "name": "stderr",
     "output_type": "stream",
     "text": [
      "/root/anaconda3/envs/gwp/lib/python3.12/site-packages/skopt/optimizer/optimizer.py:449: UserWarning: The objective has been evaluated at this point before.\n",
      "  warnings.warn(\"The objective has been evaluated \"\n"
     ]
    },
    {
     "name": "stdout",
     "output_type": "stream",
     "text": [
      "0.6238867686490631\n"
     ]
    },
    {
     "name": "stderr",
     "output_type": "stream",
     "text": [
      "/root/anaconda3/envs/gwp/lib/python3.12/site-packages/skopt/optimizer/optimizer.py:449: UserWarning: The objective has been evaluated at this point before.\n",
      "  warnings.warn(\"The objective has been evaluated \"\n"
     ]
    },
    {
     "name": "stdout",
     "output_type": "stream",
     "text": [
      "0.6238867686490631\n"
     ]
    },
    {
     "name": "stderr",
     "output_type": "stream",
     "text": [
      "/root/anaconda3/envs/gwp/lib/python3.12/site-packages/skopt/optimizer/optimizer.py:449: UserWarning: The objective has been evaluated at this point before.\n",
      "  warnings.warn(\"The objective has been evaluated \"\n"
     ]
    },
    {
     "name": "stdout",
     "output_type": "stream",
     "text": [
      "0.6238867686490631\n"
     ]
    },
    {
     "name": "stderr",
     "output_type": "stream",
     "text": [
      "/root/anaconda3/envs/gwp/lib/python3.12/site-packages/skopt/optimizer/optimizer.py:449: UserWarning: The objective has been evaluated at this point before.\n",
      "  warnings.warn(\"The objective has been evaluated \"\n"
     ]
    },
    {
     "name": "stdout",
     "output_type": "stream",
     "text": [
      "0.6238867686490631\n"
     ]
    },
    {
     "name": "stderr",
     "output_type": "stream",
     "text": [
      "/root/anaconda3/envs/gwp/lib/python3.12/site-packages/skopt/optimizer/optimizer.py:449: UserWarning: The objective has been evaluated at this point before.\n",
      "  warnings.warn(\"The objective has been evaluated \"\n"
     ]
    },
    {
     "name": "stdout",
     "output_type": "stream",
     "text": [
      "0.6238867686490631\n"
     ]
    },
    {
     "name": "stderr",
     "output_type": "stream",
     "text": [
      "/root/anaconda3/envs/gwp/lib/python3.12/site-packages/skopt/optimizer/optimizer.py:449: UserWarning: The objective has been evaluated at this point before.\n",
      "  warnings.warn(\"The objective has been evaluated \"\n"
     ]
    },
    {
     "name": "stdout",
     "output_type": "stream",
     "text": [
      "0.6238867686490631\n"
     ]
    },
    {
     "name": "stderr",
     "output_type": "stream",
     "text": [
      "/root/anaconda3/envs/gwp/lib/python3.12/site-packages/skopt/optimizer/optimizer.py:449: UserWarning: The objective has been evaluated at this point before.\n",
      "  warnings.warn(\"The objective has been evaluated \"\n"
     ]
    },
    {
     "name": "stdout",
     "output_type": "stream",
     "text": [
      "0.6238867686490631\n"
     ]
    },
    {
     "name": "stderr",
     "output_type": "stream",
     "text": [
      "/root/anaconda3/envs/gwp/lib/python3.12/site-packages/skopt/optimizer/optimizer.py:449: UserWarning: The objective has been evaluated at this point before.\n",
      "  warnings.warn(\"The objective has been evaluated \"\n"
     ]
    },
    {
     "name": "stdout",
     "output_type": "stream",
     "text": [
      "0.6238867686490631\n"
     ]
    },
    {
     "name": "stderr",
     "output_type": "stream",
     "text": [
      "/root/anaconda3/envs/gwp/lib/python3.12/site-packages/skopt/optimizer/optimizer.py:449: UserWarning: The objective has been evaluated at this point before.\n",
      "  warnings.warn(\"The objective has been evaluated \"\n"
     ]
    },
    {
     "name": "stdout",
     "output_type": "stream",
     "text": [
      "0.6238867686490631\n"
     ]
    },
    {
     "name": "stderr",
     "output_type": "stream",
     "text": [
      "/root/anaconda3/envs/gwp/lib/python3.12/site-packages/skopt/optimizer/optimizer.py:449: UserWarning: The objective has been evaluated at this point before.\n",
      "  warnings.warn(\"The objective has been evaluated \"\n"
     ]
    },
    {
     "name": "stdout",
     "output_type": "stream",
     "text": [
      "0.6238867686490631\n"
     ]
    },
    {
     "name": "stderr",
     "output_type": "stream",
     "text": [
      "/root/anaconda3/envs/gwp/lib/python3.12/site-packages/skopt/optimizer/optimizer.py:449: UserWarning: The objective has been evaluated at this point before.\n",
      "  warnings.warn(\"The objective has been evaluated \"\n"
     ]
    },
    {
     "name": "stdout",
     "output_type": "stream",
     "text": [
      "0.6238867686490631\n",
      "Best score=0.6239\n",
      "Training: r2,mae,rmse:  1.0 0.0 0.0\n",
      "Test: r2,mae,rmse:  0.8957353119715679 0.3248094901812772 0.41879155033089155\n",
      "                   Importance\n",
      "FractionCSP3         0.006996\n",
      "SMR_VSA7             0.005185\n",
      "SlogP_VSA6           0.005185\n",
      "IP                   0.184204\n",
      "HomoLumoGap          0.093731\n",
      "MinAbsEStateIndex    0.256828\n",
      "SlogP_VSA5           0.102340\n",
      "PEOE_VSA11           0.000000\n",
      "fr_ester             0.000000\n",
      "PEOE_VSA10           0.084611\n"
     ]
    }
   ],
   "source": [
    "data_prepare(data_csv=\"./ipcc_dataset.csv\",mm = \"KNN\", tar = \"LF\",verbos=False)\n",
    "df_Xtrain, df_Ytrain, df_Xtest, df_Ytest=data_split(mm = \"KNN\", tar = \"LF\",ratio = 0.8,verbos = True)\n",
    "df_Xtrain, df_Ytrain, df_Xtest, df_Ytest=normal(df_Xtrain, df_Ytrain, df_Xtest, df_Ytest, mm='KNN',tar='LF')\n",
    "knn(df_Xtrain, df_Ytrain, df_Xtest, df_Ytest, tar='LF', n_job=1, call=100, save = True)"
   ]
  },
  {
   "cell_type": "code",
   "execution_count": 14,
   "id": "206d608a-7881-40c1-8c48-92638b94f2e6",
   "metadata": {
    "scrolled": true
   },
   "outputs": [
    {
     "name": "stdout",
     "output_type": "stream",
     "text": [
      "Selecting point  1\n",
      "Selecting point  2\n",
      "Selecting point  3\n",
      "Selecting point  4\n",
      "Selecting point  5\n",
      "Selecting point  6\n",
      "Selecting point  7\n",
      "Selecting point  8\n",
      "Selecting point  9\n",
      "Selecting point  10\n",
      "Selecting point  11\n",
      "Selecting point  12\n",
      "Selecting point  13\n",
      "Selecting point  14\n",
      "Selecting point  15\n",
      "Selecting point  16\n",
      "Selecting point  17\n",
      "Selecting point  18\n",
      "Selecting point  19\n",
      "Selecting point  20\n",
      "Selecting point  21\n",
      "Selecting point  22\n",
      "Selecting point  23\n",
      "Selecting point  24\n",
      "Selecting point  25\n",
      "Selecting point  26\n",
      "Selecting point  27\n",
      "Selecting point  28\n",
      "Selecting point  29\n",
      "Selecting point  30\n",
      "Selecting point  31\n",
      "Selecting point  32\n",
      "Selecting point  33\n",
      "Selecting point  34\n",
      "Selecting point  35\n",
      "Selecting point  36\n",
      "Selecting point  37\n",
      "Selecting point  38\n",
      "Selecting point  39\n",
      "Selecting point  40\n",
      "Selecting point  41\n",
      "Selecting point  42\n",
      "Selecting point  43\n",
      "Selecting point  44\n",
      "Selecting point  45\n",
      "Selecting point  46\n",
      "Selecting point  47\n",
      "Selecting point  48\n",
      "Selecting point  49\n",
      "Selecting point  50\n",
      "Selecting point  51\n",
      "Selecting point  52\n",
      "Selecting point  53\n",
      "Selecting point  54\n",
      "Selecting point  55\n",
      "Selecting point  56\n",
      "Selecting point  57\n",
      "Selecting point  58\n",
      "Selecting point  59\n",
      "Selecting point  60\n",
      "Selecting point  61\n",
      "Selecting point  62\n",
      "Selecting point  63\n",
      "Selecting point  64\n",
      "Selecting point  65\n",
      "Selecting point  66\n",
      "Selecting point  67\n",
      "Selecting point  68\n",
      "Selecting point  69\n",
      "Selecting point  70\n",
      "Selecting point  71\n",
      "Selecting point  72\n",
      "Selecting point  73\n",
      "Selecting point  74\n",
      "Selecting point  75\n",
      "Selecting point  76\n",
      "Selecting point  77\n",
      "Selecting point  78\n",
      "Selecting point  79\n",
      "Selecting point  80\n",
      "Selecting point  81\n",
      "Selecting point  82\n",
      "Selecting point  83\n",
      "Selecting point  84\n",
      "Selecting point  85\n",
      "Selecting point  86\n",
      "Selecting point  87\n",
      "Selecting point  88\n",
      "Selecting point  89\n",
      "Selecting point  90\n",
      "Selecting point  91\n",
      "Selecting point  92\n",
      "Selecting point  93\n",
      "Selecting point  94\n",
      "Selecting point  95\n",
      "Selecting point  96\n",
      "Selecting point  97\n",
      "Selecting point  98\n",
      "Selecting point  99\n",
      "Selecting point  100\n",
      "Selecting point  101\n",
      "Selecting point  102\n",
      "Selecting point  103\n",
      "Selecting point  104\n",
      "Selecting point  105\n",
      "Selecting point  106\n",
      "Selecting point  107\n",
      "Selecting point  108\n",
      "Selecting point  109\n",
      "Selecting point  110\n",
      "Selecting point  111\n",
      "Selecting point  112\n",
      "Selecting point  113\n",
      "Selecting point  114\n",
      "Selecting point  115\n",
      "Selecting point  116\n",
      "Selecting point  117\n",
      "Selecting point  118\n",
      "Selecting point  119\n",
      "Selecting point  120\n",
      "Selecting point  121\n",
      "Selecting point  122\n",
      "Selecting point  123\n",
      "Selecting point  124\n",
      "Selecting point  125\n",
      "Selecting point  126\n",
      "Selecting point  127\n",
      "Selecting point  128\n",
      "Selecting point  129\n",
      "Selecting point  130\n",
      "Selecting point  131\n",
      "Selecting point  132\n",
      "Selecting point  133\n",
      "Selecting point  134\n",
      "Selecting point  135\n",
      "Selecting point  136\n",
      "Selecting point  137\n",
      "Selecting point  138\n",
      "Selecting point  139\n",
      "Selecting point  140\n",
      "Selecting point  141\n",
      "Selecting point  142\n",
      "Selecting point  143\n",
      "Selecting point  144\n",
      "Selecting point  145\n",
      "Selecting point  146\n",
      "Selecting point  147\n",
      "Selecting point  148\n",
      "Selecting point  149\n",
      "Selecting point  150\n",
      "Selecting point  151\n",
      "Selecting point  152\n",
      "Selecting point  153\n",
      "Selecting point  154\n",
      "Selecting point  155\n",
      "Total number of materials :  196\n",
      "Number of features:  10\n"
     ]
    },
    {
     "name": "stderr",
     "output_type": "stream",
     "text": [
      "/root/anaconda3/envs/gwp/lib/python3.12/site-packages/skopt/optimizer/optimizer.py:449: UserWarning: The objective has been evaluated at this point before.\n",
      "  warnings.warn(\"The objective has been evaluated \"\n",
      "/root/anaconda3/envs/gwp/lib/python3.12/site-packages/skopt/optimizer/optimizer.py:449: UserWarning: The objective has been evaluated at this point before.\n",
      "  warnings.warn(\"The objective has been evaluated \"\n",
      "/root/anaconda3/envs/gwp/lib/python3.12/site-packages/skopt/optimizer/optimizer.py:449: UserWarning: The objective has been evaluated at this point before.\n",
      "  warnings.warn(\"The objective has been evaluated \"\n",
      "/root/anaconda3/envs/gwp/lib/python3.12/site-packages/skopt/optimizer/optimizer.py:449: UserWarning: The objective has been evaluated at this point before.\n",
      "  warnings.warn(\"The objective has been evaluated \"\n",
      "/root/anaconda3/envs/gwp/lib/python3.12/site-packages/skopt/optimizer/optimizer.py:449: UserWarning: The objective has been evaluated at this point before.\n",
      "  warnings.warn(\"The objective has been evaluated \"\n",
      "/root/anaconda3/envs/gwp/lib/python3.12/site-packages/skopt/optimizer/optimizer.py:449: UserWarning: The objective has been evaluated at this point before.\n",
      "  warnings.warn(\"The objective has been evaluated \"\n",
      "/root/anaconda3/envs/gwp/lib/python3.12/site-packages/skopt/optimizer/optimizer.py:449: UserWarning: The objective has been evaluated at this point before.\n",
      "  warnings.warn(\"The objective has been evaluated \"\n",
      "/root/anaconda3/envs/gwp/lib/python3.12/site-packages/skopt/optimizer/optimizer.py:449: UserWarning: The objective has been evaluated at this point before.\n",
      "  warnings.warn(\"The objective has been evaluated \"\n",
      "/root/anaconda3/envs/gwp/lib/python3.12/site-packages/skopt/optimizer/optimizer.py:449: UserWarning: The objective has been evaluated at this point before.\n",
      "  warnings.warn(\"The objective has been evaluated \"\n",
      "/root/anaconda3/envs/gwp/lib/python3.12/site-packages/skopt/optimizer/optimizer.py:449: UserWarning: The objective has been evaluated at this point before.\n",
      "  warnings.warn(\"The objective has been evaluated \"\n",
      "/root/anaconda3/envs/gwp/lib/python3.12/site-packages/skopt/optimizer/optimizer.py:449: UserWarning: The objective has been evaluated at this point before.\n",
      "  warnings.warn(\"The objective has been evaluated \"\n",
      "/root/anaconda3/envs/gwp/lib/python3.12/site-packages/skopt/optimizer/optimizer.py:449: UserWarning: The objective has been evaluated at this point before.\n",
      "  warnings.warn(\"The objective has been evaluated \"\n",
      "/root/anaconda3/envs/gwp/lib/python3.12/site-packages/skopt/optimizer/optimizer.py:449: UserWarning: The objective has been evaluated at this point before.\n",
      "  warnings.warn(\"The objective has been evaluated \"\n",
      "/root/anaconda3/envs/gwp/lib/python3.12/site-packages/skopt/optimizer/optimizer.py:449: UserWarning: The objective has been evaluated at this point before.\n",
      "  warnings.warn(\"The objective has been evaluated \"\n",
      "/root/anaconda3/envs/gwp/lib/python3.12/site-packages/skopt/optimizer/optimizer.py:449: UserWarning: The objective has been evaluated at this point before.\n",
      "  warnings.warn(\"The objective has been evaluated \"\n",
      "/root/anaconda3/envs/gwp/lib/python3.12/site-packages/skopt/optimizer/optimizer.py:449: UserWarning: The objective has been evaluated at this point before.\n",
      "  warnings.warn(\"The objective has been evaluated \"\n",
      "/root/anaconda3/envs/gwp/lib/python3.12/site-packages/skopt/optimizer/optimizer.py:449: UserWarning: The objective has been evaluated at this point before.\n",
      "  warnings.warn(\"The objective has been evaluated \"\n",
      "/root/anaconda3/envs/gwp/lib/python3.12/site-packages/skopt/optimizer/optimizer.py:449: UserWarning: The objective has been evaluated at this point before.\n",
      "  warnings.warn(\"The objective has been evaluated \"\n",
      "/root/anaconda3/envs/gwp/lib/python3.12/site-packages/skopt/optimizer/optimizer.py:449: UserWarning: The objective has been evaluated at this point before.\n",
      "  warnings.warn(\"The objective has been evaluated \"\n",
      "/root/anaconda3/envs/gwp/lib/python3.12/site-packages/skopt/optimizer/optimizer.py:449: UserWarning: The objective has been evaluated at this point before.\n",
      "  warnings.warn(\"The objective has been evaluated \"\n",
      "/root/anaconda3/envs/gwp/lib/python3.12/site-packages/skopt/optimizer/optimizer.py:449: UserWarning: The objective has been evaluated at this point before.\n",
      "  warnings.warn(\"The objective has been evaluated \"\n",
      "/root/anaconda3/envs/gwp/lib/python3.12/site-packages/skopt/optimizer/optimizer.py:449: UserWarning: The objective has been evaluated at this point before.\n",
      "  warnings.warn(\"The objective has been evaluated \"\n",
      "/root/anaconda3/envs/gwp/lib/python3.12/site-packages/skopt/optimizer/optimizer.py:449: UserWarning: The objective has been evaluated at this point before.\n",
      "  warnings.warn(\"The objective has been evaluated \"\n",
      "/root/anaconda3/envs/gwp/lib/python3.12/site-packages/skopt/optimizer/optimizer.py:449: UserWarning: The objective has been evaluated at this point before.\n",
      "  warnings.warn(\"The objective has been evaluated \"\n",
      "/root/anaconda3/envs/gwp/lib/python3.12/site-packages/skopt/optimizer/optimizer.py:449: UserWarning: The objective has been evaluated at this point before.\n",
      "  warnings.warn(\"The objective has been evaluated \"\n",
      "/root/anaconda3/envs/gwp/lib/python3.12/site-packages/skopt/optimizer/optimizer.py:449: UserWarning: The objective has been evaluated at this point before.\n",
      "  warnings.warn(\"The objective has been evaluated \"\n",
      "/root/anaconda3/envs/gwp/lib/python3.12/site-packages/skopt/optimizer/optimizer.py:449: UserWarning: The objective has been evaluated at this point before.\n",
      "  warnings.warn(\"The objective has been evaluated \"\n",
      "/root/anaconda3/envs/gwp/lib/python3.12/site-packages/skopt/optimizer/optimizer.py:449: UserWarning: The objective has been evaluated at this point before.\n",
      "  warnings.warn(\"The objective has been evaluated \"\n",
      "/root/anaconda3/envs/gwp/lib/python3.12/site-packages/skopt/optimizer/optimizer.py:449: UserWarning: The objective has been evaluated at this point before.\n",
      "  warnings.warn(\"The objective has been evaluated \"\n",
      "/root/anaconda3/envs/gwp/lib/python3.12/site-packages/skopt/optimizer/optimizer.py:449: UserWarning: The objective has been evaluated at this point before.\n",
      "  warnings.warn(\"The objective has been evaluated \"\n",
      "/root/anaconda3/envs/gwp/lib/python3.12/site-packages/skopt/optimizer/optimizer.py:449: UserWarning: The objective has been evaluated at this point before.\n",
      "  warnings.warn(\"The objective has been evaluated \"\n",
      "/root/anaconda3/envs/gwp/lib/python3.12/site-packages/skopt/optimizer/optimizer.py:449: UserWarning: The objective has been evaluated at this point before.\n",
      "  warnings.warn(\"The objective has been evaluated \"\n",
      "/root/anaconda3/envs/gwp/lib/python3.12/site-packages/skopt/optimizer/optimizer.py:449: UserWarning: The objective has been evaluated at this point before.\n",
      "  warnings.warn(\"The objective has been evaluated \"\n",
      "/root/anaconda3/envs/gwp/lib/python3.12/site-packages/skopt/optimizer/optimizer.py:449: UserWarning: The objective has been evaluated at this point before.\n",
      "  warnings.warn(\"The objective has been evaluated \"\n",
      "/root/anaconda3/envs/gwp/lib/python3.12/site-packages/skopt/optimizer/optimizer.py:449: UserWarning: The objective has been evaluated at this point before.\n",
      "  warnings.warn(\"The objective has been evaluated \"\n",
      "/root/anaconda3/envs/gwp/lib/python3.12/site-packages/skopt/optimizer/optimizer.py:449: UserWarning: The objective has been evaluated at this point before.\n",
      "  warnings.warn(\"The objective has been evaluated \"\n",
      "/root/anaconda3/envs/gwp/lib/python3.12/site-packages/skopt/optimizer/optimizer.py:449: UserWarning: The objective has been evaluated at this point before.\n",
      "  warnings.warn(\"The objective has been evaluated \"\n",
      "/root/anaconda3/envs/gwp/lib/python3.12/site-packages/skopt/optimizer/optimizer.py:449: UserWarning: The objective has been evaluated at this point before.\n",
      "  warnings.warn(\"The objective has been evaluated \"\n",
      "/root/anaconda3/envs/gwp/lib/python3.12/site-packages/skopt/optimizer/optimizer.py:449: UserWarning: The objective has been evaluated at this point before.\n",
      "  warnings.warn(\"The objective has been evaluated \"\n",
      "/root/anaconda3/envs/gwp/lib/python3.12/site-packages/skopt/optimizer/optimizer.py:449: UserWarning: The objective has been evaluated at this point before.\n",
      "  warnings.warn(\"The objective has been evaluated \"\n",
      "/root/anaconda3/envs/gwp/lib/python3.12/site-packages/skopt/optimizer/optimizer.py:449: UserWarning: The objective has been evaluated at this point before.\n",
      "  warnings.warn(\"The objective has been evaluated \"\n",
      "/root/anaconda3/envs/gwp/lib/python3.12/site-packages/skopt/optimizer/optimizer.py:449: UserWarning: The objective has been evaluated at this point before.\n",
      "  warnings.warn(\"The objective has been evaluated \"\n",
      "/root/anaconda3/envs/gwp/lib/python3.12/site-packages/skopt/optimizer/optimizer.py:449: UserWarning: The objective has been evaluated at this point before.\n",
      "  warnings.warn(\"The objective has been evaluated \"\n",
      "/root/anaconda3/envs/gwp/lib/python3.12/site-packages/skopt/optimizer/optimizer.py:449: UserWarning: The objective has been evaluated at this point before.\n",
      "  warnings.warn(\"The objective has been evaluated \"\n",
      "/root/anaconda3/envs/gwp/lib/python3.12/site-packages/skopt/optimizer/optimizer.py:449: UserWarning: The objective has been evaluated at this point before.\n",
      "  warnings.warn(\"The objective has been evaluated \"\n",
      "/root/anaconda3/envs/gwp/lib/python3.12/site-packages/skopt/optimizer/optimizer.py:449: UserWarning: The objective has been evaluated at this point before.\n",
      "  warnings.warn(\"The objective has been evaluated \"\n",
      "/root/anaconda3/envs/gwp/lib/python3.12/site-packages/skopt/optimizer/optimizer.py:449: UserWarning: The objective has been evaluated at this point before.\n",
      "  warnings.warn(\"The objective has been evaluated \"\n",
      "/root/anaconda3/envs/gwp/lib/python3.12/site-packages/skopt/optimizer/optimizer.py:449: UserWarning: The objective has been evaluated at this point before.\n",
      "  warnings.warn(\"The objective has been evaluated \"\n",
      "/root/anaconda3/envs/gwp/lib/python3.12/site-packages/skopt/optimizer/optimizer.py:449: UserWarning: The objective has been evaluated at this point before.\n",
      "  warnings.warn(\"The objective has been evaluated \"\n",
      "/root/anaconda3/envs/gwp/lib/python3.12/site-packages/skopt/optimizer/optimizer.py:449: UserWarning: The objective has been evaluated at this point before.\n",
      "  warnings.warn(\"The objective has been evaluated \"\n",
      "/root/anaconda3/envs/gwp/lib/python3.12/site-packages/skopt/optimizer/optimizer.py:449: UserWarning: The objective has been evaluated at this point before.\n",
      "  warnings.warn(\"The objective has been evaluated \"\n",
      "/root/anaconda3/envs/gwp/lib/python3.12/site-packages/skopt/optimizer/optimizer.py:449: UserWarning: The objective has been evaluated at this point before.\n",
      "  warnings.warn(\"The objective has been evaluated \"\n",
      "/root/anaconda3/envs/gwp/lib/python3.12/site-packages/skopt/optimizer/optimizer.py:449: UserWarning: The objective has been evaluated at this point before.\n",
      "  warnings.warn(\"The objective has been evaluated \"\n",
      "/root/anaconda3/envs/gwp/lib/python3.12/site-packages/skopt/optimizer/optimizer.py:449: UserWarning: The objective has been evaluated at this point before.\n",
      "  warnings.warn(\"The objective has been evaluated \"\n",
      "/root/anaconda3/envs/gwp/lib/python3.12/site-packages/skopt/optimizer/optimizer.py:449: UserWarning: The objective has been evaluated at this point before.\n",
      "  warnings.warn(\"The objective has been evaluated \"\n",
      "/root/anaconda3/envs/gwp/lib/python3.12/site-packages/skopt/optimizer/optimizer.py:449: UserWarning: The objective has been evaluated at this point before.\n",
      "  warnings.warn(\"The objective has been evaluated \"\n",
      "/root/anaconda3/envs/gwp/lib/python3.12/site-packages/skopt/optimizer/optimizer.py:449: UserWarning: The objective has been evaluated at this point before.\n",
      "  warnings.warn(\"The objective has been evaluated \"\n",
      "/root/anaconda3/envs/gwp/lib/python3.12/site-packages/skopt/optimizer/optimizer.py:449: UserWarning: The objective has been evaluated at this point before.\n",
      "  warnings.warn(\"The objective has been evaluated \"\n",
      "/root/anaconda3/envs/gwp/lib/python3.12/site-packages/skopt/optimizer/optimizer.py:449: UserWarning: The objective has been evaluated at this point before.\n",
      "  warnings.warn(\"The objective has been evaluated \"\n",
      "/root/anaconda3/envs/gwp/lib/python3.12/site-packages/skopt/optimizer/optimizer.py:449: UserWarning: The objective has been evaluated at this point before.\n",
      "  warnings.warn(\"The objective has been evaluated \"\n",
      "/root/anaconda3/envs/gwp/lib/python3.12/site-packages/skopt/optimizer/optimizer.py:449: UserWarning: The objective has been evaluated at this point before.\n",
      "  warnings.warn(\"The objective has been evaluated \"\n",
      "/root/anaconda3/envs/gwp/lib/python3.12/site-packages/skopt/optimizer/optimizer.py:449: UserWarning: The objective has been evaluated at this point before.\n",
      "  warnings.warn(\"The objective has been evaluated \"\n",
      "/root/anaconda3/envs/gwp/lib/python3.12/site-packages/skopt/optimizer/optimizer.py:449: UserWarning: The objective has been evaluated at this point before.\n",
      "  warnings.warn(\"The objective has been evaluated \"\n",
      "/root/anaconda3/envs/gwp/lib/python3.12/site-packages/skopt/optimizer/optimizer.py:449: UserWarning: The objective has been evaluated at this point before.\n",
      "  warnings.warn(\"The objective has been evaluated \"\n",
      "/root/anaconda3/envs/gwp/lib/python3.12/site-packages/skopt/optimizer/optimizer.py:449: UserWarning: The objective has been evaluated at this point before.\n",
      "  warnings.warn(\"The objective has been evaluated \"\n",
      "/root/anaconda3/envs/gwp/lib/python3.12/site-packages/skopt/optimizer/optimizer.py:449: UserWarning: The objective has been evaluated at this point before.\n",
      "  warnings.warn(\"The objective has been evaluated \"\n",
      "/root/anaconda3/envs/gwp/lib/python3.12/site-packages/skopt/optimizer/optimizer.py:449: UserWarning: The objective has been evaluated at this point before.\n",
      "  warnings.warn(\"The objective has been evaluated \"\n",
      "/root/anaconda3/envs/gwp/lib/python3.12/site-packages/skopt/optimizer/optimizer.py:449: UserWarning: The objective has been evaluated at this point before.\n",
      "  warnings.warn(\"The objective has been evaluated \"\n",
      "/root/anaconda3/envs/gwp/lib/python3.12/site-packages/skopt/optimizer/optimizer.py:449: UserWarning: The objective has been evaluated at this point before.\n",
      "  warnings.warn(\"The objective has been evaluated \"\n",
      "/root/anaconda3/envs/gwp/lib/python3.12/site-packages/skopt/optimizer/optimizer.py:449: UserWarning: The objective has been evaluated at this point before.\n",
      "  warnings.warn(\"The objective has been evaluated \"\n",
      "/root/anaconda3/envs/gwp/lib/python3.12/site-packages/skopt/optimizer/optimizer.py:449: UserWarning: The objective has been evaluated at this point before.\n",
      "  warnings.warn(\"The objective has been evaluated \"\n",
      "/root/anaconda3/envs/gwp/lib/python3.12/site-packages/skopt/optimizer/optimizer.py:449: UserWarning: The objective has been evaluated at this point before.\n",
      "  warnings.warn(\"The objective has been evaluated \"\n",
      "/root/anaconda3/envs/gwp/lib/python3.12/site-packages/skopt/optimizer/optimizer.py:449: UserWarning: The objective has been evaluated at this point before.\n",
      "  warnings.warn(\"The objective has been evaluated \"\n",
      "/root/anaconda3/envs/gwp/lib/python3.12/site-packages/skopt/optimizer/optimizer.py:449: UserWarning: The objective has been evaluated at this point before.\n",
      "  warnings.warn(\"The objective has been evaluated \"\n",
      "/root/anaconda3/envs/gwp/lib/python3.12/site-packages/skopt/optimizer/optimizer.py:449: UserWarning: The objective has been evaluated at this point before.\n",
      "  warnings.warn(\"The objective has been evaluated \"\n",
      "/root/anaconda3/envs/gwp/lib/python3.12/site-packages/skopt/optimizer/optimizer.py:449: UserWarning: The objective has been evaluated at this point before.\n",
      "  warnings.warn(\"The objective has been evaluated \"\n",
      "/root/anaconda3/envs/gwp/lib/python3.12/site-packages/skopt/optimizer/optimizer.py:449: UserWarning: The objective has been evaluated at this point before.\n",
      "  warnings.warn(\"The objective has been evaluated \"\n",
      "/root/anaconda3/envs/gwp/lib/python3.12/site-packages/skopt/optimizer/optimizer.py:449: UserWarning: The objective has been evaluated at this point before.\n",
      "  warnings.warn(\"The objective has been evaluated \"\n",
      "/root/anaconda3/envs/gwp/lib/python3.12/site-packages/skopt/optimizer/optimizer.py:449: UserWarning: The objective has been evaluated at this point before.\n",
      "  warnings.warn(\"The objective has been evaluated \"\n",
      "/root/anaconda3/envs/gwp/lib/python3.12/site-packages/skopt/optimizer/optimizer.py:449: UserWarning: The objective has been evaluated at this point before.\n",
      "  warnings.warn(\"The objective has been evaluated \"\n",
      "/root/anaconda3/envs/gwp/lib/python3.12/site-packages/skopt/optimizer/optimizer.py:449: UserWarning: The objective has been evaluated at this point before.\n",
      "  warnings.warn(\"The objective has been evaluated \"\n",
      "/root/anaconda3/envs/gwp/lib/python3.12/site-packages/skopt/optimizer/optimizer.py:449: UserWarning: The objective has been evaluated at this point before.\n",
      "  warnings.warn(\"The objective has been evaluated \"\n",
      "/root/anaconda3/envs/gwp/lib/python3.12/site-packages/skopt/optimizer/optimizer.py:449: UserWarning: The objective has been evaluated at this point before.\n",
      "  warnings.warn(\"The objective has been evaluated \"\n",
      "/root/anaconda3/envs/gwp/lib/python3.12/site-packages/skopt/optimizer/optimizer.py:449: UserWarning: The objective has been evaluated at this point before.\n",
      "  warnings.warn(\"The objective has been evaluated \"\n",
      "/root/anaconda3/envs/gwp/lib/python3.12/site-packages/skopt/optimizer/optimizer.py:449: UserWarning: The objective has been evaluated at this point before.\n",
      "  warnings.warn(\"The objective has been evaluated \"\n",
      "/root/anaconda3/envs/gwp/lib/python3.12/site-packages/skopt/optimizer/optimizer.py:449: UserWarning: The objective has been evaluated at this point before.\n",
      "  warnings.warn(\"The objective has been evaluated \"\n",
      "/root/anaconda3/envs/gwp/lib/python3.12/site-packages/skopt/optimizer/optimizer.py:449: UserWarning: The objective has been evaluated at this point before.\n",
      "  warnings.warn(\"The objective has been evaluated \"\n",
      "/root/anaconda3/envs/gwp/lib/python3.12/site-packages/skopt/optimizer/optimizer.py:449: UserWarning: The objective has been evaluated at this point before.\n",
      "  warnings.warn(\"The objective has been evaluated \"\n",
      "/root/anaconda3/envs/gwp/lib/python3.12/site-packages/skopt/optimizer/optimizer.py:449: UserWarning: The objective has been evaluated at this point before.\n",
      "  warnings.warn(\"The objective has been evaluated \"\n",
      "/root/anaconda3/envs/gwp/lib/python3.12/site-packages/skopt/optimizer/optimizer.py:449: UserWarning: The objective has been evaluated at this point before.\n",
      "  warnings.warn(\"The objective has been evaluated \"\n"
     ]
    },
    {
     "name": "stdout",
     "output_type": "stream",
     "text": [
      "Training: r2,mae,rmse:  0.9448924433339645 0.2676360123356768 0.3552778950658218\n",
      "Test: r2,mae,rmse:  0.9181894045702387 0.23403141807691147 0.3256465380719422\n",
      "                  Importance\n",
      "HomoLumoGap         0.489042\n",
      "Chi2n               0.014380\n",
      "MolMR               0.033449\n",
      "Chi1n               0.871197\n",
      "BCUT2D_LOGPLOW      0.458929\n",
      "IP                  0.365327\n",
      "AvgIpc              0.256781\n",
      "MaxPartialCharge    0.055934\n",
      "BCUT2D_MWHI         0.071378\n",
      "fr_halogen          0.654349\n"
     ]
    },
    {
     "ename": "ModuleNotFoundError",
     "evalue": "No module named 'matplotlib'",
     "output_type": "error",
     "traceback": [
      "\u001b[0;31m---------------------------------------------------------------------------\u001b[0m",
      "\u001b[0;31mModuleNotFoundError\u001b[0m                       Traceback (most recent call last)",
      "Cell \u001b[0;32mIn[14], line 4\u001b[0m\n\u001b[1;32m      2\u001b[0m df_Xtrain, df_Ytrain, df_Xtest, df_Ytest\u001b[38;5;241m=\u001b[39mdata_split(mm \u001b[38;5;241m=\u001b[39m \u001b[38;5;124m\"\u001b[39m\u001b[38;5;124mMLP\u001b[39m\u001b[38;5;124m\"\u001b[39m, tar \u001b[38;5;241m=\u001b[39m \u001b[38;5;124m\"\u001b[39m\u001b[38;5;124mLF\u001b[39m\u001b[38;5;124m\"\u001b[39m,ratio \u001b[38;5;241m=\u001b[39m \u001b[38;5;241m0.8\u001b[39m,verbos \u001b[38;5;241m=\u001b[39m \u001b[38;5;28;01mTrue\u001b[39;00m)\n\u001b[1;32m      3\u001b[0m df_Xtrain, df_Ytrain, df_Xtest, df_Ytest\u001b[38;5;241m=\u001b[39mnormal(df_Xtrain, df_Ytrain, df_Xtest, df_Ytest, mm\u001b[38;5;241m=\u001b[39m\u001b[38;5;124m'\u001b[39m\u001b[38;5;124mMLP\u001b[39m\u001b[38;5;124m'\u001b[39m,tar\u001b[38;5;241m=\u001b[39m\u001b[38;5;124m'\u001b[39m\u001b[38;5;124mLF\u001b[39m\u001b[38;5;124m'\u001b[39m)\n\u001b[0;32m----> 4\u001b[0m \u001b[43mmlp\u001b[49m\u001b[43m(\u001b[49m\u001b[43mdf_Xtrain\u001b[49m\u001b[43m,\u001b[49m\u001b[43m \u001b[49m\u001b[43mdf_Ytrain\u001b[49m\u001b[43m,\u001b[49m\u001b[43m \u001b[49m\u001b[43mdf_Xtest\u001b[49m\u001b[43m,\u001b[49m\u001b[43m \u001b[49m\u001b[43mdf_Ytest\u001b[49m\u001b[43m,\u001b[49m\u001b[43m \u001b[49m\u001b[43mtar\u001b[49m\u001b[38;5;241;43m=\u001b[39;49m\u001b[38;5;124;43m'\u001b[39;49m\u001b[38;5;124;43mLF\u001b[39;49m\u001b[38;5;124;43m'\u001b[39;49m\u001b[43m,\u001b[49m\u001b[43m \u001b[49m\u001b[43mn_job\u001b[49m\u001b[38;5;241;43m=\u001b[39;49m\u001b[38;5;241;43m1\u001b[39;49m\u001b[43m,\u001b[49m\u001b[43m \u001b[49m\u001b[43mcall\u001b[49m\u001b[38;5;241;43m=\u001b[39;49m\u001b[38;5;241;43m100\u001b[39;49m\u001b[43m,\u001b[49m\u001b[43m \u001b[49m\u001b[43msave\u001b[49m\u001b[43m \u001b[49m\u001b[38;5;241;43m=\u001b[39;49m\u001b[43m \u001b[49m\u001b[38;5;28;43;01mTrue\u001b[39;49;00m\u001b[43m)\u001b[49m\n",
      "File \u001b[0;32m/mnt/d/Python-notebook/20230601-/gwp/20231212/tuning-trainer/model.py:609\u001b[0m, in \u001b[0;36mmlp\u001b[0;34m(Xtrain, Ytrain, Xtest, Ytest, tar, n_job, call, save)\u001b[0m\n\u001b[1;32m    606\u001b[0m df_loss_his\u001b[38;5;241m.\u001b[39mto_excel(result, index\u001b[38;5;241m=\u001b[39m\u001b[38;5;28;01mFalse\u001b[39;00m, sheet_name \u001b[38;5;241m=\u001b[39m \u001b[38;5;124m\"\u001b[39m\u001b[38;5;124mloss_his\u001b[39m\u001b[38;5;124m\"\u001b[39m)\n\u001b[1;32m    607\u001b[0m result\u001b[38;5;241m.\u001b[39mclose()\n\u001b[0;32m--> 609\u001b[0m \u001b[38;5;28;01mimport\u001b[39;00m \u001b[38;5;21;01mmatplotlib\u001b[39;00m\u001b[38;5;21;01m.\u001b[39;00m\u001b[38;5;21;01mpyplot\u001b[39;00m \u001b[38;5;28;01mas\u001b[39;00m \u001b[38;5;21;01mplt\u001b[39;00m\n\u001b[1;32m    610\u001b[0m x \u001b[38;5;241m=\u001b[39m np\u001b[38;5;241m.\u001b[39mlinspace(\u001b[38;5;241m0\u001b[39m,\u001b[38;5;28mlen\u001b[39m(fold_train_losses),\u001b[38;5;28mlen\u001b[39m(fold_train_losses))\n\u001b[1;32m    611\u001b[0m plt\u001b[38;5;241m.\u001b[39mfigure(figsize\u001b[38;5;241m=\u001b[39m(\u001b[38;5;241m10\u001b[39m, \u001b[38;5;241m5\u001b[39m))\n",
      "\u001b[0;31mModuleNotFoundError\u001b[0m: No module named 'matplotlib'"
     ]
    }
   ],
   "source": [
    "data_prepare(data_csv=\"./ipcc_dataset.csv\",mm = \"MLP\", tar = \"LF\",verbos=False)\n",
    "df_Xtrain, df_Ytrain, df_Xtest, df_Ytest=data_split(mm = \"MLP\", tar = \"LF\",ratio = 0.8,verbos = True)\n",
    "df_Xtrain, df_Ytrain, df_Xtest, df_Ytest=normal(df_Xtrain, df_Ytrain, df_Xtest, df_Ytest, mm='MLP',tar='LF')\n",
    "mlp(df_Xtrain, df_Ytrain, df_Xtest, df_Ytest, tar='LF', n_job=1, call=100, save = True)"
   ]
  },
  {
   "cell_type": "markdown",
   "id": "3eddac28-24c1-4695-bcba-2e15abcdd757",
   "metadata": {},
   "source": [
    "# GWP"
   ]
  },
  {
   "cell_type": "code",
   "execution_count": 16,
   "id": "3ffbdee9-4128-4a00-90b2-d7bf909c87d9",
   "metadata": {},
   "outputs": [],
   "source": [
    "from data import data_prepare,data_split,normal\n",
    "from model import gbr,rf,dt"
   ]
  },
  {
   "cell_type": "code",
   "execution_count": 17,
   "id": "19bfdd37-e991-43cb-900f-532c6cdd20a1",
   "metadata": {
    "scrolled": true
   },
   "outputs": [
    {
     "name": "stdout",
     "output_type": "stream",
     "text": [
      "Selecting point  1\n",
      "Selecting point  2\n",
      "Selecting point  3\n",
      "Selecting point  4\n",
      "Selecting point  5\n",
      "Selecting point  6\n",
      "Selecting point  7\n",
      "Selecting point  8\n",
      "Selecting point  9\n",
      "Selecting point  10\n",
      "Selecting point  11\n",
      "Selecting point  12\n",
      "Selecting point  13\n",
      "Selecting point  14\n",
      "Selecting point  15\n",
      "Selecting point  16\n",
      "Selecting point  17\n",
      "Selecting point  18\n",
      "Selecting point  19\n",
      "Selecting point  20\n",
      "Selecting point  21\n",
      "Selecting point  22\n",
      "Selecting point  23\n",
      "Selecting point  24\n",
      "Selecting point  25\n",
      "Selecting point  26\n",
      "Selecting point  27\n",
      "Selecting point  28\n",
      "Selecting point  29\n",
      "Selecting point  30\n",
      "Selecting point  31\n",
      "Selecting point  32\n",
      "Selecting point  33\n",
      "Selecting point  34\n",
      "Selecting point  35\n",
      "Selecting point  36\n",
      "Selecting point  37\n",
      "Selecting point  38\n",
      "Selecting point  39\n",
      "Selecting point  40\n",
      "Selecting point  41\n",
      "Selecting point  42\n",
      "Selecting point  43\n",
      "Selecting point  44\n",
      "Selecting point  45\n",
      "Selecting point  46\n",
      "Selecting point  47\n",
      "Selecting point  48\n",
      "Selecting point  49\n",
      "Selecting point  50\n",
      "Selecting point  51\n",
      "Selecting point  52\n",
      "Selecting point  53\n",
      "Selecting point  54\n",
      "Selecting point  55\n",
      "Selecting point  56\n",
      "Selecting point  57\n",
      "Selecting point  58\n",
      "Selecting point  59\n",
      "Selecting point  60\n",
      "Selecting point  61\n",
      "Selecting point  62\n",
      "Selecting point  63\n",
      "Selecting point  64\n",
      "Selecting point  65\n",
      "Selecting point  66\n",
      "Selecting point  67\n",
      "Selecting point  68\n",
      "Selecting point  69\n",
      "Selecting point  70\n",
      "Selecting point  71\n",
      "Selecting point  72\n",
      "Selecting point  73\n",
      "Selecting point  74\n",
      "Selecting point  75\n",
      "Selecting point  76\n",
      "Selecting point  77\n",
      "Selecting point  78\n",
      "Selecting point  79\n",
      "Selecting point  80\n",
      "Selecting point  81\n",
      "Selecting point  82\n",
      "Selecting point  83\n",
      "Selecting point  84\n",
      "Selecting point  85\n",
      "Selecting point  86\n",
      "Selecting point  87\n",
      "Selecting point  88\n",
      "Selecting point  89\n",
      "Selecting point  90\n",
      "Selecting point  91\n",
      "Selecting point  92\n",
      "Selecting point  93\n",
      "Selecting point  94\n",
      "Selecting point  95\n",
      "Selecting point  96\n",
      "Selecting point  97\n",
      "Selecting point  98\n",
      "Selecting point  99\n",
      "Selecting point  100\n",
      "Selecting point  101\n",
      "Selecting point  102\n",
      "Selecting point  103\n",
      "Selecting point  104\n",
      "Selecting point  105\n",
      "Selecting point  106\n",
      "Selecting point  107\n",
      "Selecting point  108\n",
      "Selecting point  109\n",
      "Selecting point  110\n",
      "Selecting point  111\n",
      "Selecting point  112\n",
      "Selecting point  113\n",
      "Selecting point  114\n",
      "Selecting point  115\n",
      "Selecting point  116\n",
      "Selecting point  117\n",
      "Selecting point  118\n",
      "Selecting point  119\n",
      "Selecting point  120\n",
      "Selecting point  121\n",
      "Selecting point  122\n",
      "Selecting point  123\n",
      "Selecting point  124\n",
      "Selecting point  125\n",
      "Selecting point  126\n",
      "Selecting point  127\n",
      "Selecting point  128\n",
      "Selecting point  129\n",
      "Selecting point  130\n",
      "Selecting point  131\n",
      "Selecting point  132\n",
      "Selecting point  133\n",
      "Selecting point  134\n",
      "Selecting point  135\n",
      "Selecting point  136\n",
      "Selecting point  137\n",
      "Selecting point  138\n",
      "Selecting point  139\n",
      "Selecting point  140\n",
      "Selecting point  141\n",
      "Selecting point  142\n",
      "Selecting point  143\n",
      "Selecting point  144\n",
      "Selecting point  145\n",
      "Selecting point  146\n",
      "Selecting point  147\n",
      "Selecting point  148\n",
      "Selecting point  149\n",
      "Selecting point  150\n",
      "Selecting point  151\n",
      "Selecting point  152\n",
      "Selecting point  153\n",
      "Selecting point  154\n",
      "Selecting point  155\n",
      "Total number of materials :  196\n",
      "Number of features:  10\n",
      "3.1921978971453835\n",
      "2.08621715578871\n",
      "1.2218271661726923\n",
      "0.9825197068908377\n",
      "1.268122273797798\n",
      "3.4599235823394023\n",
      "3.091022772599436\n",
      "3.5840467892537298\n",
      "3.4640607282218405\n",
      "3.6121051861437032\n",
      "1.6363839436636085\n",
      "2.3986042806734353\n",
      "3.6342520830217735\n",
      "0.9470119749746247\n",
      "2.2298516104124575\n",
      "0.9233388152136939\n",
      "0.6591197982727884\n",
      "0.7261599306076952\n",
      "1.7671831396752833\n",
      "0.6958737039556236\n",
      "2.264741023456987\n",
      "1.131704730001035\n",
      "0.6776108102637913\n",
      "0.6252168030811851\n",
      "0.739594789914916\n",
      "1.2218057685384862\n",
      "0.6645000227601253\n",
      "0.663635372296876\n",
      "0.6166782071276303\n",
      "1.297905698582356\n",
      "0.5935670497797958\n",
      "0.5968597707207264\n",
      "0.6341757772912574\n",
      "0.5779970221780371\n",
      "0.5995130323288046\n",
      "0.5858059071157624\n",
      "0.5977026849707392\n",
      "0.5985825370924696\n",
      "0.6124598405975581\n",
      "0.7039536897945935\n",
      "0.6295894605201936\n",
      "0.5932491353668485\n",
      "0.578075004365871\n",
      "1.8545876686914382\n",
      "0.649251228694971\n",
      "0.6425984615474748\n",
      "0.7619436260992305\n",
      "0.5868670333661699\n",
      "0.6250780414298093\n",
      "0.5892838748732256\n",
      "0.5829526473972451\n",
      "0.6881123257087752\n",
      "0.600812271371325\n",
      "0.6055452300162962\n",
      "0.5930143928572107\n",
      "0.5679664252490865\n",
      "0.5774687873085943\n",
      "0.59331903537236\n",
      "0.6031185254508552\n",
      "0.5928602440797414\n",
      "0.5668849956512207\n",
      "0.5987846160232372\n",
      "0.5711048815999249\n",
      "0.5670186022089215\n",
      "0.5816178489760728\n",
      "0.5856390262646174\n",
      "0.5733332719536621\n",
      "0.5711757432857799\n",
      "0.5692919413724102\n",
      "0.5691316029296167\n",
      "0.5609391598661702\n",
      "0.657421731627223\n",
      "0.6032234179618738\n",
      "0.614347466806073\n",
      "0.6092022584544946\n",
      "0.5740458363735735\n",
      "0.584616266619962\n",
      "0.5713718917962927\n",
      "0.5672563511694999\n",
      "0.5684152414953146\n",
      "0.5936763640174129\n",
      "0.5618208416289109\n",
      "0.5783040298474329\n",
      "0.5871823335298428\n",
      "0.5804098733746943\n",
      "0.5979711864185291\n",
      "0.5759521166149945\n",
      "0.5603702602364538\n",
      "0.5711188108761782\n",
      "0.5643090849008325\n",
      "0.5593836006381265\n",
      "0.5554024112811968\n",
      "0.5566119891340819\n",
      "0.5663829751467534\n",
      "0.7380644910319099\n",
      "0.6001176352737555\n",
      "0.7071733282857456\n",
      "0.6435729656749953\n",
      "0.5727636068454884\n",
      "0.5685098277426742\n",
      "Best score=0.5554\n",
      "Training: r2,mae,rmse:  0.9636199350867757 0.26569613167503525 0.3632780965372773\n",
      "Test: r2,mae,rmse:  0.8450351708440206 0.46124119934780927 0.6148897113022269\n",
      "impact:  Index(['FractionCSP3', 'fr_halogen', 'IP', 'SMR_VSA7', 'ExactMolWt',\n",
      "       'HomoLumoGap', 'Chi0v', 'FpDensityMorgan2', 'FpDensityMorgan3',\n",
      "       'BCUT2D_CHGHI'],\n",
      "      dtype='object') [0.1102966  0.06092234 0.5269598  0.15482672 0.01910804 0.01488314\n",
      " 0.0332072  0.01572186 0.02937055 0.03470384]\n"
     ]
    }
   ],
   "source": [
    "data_prepare(data_csv=\"./ipcc_dataset.csv\",mm = \"GBR\", tar = \"GWP\",verbos=False)\n",
    "df_Xtrain, df_Ytrain, df_Xtest, df_Ytest=data_split(mm = \"GBR\", tar = \"GWP\",ratio = 0.8,verbos = True)\n",
    "gbr(df_Xtrain, df_Ytrain, df_Xtest, df_Ytest, tar='GWP', n_job=1, call=100, save = True)"
   ]
  },
  {
   "cell_type": "code",
   "execution_count": 18,
   "id": "4000a899-5dbd-46eb-816a-9efa34023522",
   "metadata": {
    "scrolled": true
   },
   "outputs": [
    {
     "name": "stdout",
     "output_type": "stream",
     "text": [
      "Selecting point  1\n",
      "Selecting point  2\n",
      "Selecting point  3\n",
      "Selecting point  4\n",
      "Selecting point  5\n",
      "Selecting point  6\n",
      "Selecting point  7\n",
      "Selecting point  8\n",
      "Selecting point  9\n",
      "Selecting point  10\n",
      "Selecting point  11\n",
      "Selecting point  12\n",
      "Selecting point  13\n",
      "Selecting point  14\n",
      "Selecting point  15\n",
      "Selecting point  16\n",
      "Selecting point  17\n",
      "Selecting point  18\n",
      "Selecting point  19\n",
      "Selecting point  20\n",
      "Selecting point  21\n",
      "Selecting point  22\n",
      "Selecting point  23\n",
      "Selecting point  24\n",
      "Selecting point  25\n",
      "Selecting point  26\n",
      "Selecting point  27\n",
      "Selecting point  28\n",
      "Selecting point  29\n",
      "Selecting point  30\n",
      "Selecting point  31\n",
      "Selecting point  32\n",
      "Selecting point  33\n",
      "Selecting point  34\n",
      "Selecting point  35\n",
      "Selecting point  36\n",
      "Selecting point  37\n",
      "Selecting point  38\n",
      "Selecting point  39\n",
      "Selecting point  40\n",
      "Selecting point  41\n",
      "Selecting point  42\n",
      "Selecting point  43\n",
      "Selecting point  44\n",
      "Selecting point  45\n",
      "Selecting point  46\n",
      "Selecting point  47\n",
      "Selecting point  48\n",
      "Selecting point  49\n",
      "Selecting point  50\n",
      "Selecting point  51\n",
      "Selecting point  52\n",
      "Selecting point  53\n",
      "Selecting point  54\n",
      "Selecting point  55\n",
      "Selecting point  56\n",
      "Selecting point  57\n",
      "Selecting point  58\n",
      "Selecting point  59\n",
      "Selecting point  60\n",
      "Selecting point  61\n",
      "Selecting point  62\n",
      "Selecting point  63\n",
      "Selecting point  64\n",
      "Selecting point  65\n",
      "Selecting point  66\n",
      "Selecting point  67\n",
      "Selecting point  68\n",
      "Selecting point  69\n",
      "Selecting point  70\n",
      "Selecting point  71\n",
      "Selecting point  72\n",
      "Selecting point  73\n",
      "Selecting point  74\n",
      "Selecting point  75\n",
      "Selecting point  76\n",
      "Selecting point  77\n",
      "Selecting point  78\n",
      "Selecting point  79\n",
      "Selecting point  80\n",
      "Selecting point  81\n",
      "Selecting point  82\n",
      "Selecting point  83\n",
      "Selecting point  84\n",
      "Selecting point  85\n",
      "Selecting point  86\n",
      "Selecting point  87\n",
      "Selecting point  88\n",
      "Selecting point  89\n",
      "Selecting point  90\n",
      "Selecting point  91\n",
      "Selecting point  92\n",
      "Selecting point  93\n",
      "Selecting point  94\n",
      "Selecting point  95\n",
      "Selecting point  96\n",
      "Selecting point  97\n",
      "Selecting point  98\n",
      "Selecting point  99\n",
      "Selecting point  100\n",
      "Selecting point  101\n",
      "Selecting point  102\n",
      "Selecting point  103\n",
      "Selecting point  104\n",
      "Selecting point  105\n",
      "Selecting point  106\n",
      "Selecting point  107\n",
      "Selecting point  108\n",
      "Selecting point  109\n",
      "Selecting point  110\n",
      "Selecting point  111\n",
      "Selecting point  112\n",
      "Selecting point  113\n",
      "Selecting point  114\n",
      "Selecting point  115\n",
      "Selecting point  116\n",
      "Selecting point  117\n",
      "Selecting point  118\n",
      "Selecting point  119\n",
      "Selecting point  120\n",
      "Selecting point  121\n",
      "Selecting point  122\n",
      "Selecting point  123\n",
      "Selecting point  124\n",
      "Selecting point  125\n",
      "Selecting point  126\n",
      "Selecting point  127\n",
      "Selecting point  128\n",
      "Selecting point  129\n",
      "Selecting point  130\n",
      "Selecting point  131\n",
      "Selecting point  132\n",
      "Selecting point  133\n",
      "Selecting point  134\n",
      "Selecting point  135\n",
      "Selecting point  136\n",
      "Selecting point  137\n",
      "Selecting point  138\n",
      "Selecting point  139\n",
      "Selecting point  140\n",
      "Selecting point  141\n",
      "Selecting point  142\n",
      "Selecting point  143\n",
      "Selecting point  144\n",
      "Selecting point  145\n",
      "Selecting point  146\n",
      "Selecting point  147\n",
      "Selecting point  148\n",
      "Selecting point  149\n",
      "Selecting point  150\n",
      "Selecting point  151\n",
      "Selecting point  152\n",
      "Selecting point  153\n",
      "Selecting point  154\n",
      "Selecting point  155\n",
      "Total number of materials :  196\n",
      "Number of features:  10\n",
      "0.9673206171946201\n",
      "1.3687406363834653\n",
      "1.5374549674124398\n",
      "1.0396413708220096\n",
      "1.3844734080405785\n",
      "0.9083388496200436\n",
      "1.5376752419917301\n",
      "0.7916183374166804\n",
      "0.870861007431999\n",
      "0.9411867601810467\n",
      "0.7213487119348948\n",
      "1.7278547877980277\n",
      "1.4797607424785328\n",
      "1.5891729576543647\n",
      "0.7118833507113541\n",
      "0.846180090194508\n",
      "0.6994227727909476\n",
      "0.9512411614634846\n",
      "0.7239063327277298\n",
      "1.4817569954290688\n",
      "0.749452655468581\n",
      "0.8453763705544907\n",
      "0.7874461210094272\n",
      "0.808991605202009\n",
      "0.7607897939734346\n",
      "0.7363801388071525\n",
      "0.8079800686214454\n",
      "0.9552787662847578\n",
      "0.7577854336490413\n",
      "0.7118833507113541\n",
      "0.6993798869128974\n",
      "0.6994889185841983\n",
      "0.7056593984348513\n",
      "0.6989377275470515\n",
      "0.7273491125788087\n",
      "0.7003349008820589\n",
      "1.5414098010105246\n",
      "0.9440111984129113\n",
      "0.7103919138182068\n",
      "0.7156333062149683\n",
      "0.7007869434834358\n",
      "1.0079372102636088\n",
      "0.9866716127612722\n",
      "0.9086818659338061\n",
      "0.6994227727909476\n",
      "1.2747450414583992\n",
      "0.7618830572764697\n",
      "1.5414098010105246\n",
      "1.0147027816898173\n",
      "0.9866716127612722\n",
      "0.8288359616278196\n",
      "0.7166112642096365\n",
      "1.0173998451018569\n",
      "0.7464795980777312\n",
      "0.6994227727909476\n",
      "0.7000293695253129\n",
      "0.6985662292238388\n",
      "0.7082849929756655\n",
      "0.7007582804156078\n",
      "0.7098792563452573\n",
      "0.7573106594135492\n",
      "1.4588515539371651\n",
      "0.7230979317179944\n",
      "0.7025204560306862\n",
      "0.6994227727909476\n",
      "0.7239472914920517\n",
      "0.6990005537283183\n",
      "0.7001174098789393\n",
      "0.7001750170549974\n",
      "1.5414098010105246\n",
      "0.6997474696582957\n",
      "0.749229519031809\n",
      "0.8759606370645688\n",
      "0.7328874336471032\n",
      "0.7693951803050282\n",
      "0.807473554914413\n",
      "0.6994227727909476\n",
      "0.712606752487827\n",
      "0.7565628555131336\n",
      "0.7410218663371965\n",
      "0.7118687907718984\n",
      "0.6988899057407781\n",
      "0.7693421506112332\n",
      "0.8023045814525144\n",
      "0.6994227727909476\n",
      "0.7001174098789393\n",
      "0.7002289839905076\n",
      "0.7728314320539043\n",
      "0.8225796507505667\n",
      "0.6985785986806183\n",
      "0.6994227727909476\n",
      "0.7008591145897615\n",
      "0.700127737312932\n",
      "0.7007869434834358\n",
      "0.7002971073576969\n",
      "0.700192774249565\n",
      "0.6983454760312005\n",
      "0.7008591145897615\n",
      "0.6987625401569378\n"
     ]
    },
    {
     "name": "stderr",
     "output_type": "stream",
     "text": [
      "/root/anaconda3/envs/gwp/lib/python3.12/site-packages/skopt/optimizer/optimizer.py:449: UserWarning: The objective has been evaluated at this point before.\n",
      "  warnings.warn(\"The objective has been evaluated \"\n"
     ]
    },
    {
     "name": "stdout",
     "output_type": "stream",
     "text": [
      "0.6983454760312005\n",
      "Training: r2,mae,rmse:  0.9759675590619172 0.21725787891080062 0.2961024942951048\n",
      "Test: r2,mae,rmse:  0.9038444201882556 0.37519805218253044 0.4801630765957592\n",
      "impact:  Index(['IP', 'qed', 'FractionCSP3', 'SMR_VSA7', 'MinAbsEStateIndex',\n",
      "       'FpDensityMorgan2', 'BCUT2D_LOGPHI', 'Chi2v', 'HomoLumoGap', 'Chi0v'],\n",
      "      dtype='object') [0.7342761  0.04654613 0.04680503 0.01810373 0.03452197 0.03411449\n",
      " 0.01868122 0.02511432 0.01570784 0.02612916]\n"
     ]
    }
   ],
   "source": [
    "data_prepare(data_csv=\"./ipcc_dataset.csv\",mm = \"RF\", tar = \"GWP\",verbos=False)\n",
    "df_Xtrain, df_Ytrain, df_Xtest, df_Ytest=data_split(mm = \"RF\", tar = \"GWP\",ratio = 0.8,verbos = True)\n",
    "rf(df_Xtrain, df_Ytrain, df_Xtest, df_Ytest, tar='GWP', n_job=1, call=100, save = True)"
   ]
  },
  {
   "cell_type": "code",
   "execution_count": 29,
   "id": "211d82e2-a17b-46ef-9664-8f965dfa11df",
   "metadata": {
    "scrolled": true
   },
   "outputs": [
    {
     "name": "stdout",
     "output_type": "stream",
     "text": [
      "Selecting point  1\n",
      "Selecting point  2\n",
      "Selecting point  3\n",
      "Selecting point  4\n",
      "Selecting point  5\n",
      "Selecting point  6\n",
      "Selecting point  7\n",
      "Selecting point  8\n",
      "Selecting point  9\n",
      "Selecting point  10\n",
      "Selecting point  11\n",
      "Selecting point  12\n",
      "Selecting point  13\n",
      "Selecting point  14\n",
      "Selecting point  15\n",
      "Selecting point  16\n",
      "Selecting point  17\n",
      "Selecting point  18\n",
      "Selecting point  19\n",
      "Selecting point  20\n",
      "Selecting point  21\n",
      "Selecting point  22\n",
      "Selecting point  23\n",
      "Selecting point  24\n",
      "Selecting point  25\n",
      "Selecting point  26\n",
      "Selecting point  27\n",
      "Selecting point  28\n",
      "Selecting point  29\n",
      "Selecting point  30\n",
      "Selecting point  31\n",
      "Selecting point  32\n",
      "Selecting point  33\n",
      "Selecting point  34\n",
      "Selecting point  35\n",
      "Selecting point  36\n",
      "Selecting point  37\n",
      "Selecting point  38\n",
      "Selecting point  39\n",
      "Selecting point  40\n",
      "Selecting point  41\n",
      "Selecting point  42\n",
      "Selecting point  43\n",
      "Selecting point  44\n",
      "Selecting point  45\n",
      "Selecting point  46\n",
      "Selecting point  47\n",
      "Selecting point  48\n",
      "Selecting point  49\n",
      "Selecting point  50\n",
      "Selecting point  51\n",
      "Selecting point  52\n",
      "Selecting point  53\n",
      "Selecting point  54\n",
      "Selecting point  55\n",
      "Selecting point  56\n",
      "Selecting point  57\n",
      "Selecting point  58\n",
      "Selecting point  59\n",
      "Selecting point  60\n",
      "Selecting point  61\n",
      "Selecting point  62\n",
      "Selecting point  63\n",
      "Selecting point  64\n",
      "Selecting point  65\n",
      "Selecting point  66\n",
      "Selecting point  67\n",
      "Selecting point  68\n",
      "Selecting point  69\n",
      "Selecting point  70\n",
      "Selecting point  71\n",
      "Selecting point  72\n",
      "Selecting point  73\n",
      "Selecting point  74\n",
      "Selecting point  75\n",
      "Selecting point  76\n",
      "Selecting point  77\n",
      "Selecting point  78\n",
      "Selecting point  79\n",
      "Selecting point  80\n",
      "Selecting point  81\n",
      "Selecting point  82\n",
      "Selecting point  83\n",
      "Selecting point  84\n",
      "Selecting point  85\n",
      "Selecting point  86\n",
      "Selecting point  87\n",
      "Selecting point  88\n",
      "Selecting point  89\n",
      "Selecting point  90\n",
      "Selecting point  91\n",
      "Selecting point  92\n",
      "Selecting point  93\n",
      "Selecting point  94\n",
      "Selecting point  95\n",
      "Selecting point  96\n",
      "Selecting point  97\n",
      "Selecting point  98\n",
      "Selecting point  99\n",
      "Selecting point  100\n",
      "Selecting point  101\n",
      "Selecting point  102\n",
      "Selecting point  103\n",
      "Selecting point  104\n",
      "Selecting point  105\n",
      "Selecting point  106\n",
      "Selecting point  107\n",
      "Selecting point  108\n",
      "Selecting point  109\n",
      "Selecting point  110\n",
      "Selecting point  111\n",
      "Selecting point  112\n",
      "Selecting point  113\n",
      "Selecting point  114\n",
      "Selecting point  115\n",
      "Selecting point  116\n",
      "Selecting point  117\n",
      "Selecting point  118\n",
      "Selecting point  119\n",
      "Selecting point  120\n",
      "Selecting point  121\n",
      "Selecting point  122\n",
      "Selecting point  123\n",
      "Selecting point  124\n",
      "Selecting point  125\n",
      "Selecting point  126\n",
      "Selecting point  127\n",
      "Selecting point  128\n",
      "Selecting point  129\n",
      "Selecting point  130\n",
      "Selecting point  131\n",
      "Selecting point  132\n",
      "Selecting point  133\n",
      "Selecting point  134\n",
      "Selecting point  135\n",
      "Selecting point  136\n",
      "Selecting point  137\n",
      "Selecting point  138\n",
      "Selecting point  139\n",
      "Selecting point  140\n",
      "Selecting point  141\n",
      "Selecting point  142\n",
      "Selecting point  143\n",
      "Selecting point  144\n",
      "Selecting point  145\n",
      "Selecting point  146\n",
      "Selecting point  147\n",
      "Selecting point  148\n",
      "Selecting point  149\n",
      "Selecting point  150\n",
      "Selecting point  151\n",
      "Selecting point  152\n",
      "Selecting point  153\n",
      "Selecting point  154\n",
      "Selecting point  155\n",
      "Total number of materials :  196\n",
      "Number of features:  10\n",
      "1.2356608453009608\n",
      "1.3170365439281682\n",
      "1.273375275123135\n",
      "1.0133683477038478\n",
      "1.0669770469315232\n",
      "1.2667288015467408\n",
      "1.277958383036948\n",
      "1.0522614183131362\n",
      "1.3570748044747234\n",
      "1.2779583830369483\n",
      "1.2642474491161033\n",
      "1.0795926784038195\n",
      "1.2813941096820207\n",
      "1.2057288974626377\n",
      "1.1849472482980483\n",
      "1.0502956651318105\n",
      "1.0114418728088481\n",
      "1.008787367739501\n",
      "1.220019932683265\n",
      "1.055694877573588\n",
      "0.9884060758149149\n",
      "1.0645184533616734\n",
      "1.027672015007601\n",
      "1.027672015007601\n",
      "1.0645184533616736\n",
      "1.4101549354752692\n",
      "1.0309555785867466\n",
      "1.220019932683265\n",
      "1.2061889408055158\n",
      "1.613374392459383\n",
      "1.0522614183131362\n",
      "1.027672015007601\n",
      "1.308829652419713\n",
      "1.0581405099460617\n",
      "1.0417770859202857\n",
      "1.220019932683265\n",
      "0.9793936426322623\n",
      "1.0645184533616736\n",
      "1.4101549354752692\n",
      "0.9791022366820199\n",
      "1.0486619939274566\n",
      "1.0645184533616736\n",
      "1.06300348925066\n",
      "1.4101549354752692\n",
      "1.0221235434364861\n",
      "1.0371912986363676\n",
      "1.0412271867402825\n",
      "1.0421814883460123\n",
      "0.9884060758149149\n",
      "0.988406075814915\n",
      "1.0030482108755834\n",
      "1.02974641270134\n",
      "0.9791022366820199\n",
      "1.0486619939274568\n",
      "1.0984891941597514\n",
      "0.988406075814915\n",
      "0.9824379500761216\n",
      "1.0486619939274568\n",
      "1.0675399411773152\n",
      "1.3175183240576014\n",
      "1.0645184533616736\n",
      "1.6133743924593833\n",
      "1.0645184533616736\n",
      "1.0645184533616736\n",
      "0.9793936426322623\n",
      "1.0645184533616736\n",
      "1.2739593878672557\n",
      "1.0645184533616736\n",
      "1.6133743924593833\n",
      "1.0638279201542873\n",
      "1.1098874875968705\n",
      "1.0551008830167075\n",
      "1.0645184533616736\n",
      "1.0645184533616736\n",
      "1.086449774520598\n",
      "1.3692705416848354\n",
      "0.988406075814915\n",
      "1.027672015007601\n",
      "0.9791022366820199\n",
      "0.9793936426322623\n",
      "0.988406075814915\n",
      "0.9791022366820199\n",
      "0.9821465441258793\n"
     ]
    },
    {
     "name": "stderr",
     "output_type": "stream",
     "text": [
      "/root/anaconda3/envs/gwp/lib/python3.12/site-packages/skopt/optimizer/optimizer.py:449: UserWarning: The objective has been evaluated at this point before.\n",
      "  warnings.warn(\"The objective has been evaluated \"\n"
     ]
    },
    {
     "name": "stdout",
     "output_type": "stream",
     "text": [
      "0.988406075814915\n"
     ]
    },
    {
     "name": "stderr",
     "output_type": "stream",
     "text": [
      "/root/anaconda3/envs/gwp/lib/python3.12/site-packages/skopt/optimizer/optimizer.py:449: UserWarning: The objective has been evaluated at this point before.\n",
      "  warnings.warn(\"The objective has been evaluated \"\n"
     ]
    },
    {
     "name": "stdout",
     "output_type": "stream",
     "text": [
      "0.988406075814915\n"
     ]
    },
    {
     "name": "stderr",
     "output_type": "stream",
     "text": [
      "/root/anaconda3/envs/gwp/lib/python3.12/site-packages/skopt/optimizer/optimizer.py:449: UserWarning: The objective has been evaluated at this point before.\n",
      "  warnings.warn(\"The objective has been evaluated \"\n"
     ]
    },
    {
     "name": "stdout",
     "output_type": "stream",
     "text": [
      "0.988406075814915\n"
     ]
    },
    {
     "name": "stderr",
     "output_type": "stream",
     "text": [
      "/root/anaconda3/envs/gwp/lib/python3.12/site-packages/skopt/optimizer/optimizer.py:449: UserWarning: The objective has been evaluated at this point before.\n",
      "  warnings.warn(\"The objective has been evaluated \"\n"
     ]
    },
    {
     "name": "stdout",
     "output_type": "stream",
     "text": [
      "0.988406075814915\n"
     ]
    },
    {
     "name": "stderr",
     "output_type": "stream",
     "text": [
      "/root/anaconda3/envs/gwp/lib/python3.12/site-packages/skopt/optimizer/optimizer.py:449: UserWarning: The objective has been evaluated at this point before.\n",
      "  warnings.warn(\"The objective has been evaluated \"\n"
     ]
    },
    {
     "name": "stdout",
     "output_type": "stream",
     "text": [
      "0.988406075814915\n"
     ]
    },
    {
     "name": "stderr",
     "output_type": "stream",
     "text": [
      "/root/anaconda3/envs/gwp/lib/python3.12/site-packages/skopt/optimizer/optimizer.py:449: UserWarning: The objective has been evaluated at this point before.\n",
      "  warnings.warn(\"The objective has been evaluated \"\n"
     ]
    },
    {
     "name": "stdout",
     "output_type": "stream",
     "text": [
      "0.988406075814915\n"
     ]
    },
    {
     "name": "stderr",
     "output_type": "stream",
     "text": [
      "/root/anaconda3/envs/gwp/lib/python3.12/site-packages/skopt/optimizer/optimizer.py:449: UserWarning: The objective has been evaluated at this point before.\n",
      "  warnings.warn(\"The objective has been evaluated \"\n"
     ]
    },
    {
     "name": "stdout",
     "output_type": "stream",
     "text": [
      "0.988406075814915\n"
     ]
    },
    {
     "name": "stderr",
     "output_type": "stream",
     "text": [
      "/root/anaconda3/envs/gwp/lib/python3.12/site-packages/skopt/optimizer/optimizer.py:449: UserWarning: The objective has been evaluated at this point before.\n",
      "  warnings.warn(\"The objective has been evaluated \"\n"
     ]
    },
    {
     "name": "stdout",
     "output_type": "stream",
     "text": [
      "0.988406075814915\n"
     ]
    },
    {
     "name": "stderr",
     "output_type": "stream",
     "text": [
      "/root/anaconda3/envs/gwp/lib/python3.12/site-packages/skopt/optimizer/optimizer.py:449: UserWarning: The objective has been evaluated at this point before.\n",
      "  warnings.warn(\"The objective has been evaluated \"\n"
     ]
    },
    {
     "name": "stdout",
     "output_type": "stream",
     "text": [
      "0.9884060758149149\n"
     ]
    },
    {
     "name": "stderr",
     "output_type": "stream",
     "text": [
      "/root/anaconda3/envs/gwp/lib/python3.12/site-packages/skopt/optimizer/optimizer.py:449: UserWarning: The objective has been evaluated at this point before.\n",
      "  warnings.warn(\"The objective has been evaluated \"\n"
     ]
    },
    {
     "name": "stdout",
     "output_type": "stream",
     "text": [
      "0.9884060758149149\n"
     ]
    },
    {
     "name": "stderr",
     "output_type": "stream",
     "text": [
      "/root/anaconda3/envs/gwp/lib/python3.12/site-packages/skopt/optimizer/optimizer.py:449: UserWarning: The objective has been evaluated at this point before.\n",
      "  warnings.warn(\"The objective has been evaluated \"\n"
     ]
    },
    {
     "name": "stdout",
     "output_type": "stream",
     "text": [
      "0.988406075814915\n"
     ]
    },
    {
     "name": "stderr",
     "output_type": "stream",
     "text": [
      "/root/anaconda3/envs/gwp/lib/python3.12/site-packages/skopt/optimizer/optimizer.py:449: UserWarning: The objective has been evaluated at this point before.\n",
      "  warnings.warn(\"The objective has been evaluated \"\n"
     ]
    },
    {
     "name": "stdout",
     "output_type": "stream",
     "text": [
      "0.988406075814915\n"
     ]
    },
    {
     "name": "stderr",
     "output_type": "stream",
     "text": [
      "/root/anaconda3/envs/gwp/lib/python3.12/site-packages/skopt/optimizer/optimizer.py:449: UserWarning: The objective has been evaluated at this point before.\n",
      "  warnings.warn(\"The objective has been evaluated \"\n"
     ]
    },
    {
     "name": "stdout",
     "output_type": "stream",
     "text": [
      "0.988406075814915\n"
     ]
    },
    {
     "name": "stderr",
     "output_type": "stream",
     "text": [
      "/root/anaconda3/envs/gwp/lib/python3.12/site-packages/skopt/optimizer/optimizer.py:449: UserWarning: The objective has been evaluated at this point before.\n",
      "  warnings.warn(\"The objective has been evaluated \"\n"
     ]
    },
    {
     "name": "stdout",
     "output_type": "stream",
     "text": [
      "0.988406075814915\n"
     ]
    },
    {
     "name": "stderr",
     "output_type": "stream",
     "text": [
      "/root/anaconda3/envs/gwp/lib/python3.12/site-packages/skopt/optimizer/optimizer.py:449: UserWarning: The objective has been evaluated at this point before.\n",
      "  warnings.warn(\"The objective has been evaluated \"\n"
     ]
    },
    {
     "name": "stdout",
     "output_type": "stream",
     "text": [
      "0.988406075814915\n"
     ]
    },
    {
     "name": "stderr",
     "output_type": "stream",
     "text": [
      "/root/anaconda3/envs/gwp/lib/python3.12/site-packages/skopt/optimizer/optimizer.py:449: UserWarning: The objective has been evaluated at this point before.\n",
      "  warnings.warn(\"The objective has been evaluated \"\n"
     ]
    },
    {
     "name": "stdout",
     "output_type": "stream",
     "text": [
      "0.9884060758149149\n"
     ]
    },
    {
     "name": "stderr",
     "output_type": "stream",
     "text": [
      "/root/anaconda3/envs/gwp/lib/python3.12/site-packages/skopt/optimizer/optimizer.py:449: UserWarning: The objective has been evaluated at this point before.\n",
      "  warnings.warn(\"The objective has been evaluated \"\n"
     ]
    },
    {
     "name": "stdout",
     "output_type": "stream",
     "text": [
      "0.988406075814915\n",
      "Training: r2,mae,rmse:  0.869577929884572 0.4905889494734288 0.6814190044355223\n",
      "Test: r2,mae,rmse:  0.6453179792738575 0.6831773664722267 0.9913941744041398\n",
      "impact:  Index(['IP', 'FractionCSP3', 'BCUT2D_LOGPHI', 'qed', 'FpDensityMorgan1',\n",
      "       'Chi2v', 'BCUT2D_CHGLO', 'SPS', 'SMR_VSA5', 'VSA_EState8'],\n",
      "      dtype='object') [0.87552446 0.         0.02681589 0.02699693 0.02370073 0.00567119\n",
      " 0.         0.         0.         0.0412908 ]\n"
     ]
    }
   ],
   "source": [
    "data_prepare(data_csv=\"./ipcc_dataset.csv\",mm = \"DT\", tar = \"GWP\",verbos=False)\n",
    "df_Xtrain, df_Ytrain, df_Xtest, df_Ytest=data_split(mm = \"DT\", tar = \"GWP\",ratio = 0.8,verbos = True)\n",
    "dt(df_Xtrain, df_Ytrain, df_Xtest, df_Ytest, tar='GWP', n_job=1, call=100, save = True)"
   ]
  },
  {
   "cell_type": "code",
   "execution_count": 20,
   "id": "2b12e561-cf9b-4d98-815d-f9979da50a0a",
   "metadata": {},
   "outputs": [],
   "source": [
    "from model import lasso,kr,ada,svr,knn,mlp"
   ]
  },
  {
   "cell_type": "code",
   "execution_count": 21,
   "id": "4eb448fe-5b9b-4209-a547-b4e460567a0f",
   "metadata": {
    "scrolled": true
   },
   "outputs": [
    {
     "name": "stdout",
     "output_type": "stream",
     "text": [
      "Selecting point  1\n",
      "Selecting point  2\n",
      "Selecting point  3\n",
      "Selecting point  4\n",
      "Selecting point  5\n",
      "Selecting point  6\n",
      "Selecting point  7\n",
      "Selecting point  8\n",
      "Selecting point  9\n",
      "Selecting point  10\n",
      "Selecting point  11\n",
      "Selecting point  12\n",
      "Selecting point  13\n",
      "Selecting point  14\n",
      "Selecting point  15\n",
      "Selecting point  16\n",
      "Selecting point  17\n",
      "Selecting point  18\n",
      "Selecting point  19\n",
      "Selecting point  20\n",
      "Selecting point  21\n",
      "Selecting point  22\n",
      "Selecting point  23\n",
      "Selecting point  24\n",
      "Selecting point  25\n",
      "Selecting point  26\n",
      "Selecting point  27\n",
      "Selecting point  28\n",
      "Selecting point  29\n",
      "Selecting point  30\n",
      "Selecting point  31\n",
      "Selecting point  32\n",
      "Selecting point  33\n",
      "Selecting point  34\n",
      "Selecting point  35\n",
      "Selecting point  36\n",
      "Selecting point  37\n",
      "Selecting point  38\n",
      "Selecting point  39\n",
      "Selecting point  40\n",
      "Selecting point  41\n",
      "Selecting point  42\n",
      "Selecting point  43\n",
      "Selecting point  44\n",
      "Selecting point  45\n",
      "Selecting point  46\n",
      "Selecting point  47\n",
      "Selecting point  48\n",
      "Selecting point  49\n",
      "Selecting point  50\n",
      "Selecting point  51\n",
      "Selecting point  52\n",
      "Selecting point  53\n",
      "Selecting point  54\n",
      "Selecting point  55\n",
      "Selecting point  56\n",
      "Selecting point  57\n",
      "Selecting point  58\n",
      "Selecting point  59\n",
      "Selecting point  60\n",
      "Selecting point  61\n",
      "Selecting point  62\n",
      "Selecting point  63\n",
      "Selecting point  64\n",
      "Selecting point  65\n",
      "Selecting point  66\n",
      "Selecting point  67\n",
      "Selecting point  68\n",
      "Selecting point  69\n",
      "Selecting point  70\n",
      "Selecting point  71\n",
      "Selecting point  72\n",
      "Selecting point  73\n",
      "Selecting point  74\n",
      "Selecting point  75\n",
      "Selecting point  76\n",
      "Selecting point  77\n",
      "Selecting point  78\n",
      "Selecting point  79\n",
      "Selecting point  80\n",
      "Selecting point  81\n",
      "Selecting point  82\n",
      "Selecting point  83\n",
      "Selecting point  84\n",
      "Selecting point  85\n",
      "Selecting point  86\n",
      "Selecting point  87\n",
      "Selecting point  88\n",
      "Selecting point  89\n",
      "Selecting point  90\n",
      "Selecting point  91\n",
      "Selecting point  92\n",
      "Selecting point  93\n",
      "Selecting point  94\n",
      "Selecting point  95\n",
      "Selecting point  96\n",
      "Selecting point  97\n",
      "Selecting point  98\n",
      "Selecting point  99\n",
      "Selecting point  100\n",
      "Selecting point  101\n",
      "Selecting point  102\n",
      "Selecting point  103\n",
      "Selecting point  104\n",
      "Selecting point  105\n",
      "Selecting point  106\n",
      "Selecting point  107\n",
      "Selecting point  108\n",
      "Selecting point  109\n",
      "Selecting point  110\n",
      "Selecting point  111\n",
      "Selecting point  112\n",
      "Selecting point  113\n",
      "Selecting point  114\n",
      "Selecting point  115\n",
      "Selecting point  116\n",
      "Selecting point  117\n",
      "Selecting point  118\n",
      "Selecting point  119\n",
      "Selecting point  120\n",
      "Selecting point  121\n",
      "Selecting point  122\n",
      "Selecting point  123\n",
      "Selecting point  124\n",
      "Selecting point  125\n",
      "Selecting point  126\n",
      "Selecting point  127\n",
      "Selecting point  128\n",
      "Selecting point  129\n",
      "Selecting point  130\n",
      "Selecting point  131\n",
      "Selecting point  132\n",
      "Selecting point  133\n",
      "Selecting point  134\n",
      "Selecting point  135\n",
      "Selecting point  136\n",
      "Selecting point  137\n",
      "Selecting point  138\n",
      "Selecting point  139\n",
      "Selecting point  140\n",
      "Selecting point  141\n",
      "Selecting point  142\n",
      "Selecting point  143\n",
      "Selecting point  144\n",
      "Selecting point  145\n",
      "Selecting point  146\n",
      "Selecting point  147\n",
      "Selecting point  148\n",
      "Selecting point  149\n",
      "Selecting point  150\n",
      "Selecting point  151\n",
      "Selecting point  152\n",
      "Selecting point  153\n",
      "Selecting point  154\n",
      "Selecting point  155\n",
      "Total number of materials :  196\n",
      "Number of features:  10\n",
      "0.49850659682614024\n",
      "0.6653839501192802\n",
      "0.4985052368642955\n",
      "0.49840651606226716\n",
      "0.4985051504112198\n",
      "0.49850379033801645\n",
      "0.49845043453401183\n",
      "0.49850659671265535\n",
      "0.4985065807431428\n",
      "0.49846485034924476\n",
      "0.4979518062425005\n",
      "0.4985064149390742\n",
      "0.49695794579624825\n",
      "0.49849631518812093\n",
      "0.4960280838638069\n",
      "0.49821266206034415\n"
     ]
    },
    {
     "name": "stderr",
     "output_type": "stream",
     "text": [
      "/root/anaconda3/envs/gwp/lib/python3.12/site-packages/skopt/optimizer/optimizer.py:449: UserWarning: The objective has been evaluated at this point before.\n",
      "  warnings.warn(\"The objective has been evaluated \"\n"
     ]
    },
    {
     "name": "stdout",
     "output_type": "stream",
     "text": [
      "0.49850660199898017\n",
      "0.49850613375870967\n",
      "0.496288928130242\n",
      "0.49850653156711616\n",
      "2.535000021738681\n",
      "0.508943803312192\n",
      "0.4984854462402598\n",
      "0.4975200068905642\n",
      "0.49850148926823196\n",
      "0.4983281269120171\n",
      "0.4969865643125225\n",
      "0.49850578701170234\n",
      "0.49850656255271975\n",
      "0.49605669699879734\n",
      "0.49602770971979393\n",
      "0.4960282311820289\n",
      "0.4966856267567964\n",
      "0.4966090654215029\n",
      "0.496077311033158\n",
      "0.4968412299470735\n",
      "0.4960464387695461\n",
      "0.49603899797258943\n",
      "0.49649825814785953\n",
      "0.49809386610129824\n",
      "0.4962209517535534\n",
      "0.4960676053087756\n",
      "0.4961673980939998\n",
      "0.4962011934389439\n",
      "0.4961804358570056\n",
      "0.4960278832380798\n",
      "0.4961096149558867\n",
      "0.49665379424504036\n",
      "0.4960320058686104\n",
      "0.4966385035206405\n",
      "0.4960550954043715\n",
      "0.49604850018187313\n",
      "0.49610246626377974\n",
      "0.49613562107411757\n",
      "0.4960363680946397\n",
      "0.4966377145971914\n",
      "0.4960868023667498\n",
      "0.4960666705138224\n",
      "0.4962004180922651\n",
      "0.4961923430763637\n",
      "0.4960854412613\n",
      "0.49610614849920937\n",
      "0.49636117401749474\n",
      "0.4960711605863365\n",
      "0.49612934271311476\n",
      "0.49647774490491836\n",
      "0.4960398668626104\n",
      "0.4963402651399395\n",
      "0.49611356683556374\n",
      "0.4960467124572941\n",
      "0.49613219573897993\n",
      "0.49669095100374105\n",
      "0.49602986500000945\n",
      "0.49602864840487565\n",
      "0.49620721348782937\n",
      "0.496119756415046\n",
      "0.4961766606796643\n",
      "0.49817853908140447\n",
      "0.4961759846868337\n",
      "0.4976818832627097\n",
      "0.4960308633913365\n",
      "0.4967586459706113\n",
      "0.4961312925435979\n",
      "0.496311110545947\n",
      "0.49602735787717867\n",
      "0.49623685242158366\n",
      "0.4961571702827479\n",
      "0.4967307598621426\n",
      "0.4961551622149754\n",
      "0.4960332482580999\n",
      "0.496118423533306\n",
      "0.4960548418370007\n",
      "0.4960874425254528\n",
      "0.4964770214016923\n",
      "0.49602898987689886\n",
      "0.49610235052088275\n",
      "0.4968697510719906\n",
      "0.49619238888070544\n",
      "0.49611085622137024\n",
      "0.4960372128886082\n",
      "Training: r2,mae,rmse:  0.8772662523011453 0.485349449581604 0.660255283101404\n",
      "Test: r2,mae,rmse:  0.8400474573091832 0.47989794941889147 0.6634236082586287\n",
      "                  Importance\n",
      "SMR_VSA7            1.060360\n",
      "IP                  0.122398\n",
      "fr_ketone           0.000000\n",
      "SlogP_VSA5          0.015035\n",
      "SMR_VSA6            0.050390\n",
      "MaxPartialCharge   -0.006482\n",
      "MaxEStateIndex     -0.019661\n",
      "Kappa2              0.001088\n",
      "VSA_EState3         0.034376\n",
      "AvgIpc              0.000419\n"
     ]
    }
   ],
   "source": [
    "data_prepare(data_csv=\"./ipcc_dataset.csv\",mm = \"Lasso\", tar = \"GWP\",verbos=False)\n",
    "df_Xtrain, df_Ytrain, df_Xtest, df_Ytest=data_split(mm = \"Lasso\", tar = \"GWP\",ratio = 0.8,verbos = True)\n",
    "df_Xtrain, df_Ytrain, df_Xtest, df_Ytest=normal(df_Xtrain, df_Ytrain, df_Xtest, df_Ytest, mm='Lasso',tar='GWP')\n",
    "lasso(df_Xtrain, df_Ytrain, df_Xtest, df_Ytest, tar='GWP', n_job=1, call=100, save = True)"
   ]
  },
  {
   "cell_type": "code",
   "execution_count": 22,
   "id": "dc713120-63c9-4754-ab30-3f846aa1e7c6",
   "metadata": {
    "scrolled": true
   },
   "outputs": [
    {
     "name": "stdout",
     "output_type": "stream",
     "text": [
      "Selecting point  1\n",
      "Selecting point  2\n",
      "Selecting point  3\n",
      "Selecting point  4\n",
      "Selecting point  5\n",
      "Selecting point  6\n",
      "Selecting point  7\n",
      "Selecting point  8\n",
      "Selecting point  9\n",
      "Selecting point  10\n",
      "Selecting point  11\n",
      "Selecting point  12\n",
      "Selecting point  13\n",
      "Selecting point  14\n",
      "Selecting point  15\n",
      "Selecting point  16\n",
      "Selecting point  17\n",
      "Selecting point  18\n",
      "Selecting point  19\n",
      "Selecting point  20\n",
      "Selecting point  21\n",
      "Selecting point  22\n",
      "Selecting point  23\n",
      "Selecting point  24\n",
      "Selecting point  25\n",
      "Selecting point  26\n",
      "Selecting point  27\n",
      "Selecting point  28\n",
      "Selecting point  29\n",
      "Selecting point  30\n",
      "Selecting point  31\n",
      "Selecting point  32\n",
      "Selecting point  33\n",
      "Selecting point  34\n",
      "Selecting point  35\n",
      "Selecting point  36\n",
      "Selecting point  37\n",
      "Selecting point  38\n",
      "Selecting point  39\n",
      "Selecting point  40\n",
      "Selecting point  41\n",
      "Selecting point  42\n",
      "Selecting point  43\n",
      "Selecting point  44\n",
      "Selecting point  45\n",
      "Selecting point  46\n",
      "Selecting point  47\n",
      "Selecting point  48\n",
      "Selecting point  49\n",
      "Selecting point  50\n",
      "Selecting point  51\n",
      "Selecting point  52\n",
      "Selecting point  53\n",
      "Selecting point  54\n",
      "Selecting point  55\n",
      "Selecting point  56\n",
      "Selecting point  57\n",
      "Selecting point  58\n",
      "Selecting point  59\n",
      "Selecting point  60\n",
      "Selecting point  61\n",
      "Selecting point  62\n",
      "Selecting point  63\n",
      "Selecting point  64\n",
      "Selecting point  65\n",
      "Selecting point  66\n",
      "Selecting point  67\n",
      "Selecting point  68\n",
      "Selecting point  69\n",
      "Selecting point  70\n",
      "Selecting point  71\n",
      "Selecting point  72\n",
      "Selecting point  73\n",
      "Selecting point  74\n",
      "Selecting point  75\n",
      "Selecting point  76\n",
      "Selecting point  77\n",
      "Selecting point  78\n",
      "Selecting point  79\n",
      "Selecting point  80\n",
      "Selecting point  81\n",
      "Selecting point  82\n",
      "Selecting point  83\n",
      "Selecting point  84\n",
      "Selecting point  85\n",
      "Selecting point  86\n",
      "Selecting point  87\n",
      "Selecting point  88\n",
      "Selecting point  89\n",
      "Selecting point  90\n",
      "Selecting point  91\n",
      "Selecting point  92\n",
      "Selecting point  93\n",
      "Selecting point  94\n",
      "Selecting point  95\n",
      "Selecting point  96\n",
      "Selecting point  97\n",
      "Selecting point  98\n",
      "Selecting point  99\n",
      "Selecting point  100\n",
      "Selecting point  101\n",
      "Selecting point  102\n",
      "Selecting point  103\n",
      "Selecting point  104\n",
      "Selecting point  105\n",
      "Selecting point  106\n",
      "Selecting point  107\n",
      "Selecting point  108\n",
      "Selecting point  109\n",
      "Selecting point  110\n",
      "Selecting point  111\n",
      "Selecting point  112\n",
      "Selecting point  113\n",
      "Selecting point  114\n",
      "Selecting point  115\n",
      "Selecting point  116\n",
      "Selecting point  117\n",
      "Selecting point  118\n",
      "Selecting point  119\n",
      "Selecting point  120\n",
      "Selecting point  121\n",
      "Selecting point  122\n",
      "Selecting point  123\n",
      "Selecting point  124\n",
      "Selecting point  125\n",
      "Selecting point  126\n",
      "Selecting point  127\n",
      "Selecting point  128\n",
      "Selecting point  129\n",
      "Selecting point  130\n",
      "Selecting point  131\n",
      "Selecting point  132\n",
      "Selecting point  133\n",
      "Selecting point  134\n",
      "Selecting point  135\n",
      "Selecting point  136\n",
      "Selecting point  137\n",
      "Selecting point  138\n",
      "Selecting point  139\n",
      "Selecting point  140\n",
      "Selecting point  141\n",
      "Selecting point  142\n",
      "Selecting point  143\n",
      "Selecting point  144\n",
      "Selecting point  145\n",
      "Selecting point  146\n",
      "Selecting point  147\n",
      "Selecting point  148\n",
      "Selecting point  149\n",
      "Selecting point  150\n",
      "Selecting point  151\n",
      "Selecting point  152\n",
      "Selecting point  153\n",
      "Selecting point  154\n",
      "Selecting point  155\n",
      "Total number of materials :  196\n",
      "Number of features:  10\n",
      "5.559819692742797\n",
      "5.618106915967765\n",
      "5.618077620019833\n",
      "5.617585257837338\n",
      "5.618080798983405\n",
      "5.488359976449978\n",
      "5.618108568280357\n",
      "5.613587940542747\n",
      "5.591370409781016\n",
      "5.549240835363473\n",
      "5.471436992065114\n",
      "5.47308502256423\n",
      "5.6181088287607235\n",
      "5.617992969124792\n",
      "5.502768270541489\n",
      "5.6176084725565\n",
      "5.471436992065114\n",
      "5.618104714177521\n",
      "5.615497867748148\n",
      "5.618108730545369\n"
     ]
    },
    {
     "name": "stderr",
     "output_type": "stream",
     "text": [
      "/root/anaconda3/envs/gwp/lib/python3.12/site-packages/skopt/optimizer/optimizer.py:449: UserWarning: The objective has been evaluated at this point before.\n",
      "  warnings.warn(\"The objective has been evaluated \"\n"
     ]
    },
    {
     "name": "stdout",
     "output_type": "stream",
     "text": [
      "5.471436992065114\n",
      "5.471436992065114\n",
      "5.618107851161579\n"
     ]
    },
    {
     "name": "stderr",
     "output_type": "stream",
     "text": [
      "/root/anaconda3/envs/gwp/lib/python3.12/site-packages/skopt/optimizer/optimizer.py:449: UserWarning: The objective has been evaluated at this point before.\n",
      "  warnings.warn(\"The objective has been evaluated \"\n"
     ]
    },
    {
     "name": "stdout",
     "output_type": "stream",
     "text": [
      "5.471436992065114\n"
     ]
    },
    {
     "name": "stderr",
     "output_type": "stream",
     "text": [
      "/root/anaconda3/envs/gwp/lib/python3.12/site-packages/skopt/optimizer/optimizer.py:449: UserWarning: The objective has been evaluated at this point before.\n",
      "  warnings.warn(\"The objective has been evaluated \"\n",
      "/root/anaconda3/envs/gwp/lib/python3.12/site-packages/skopt/optimizer/optimizer.py:449: UserWarning: The objective has been evaluated at this point before.\n",
      "  warnings.warn(\"The objective has been evaluated \"\n"
     ]
    },
    {
     "name": "stdout",
     "output_type": "stream",
     "text": [
      "5.471436992065114\n",
      "5.471436992065114\n"
     ]
    },
    {
     "name": "stderr",
     "output_type": "stream",
     "text": [
      "/root/anaconda3/envs/gwp/lib/python3.12/site-packages/skopt/optimizer/optimizer.py:449: UserWarning: The objective has been evaluated at this point before.\n",
      "  warnings.warn(\"The objective has been evaluated \"\n"
     ]
    },
    {
     "name": "stdout",
     "output_type": "stream",
     "text": [
      "5.471436992065114\n",
      "5.614870949331334\n"
     ]
    },
    {
     "name": "stderr",
     "output_type": "stream",
     "text": [
      "/root/anaconda3/envs/gwp/lib/python3.12/site-packages/skopt/optimizer/optimizer.py:449: UserWarning: The objective has been evaluated at this point before.\n",
      "  warnings.warn(\"The objective has been evaluated \"\n",
      "/root/anaconda3/envs/gwp/lib/python3.12/site-packages/skopt/optimizer/optimizer.py:449: UserWarning: The objective has been evaluated at this point before.\n",
      "  warnings.warn(\"The objective has been evaluated \"\n"
     ]
    },
    {
     "name": "stdout",
     "output_type": "stream",
     "text": [
      "5.471436992065114\n",
      "5.471436992065114\n",
      "5.471436992065114\n"
     ]
    },
    {
     "name": "stderr",
     "output_type": "stream",
     "text": [
      "/root/anaconda3/envs/gwp/lib/python3.12/site-packages/skopt/optimizer/optimizer.py:449: UserWarning: The objective has been evaluated at this point before.\n",
      "  warnings.warn(\"The objective has been evaluated \"\n",
      "/root/anaconda3/envs/gwp/lib/python3.12/site-packages/skopt/optimizer/optimizer.py:449: UserWarning: The objective has been evaluated at this point before.\n",
      "  warnings.warn(\"The objective has been evaluated \"\n"
     ]
    },
    {
     "name": "stdout",
     "output_type": "stream",
     "text": [
      "5.471436992065114\n",
      "5.471436992065114\n"
     ]
    },
    {
     "name": "stderr",
     "output_type": "stream",
     "text": [
      "/root/anaconda3/envs/gwp/lib/python3.12/site-packages/skopt/optimizer/optimizer.py:449: UserWarning: The objective has been evaluated at this point before.\n",
      "  warnings.warn(\"The objective has been evaluated \"\n",
      "/root/anaconda3/envs/gwp/lib/python3.12/site-packages/skopt/optimizer/optimizer.py:449: UserWarning: The objective has been evaluated at this point before.\n",
      "  warnings.warn(\"The objective has been evaluated \"\n"
     ]
    },
    {
     "name": "stdout",
     "output_type": "stream",
     "text": [
      "5.471436992065114\n",
      "5.471436992065114\n"
     ]
    },
    {
     "name": "stderr",
     "output_type": "stream",
     "text": [
      "/root/anaconda3/envs/gwp/lib/python3.12/site-packages/skopt/optimizer/optimizer.py:449: UserWarning: The objective has been evaluated at this point before.\n",
      "  warnings.warn(\"The objective has been evaluated \"\n",
      "/root/anaconda3/envs/gwp/lib/python3.12/site-packages/skopt/optimizer/optimizer.py:449: UserWarning: The objective has been evaluated at this point before.\n",
      "  warnings.warn(\"The objective has been evaluated \"\n"
     ]
    },
    {
     "name": "stdout",
     "output_type": "stream",
     "text": [
      "5.471436992065114\n"
     ]
    },
    {
     "name": "stderr",
     "output_type": "stream",
     "text": [
      "/root/anaconda3/envs/gwp/lib/python3.12/site-packages/skopt/optimizer/optimizer.py:449: UserWarning: The objective has been evaluated at this point before.\n",
      "  warnings.warn(\"The objective has been evaluated \"\n"
     ]
    },
    {
     "name": "stdout",
     "output_type": "stream",
     "text": [
      "5.471436992065114\n",
      "5.59369062068171\n"
     ]
    },
    {
     "name": "stderr",
     "output_type": "stream",
     "text": [
      "/root/anaconda3/envs/gwp/lib/python3.12/site-packages/skopt/optimizer/optimizer.py:449: UserWarning: The objective has been evaluated at this point before.\n",
      "  warnings.warn(\"The objective has been evaluated \"\n"
     ]
    },
    {
     "name": "stdout",
     "output_type": "stream",
     "text": [
      "5.471436992065114\n"
     ]
    },
    {
     "name": "stderr",
     "output_type": "stream",
     "text": [
      "/root/anaconda3/envs/gwp/lib/python3.12/site-packages/skopt/optimizer/optimizer.py:449: UserWarning: The objective has been evaluated at this point before.\n",
      "  warnings.warn(\"The objective has been evaluated \"\n"
     ]
    },
    {
     "name": "stdout",
     "output_type": "stream",
     "text": [
      "5.471436992065114\n"
     ]
    },
    {
     "name": "stderr",
     "output_type": "stream",
     "text": [
      "/root/anaconda3/envs/gwp/lib/python3.12/site-packages/skopt/optimizer/optimizer.py:449: UserWarning: The objective has been evaluated at this point before.\n",
      "  warnings.warn(\"The objective has been evaluated \"\n"
     ]
    },
    {
     "name": "stdout",
     "output_type": "stream",
     "text": [
      "5.471436992065114\n"
     ]
    },
    {
     "name": "stderr",
     "output_type": "stream",
     "text": [
      "/root/anaconda3/envs/gwp/lib/python3.12/site-packages/skopt/optimizer/optimizer.py:449: UserWarning: The objective has been evaluated at this point before.\n",
      "  warnings.warn(\"The objective has been evaluated \"\n"
     ]
    },
    {
     "name": "stdout",
     "output_type": "stream",
     "text": [
      "5.471436992065114\n"
     ]
    },
    {
     "name": "stderr",
     "output_type": "stream",
     "text": [
      "/root/anaconda3/envs/gwp/lib/python3.12/site-packages/skopt/optimizer/optimizer.py:449: UserWarning: The objective has been evaluated at this point before.\n",
      "  warnings.warn(\"The objective has been evaluated \"\n"
     ]
    },
    {
     "name": "stdout",
     "output_type": "stream",
     "text": [
      "5.471436992065114\n"
     ]
    },
    {
     "name": "stderr",
     "output_type": "stream",
     "text": [
      "/root/anaconda3/envs/gwp/lib/python3.12/site-packages/skopt/optimizer/optimizer.py:449: UserWarning: The objective has been evaluated at this point before.\n",
      "  warnings.warn(\"The objective has been evaluated \"\n"
     ]
    },
    {
     "name": "stdout",
     "output_type": "stream",
     "text": [
      "5.471436992065114\n"
     ]
    },
    {
     "name": "stderr",
     "output_type": "stream",
     "text": [
      "/root/anaconda3/envs/gwp/lib/python3.12/site-packages/skopt/optimizer/optimizer.py:449: UserWarning: The objective has been evaluated at this point before.\n",
      "  warnings.warn(\"The objective has been evaluated \"\n"
     ]
    },
    {
     "name": "stdout",
     "output_type": "stream",
     "text": [
      "5.471436992065114\n"
     ]
    },
    {
     "name": "stderr",
     "output_type": "stream",
     "text": [
      "/root/anaconda3/envs/gwp/lib/python3.12/site-packages/skopt/optimizer/optimizer.py:449: UserWarning: The objective has been evaluated at this point before.\n",
      "  warnings.warn(\"The objective has been evaluated \"\n"
     ]
    },
    {
     "name": "stdout",
     "output_type": "stream",
     "text": [
      "5.471436992065114\n"
     ]
    },
    {
     "name": "stderr",
     "output_type": "stream",
     "text": [
      "/root/anaconda3/envs/gwp/lib/python3.12/site-packages/skopt/optimizer/optimizer.py:449: UserWarning: The objective has been evaluated at this point before.\n",
      "  warnings.warn(\"The objective has been evaluated \"\n"
     ]
    },
    {
     "name": "stdout",
     "output_type": "stream",
     "text": [
      "5.471436992065114\n"
     ]
    },
    {
     "name": "stderr",
     "output_type": "stream",
     "text": [
      "/root/anaconda3/envs/gwp/lib/python3.12/site-packages/skopt/optimizer/optimizer.py:449: UserWarning: The objective has been evaluated at this point before.\n",
      "  warnings.warn(\"The objective has been evaluated \"\n"
     ]
    },
    {
     "name": "stdout",
     "output_type": "stream",
     "text": [
      "5.471436992065114\n",
      "5.471436992065114\n"
     ]
    },
    {
     "name": "stderr",
     "output_type": "stream",
     "text": [
      "/root/anaconda3/envs/gwp/lib/python3.12/site-packages/skopt/optimizer/optimizer.py:449: UserWarning: The objective has been evaluated at this point before.\n",
      "  warnings.warn(\"The objective has been evaluated \"\n"
     ]
    },
    {
     "name": "stdout",
     "output_type": "stream",
     "text": [
      "5.471436992065114\n",
      "5.471436992065114\n",
      "5.471436992065114\n"
     ]
    },
    {
     "name": "stderr",
     "output_type": "stream",
     "text": [
      "/root/anaconda3/envs/gwp/lib/python3.12/site-packages/skopt/optimizer/optimizer.py:449: UserWarning: The objective has been evaluated at this point before.\n",
      "  warnings.warn(\"The objective has been evaluated \"\n"
     ]
    },
    {
     "name": "stdout",
     "output_type": "stream",
     "text": [
      "5.471436992065114\n",
      "5.471436992065114\n"
     ]
    },
    {
     "name": "stderr",
     "output_type": "stream",
     "text": [
      "/root/anaconda3/envs/gwp/lib/python3.12/site-packages/skopt/optimizer/optimizer.py:449: UserWarning: The objective has been evaluated at this point before.\n",
      "  warnings.warn(\"The objective has been evaluated \"\n"
     ]
    },
    {
     "name": "stdout",
     "output_type": "stream",
     "text": [
      "5.471436992065114\n"
     ]
    },
    {
     "name": "stderr",
     "output_type": "stream",
     "text": [
      "/root/anaconda3/envs/gwp/lib/python3.12/site-packages/skopt/optimizer/optimizer.py:449: UserWarning: The objective has been evaluated at this point before.\n",
      "  warnings.warn(\"The objective has been evaluated \"\n"
     ]
    },
    {
     "name": "stdout",
     "output_type": "stream",
     "text": [
      "5.471436992065114\n"
     ]
    },
    {
     "name": "stderr",
     "output_type": "stream",
     "text": [
      "/root/anaconda3/envs/gwp/lib/python3.12/site-packages/skopt/optimizer/optimizer.py:449: UserWarning: The objective has been evaluated at this point before.\n",
      "  warnings.warn(\"The objective has been evaluated \"\n"
     ]
    },
    {
     "name": "stdout",
     "output_type": "stream",
     "text": [
      "5.471436992065114\n",
      "5.471436992065114\n",
      "5.471436992065114\n",
      "5.471436992065114\n"
     ]
    },
    {
     "name": "stderr",
     "output_type": "stream",
     "text": [
      "/root/anaconda3/envs/gwp/lib/python3.12/site-packages/skopt/optimizer/optimizer.py:449: UserWarning: The objective has been evaluated at this point before.\n",
      "  warnings.warn(\"The objective has been evaluated \"\n"
     ]
    },
    {
     "name": "stdout",
     "output_type": "stream",
     "text": [
      "5.471436992065114\n"
     ]
    },
    {
     "name": "stderr",
     "output_type": "stream",
     "text": [
      "/root/anaconda3/envs/gwp/lib/python3.12/site-packages/skopt/optimizer/optimizer.py:449: UserWarning: The objective has been evaluated at this point before.\n",
      "  warnings.warn(\"The objective has been evaluated \"\n"
     ]
    },
    {
     "name": "stdout",
     "output_type": "stream",
     "text": [
      "5.471436992065114\n",
      "5.471436992065114\n",
      "5.471436992065114\n"
     ]
    },
    {
     "name": "stderr",
     "output_type": "stream",
     "text": [
      "/root/anaconda3/envs/gwp/lib/python3.12/site-packages/skopt/optimizer/optimizer.py:449: UserWarning: The objective has been evaluated at this point before.\n",
      "  warnings.warn(\"The objective has been evaluated \"\n"
     ]
    },
    {
     "name": "stdout",
     "output_type": "stream",
     "text": [
      "5.471436992065114\n"
     ]
    },
    {
     "name": "stderr",
     "output_type": "stream",
     "text": [
      "/root/anaconda3/envs/gwp/lib/python3.12/site-packages/skopt/optimizer/optimizer.py:449: UserWarning: The objective has been evaluated at this point before.\n",
      "  warnings.warn(\"The objective has been evaluated \"\n"
     ]
    },
    {
     "name": "stdout",
     "output_type": "stream",
     "text": [
      "5.471436992065114\n",
      "5.471436992065114\n",
      "5.471436992065114\n",
      "5.471436992065114\n",
      "5.471436992065114\n",
      "5.471436992065114\n",
      "5.471436992065114\n",
      "5.471436992065114\n",
      "5.471436992065114\n",
      "5.471436992065114\n",
      "5.471436992065114\n",
      "5.471436992065114\n",
      "5.471436992065114\n"
     ]
    },
    {
     "name": "stderr",
     "output_type": "stream",
     "text": [
      "/root/anaconda3/envs/gwp/lib/python3.12/site-packages/skopt/optimizer/optimizer.py:449: UserWarning: The objective has been evaluated at this point before.\n",
      "  warnings.warn(\"The objective has been evaluated \"\n"
     ]
    },
    {
     "name": "stdout",
     "output_type": "stream",
     "text": [
      "5.471436992065114\n",
      "5.471436992065114\n"
     ]
    },
    {
     "name": "stderr",
     "output_type": "stream",
     "text": [
      "/root/anaconda3/envs/gwp/lib/python3.12/site-packages/skopt/optimizer/optimizer.py:449: UserWarning: The objective has been evaluated at this point before.\n",
      "  warnings.warn(\"The objective has been evaluated \"\n"
     ]
    },
    {
     "name": "stdout",
     "output_type": "stream",
     "text": [
      "5.471436992065114\n",
      "5.471436992065114\n",
      "5.471436992065114\n",
      "5.471436992065114\n",
      "5.471436992065114\n",
      "5.471436992065114\n",
      "5.471436992065114\n",
      "5.471436992065114\n",
      "5.471436992065114\n",
      "5.471436992065114\n",
      "5.471436992065114\n",
      "5.471436992065114\n",
      "5.471436992065114\n",
      "5.471436992065114\n",
      "5.471436992065114\n",
      "5.471436992065114\n",
      "5.471436992065114\n"
     ]
    },
    {
     "name": "stderr",
     "output_type": "stream",
     "text": [
      "/root/anaconda3/envs/gwp/lib/python3.12/site-packages/skopt/optimizer/optimizer.py:449: UserWarning: The objective has been evaluated at this point before.\n",
      "  warnings.warn(\"The objective has been evaluated \"\n"
     ]
    },
    {
     "name": "stdout",
     "output_type": "stream",
     "text": [
      "5.471436992065114\n",
      "5.471436992065114\n",
      "5.471436992065114\n",
      "Training: r2,mae,rmse:  0.7102788189638196 0.8365283141199142 1.011837945878575\n",
      "Test: r2,mae,rmse:  0.5853067876797983 0.8832614926781914 1.0041763769322607\n",
      "                       Importance\n",
      "fr_methoxy          -1.110223e-16\n",
      "EState_VSA2          8.057571e-02\n",
      "PEOE_VSA1            4.461346e-01\n",
      "SMR_VSA6             2.367671e-01\n",
      "Chi3n                5.306238e-01\n",
      "MinPartialCharge     6.016622e-01\n",
      "SlogP_VSA2           9.545819e-01\n",
      "MinAbsPartialCharge  4.710707e-01\n",
      "Chi4n                2.365200e-01\n",
      "Chi4v                2.450798e-01\n"
     ]
    }
   ],
   "source": [
    "data_prepare(data_csv=\"./ipcc_dataset.csv\",mm = \"Kr\", tar = \"GWP\",verbos=False)\n",
    "df_Xtrain, df_Ytrain, df_Xtest, df_Ytest=data_split(mm = \"Kr\", tar = \"GWP\",ratio = 0.8,verbos = True)\n",
    "df_Xtrain, df_Ytrain, df_Xtest, df_Ytest=normal(df_Xtrain, df_Ytrain, df_Xtest, df_Ytest, mm='Kr',tar='GWP')\n",
    "kr(df_Xtrain, df_Ytrain, df_Xtest, df_Ytest, tar='GWP', n_job=1, call=100, save = True)"
   ]
  },
  {
   "cell_type": "code",
   "execution_count": 26,
   "id": "5758de24-1be0-499c-a9f0-eb495f88068e",
   "metadata": {
    "scrolled": true
   },
   "outputs": [
    {
     "name": "stdout",
     "output_type": "stream",
     "text": [
      "Selecting point  1\n",
      "Selecting point  2\n",
      "Selecting point  3\n",
      "Selecting point  4\n",
      "Selecting point  5\n",
      "Selecting point  6\n",
      "Selecting point  7\n",
      "Selecting point  8\n",
      "Selecting point  9\n",
      "Selecting point  10\n",
      "Selecting point  11\n",
      "Selecting point  12\n",
      "Selecting point  13\n",
      "Selecting point  14\n",
      "Selecting point  15\n",
      "Selecting point  16\n",
      "Selecting point  17\n",
      "Selecting point  18\n",
      "Selecting point  19\n",
      "Selecting point  20\n",
      "Selecting point  21\n",
      "Selecting point  22\n",
      "Selecting point  23\n",
      "Selecting point  24\n",
      "Selecting point  25\n",
      "Selecting point  26\n",
      "Selecting point  27\n",
      "Selecting point  28\n",
      "Selecting point  29\n",
      "Selecting point  30\n",
      "Selecting point  31\n",
      "Selecting point  32\n",
      "Selecting point  33\n",
      "Selecting point  34\n",
      "Selecting point  35\n",
      "Selecting point  36\n",
      "Selecting point  37\n",
      "Selecting point  38\n",
      "Selecting point  39\n",
      "Selecting point  40\n",
      "Selecting point  41\n",
      "Selecting point  42\n",
      "Selecting point  43\n",
      "Selecting point  44\n",
      "Selecting point  45\n",
      "Selecting point  46\n",
      "Selecting point  47\n",
      "Selecting point  48\n",
      "Selecting point  49\n",
      "Selecting point  50\n",
      "Selecting point  51\n",
      "Selecting point  52\n",
      "Selecting point  53\n",
      "Selecting point  54\n",
      "Selecting point  55\n",
      "Selecting point  56\n",
      "Selecting point  57\n",
      "Selecting point  58\n",
      "Selecting point  59\n",
      "Selecting point  60\n",
      "Selecting point  61\n",
      "Selecting point  62\n",
      "Selecting point  63\n",
      "Selecting point  64\n",
      "Selecting point  65\n",
      "Selecting point  66\n",
      "Selecting point  67\n",
      "Selecting point  68\n",
      "Selecting point  69\n",
      "Selecting point  70\n",
      "Selecting point  71\n",
      "Selecting point  72\n",
      "Selecting point  73\n",
      "Selecting point  74\n",
      "Selecting point  75\n",
      "Selecting point  76\n",
      "Selecting point  77\n",
      "Selecting point  78\n",
      "Selecting point  79\n",
      "Selecting point  80\n",
      "Selecting point  81\n",
      "Selecting point  82\n",
      "Selecting point  83\n",
      "Selecting point  84\n",
      "Selecting point  85\n",
      "Selecting point  86\n",
      "Selecting point  87\n",
      "Selecting point  88\n",
      "Selecting point  89\n",
      "Selecting point  90\n",
      "Selecting point  91\n",
      "Selecting point  92\n",
      "Selecting point  93\n",
      "Selecting point  94\n",
      "Selecting point  95\n",
      "Selecting point  96\n",
      "Selecting point  97\n",
      "Selecting point  98\n",
      "Selecting point  99\n",
      "Selecting point  100\n",
      "Selecting point  101\n",
      "Selecting point  102\n",
      "Selecting point  103\n",
      "Selecting point  104\n",
      "Selecting point  105\n",
      "Selecting point  106\n",
      "Selecting point  107\n",
      "Selecting point  108\n",
      "Selecting point  109\n",
      "Selecting point  110\n",
      "Selecting point  111\n",
      "Selecting point  112\n",
      "Selecting point  113\n",
      "Selecting point  114\n",
      "Selecting point  115\n",
      "Selecting point  116\n",
      "Selecting point  117\n",
      "Selecting point  118\n",
      "Selecting point  119\n",
      "Selecting point  120\n",
      "Selecting point  121\n",
      "Selecting point  122\n",
      "Selecting point  123\n",
      "Selecting point  124\n",
      "Selecting point  125\n",
      "Selecting point  126\n",
      "Selecting point  127\n",
      "Selecting point  128\n",
      "Selecting point  129\n",
      "Selecting point  130\n",
      "Selecting point  131\n",
      "Selecting point  132\n",
      "Selecting point  133\n",
      "Selecting point  134\n",
      "Selecting point  135\n",
      "Selecting point  136\n",
      "Selecting point  137\n",
      "Selecting point  138\n",
      "Selecting point  139\n",
      "Selecting point  140\n",
      "Selecting point  141\n",
      "Selecting point  142\n",
      "Selecting point  143\n",
      "Selecting point  144\n",
      "Selecting point  145\n",
      "Selecting point  146\n",
      "Selecting point  147\n",
      "Selecting point  148\n",
      "Selecting point  149\n",
      "Selecting point  150\n",
      "Selecting point  151\n",
      "Selecting point  152\n",
      "Selecting point  153\n",
      "Selecting point  154\n",
      "Selecting point  155\n",
      "Total number of materials :  196\n",
      "Number of features:  10\n",
      "0.8421933412636031\n",
      "0.8533074709448009\n",
      "0.8567183114819048\n",
      "0.8275335561885828\n",
      "0.8493250951641202\n",
      "0.858012957625059\n",
      "0.8559196878096136\n",
      "0.8937162821229363\n",
      "0.8389147795575779\n",
      "0.8762800915633349\n",
      "0.8655898977806629\n",
      "0.8296945736321218\n",
      "0.8352838484603037\n",
      "0.8703026626763062\n",
      "0.8555699174113499\n",
      "0.8680512979812685\n",
      "0.8626063841187406\n",
      "0.8648763009187748\n",
      "0.8858940559090553\n",
      "0.6496688020648429\n",
      "1.2184309310098587\n",
      "0.6946165366479068\n",
      "0.6839184499310852\n"
     ]
    },
    {
     "name": "stderr",
     "output_type": "stream",
     "text": [
      "/root/anaconda3/envs/gwp/lib/python3.12/site-packages/skopt/optimizer/optimizer.py:449: UserWarning: The objective has been evaluated at this point before.\n",
      "  warnings.warn(\"The objective has been evaluated \"\n"
     ]
    },
    {
     "name": "stdout",
     "output_type": "stream",
     "text": [
      "0.6447985289717678\n",
      "0.6759332402996032\n"
     ]
    },
    {
     "name": "stderr",
     "output_type": "stream",
     "text": [
      "/root/anaconda3/envs/gwp/lib/python3.12/site-packages/skopt/optimizer/optimizer.py:449: UserWarning: The objective has been evaluated at this point before.\n",
      "  warnings.warn(\"The objective has been evaluated \"\n"
     ]
    },
    {
     "name": "stdout",
     "output_type": "stream",
     "text": [
      "0.6331257912361878\n"
     ]
    },
    {
     "name": "stderr",
     "output_type": "stream",
     "text": [
      "/root/anaconda3/envs/gwp/lib/python3.12/site-packages/skopt/optimizer/optimizer.py:449: UserWarning: The objective has been evaluated at this point before.\n",
      "  warnings.warn(\"The objective has been evaluated \"\n"
     ]
    },
    {
     "name": "stdout",
     "output_type": "stream",
     "text": [
      "0.6414361635824927\n",
      "0.6475808982413269\n"
     ]
    },
    {
     "name": "stderr",
     "output_type": "stream",
     "text": [
      "/root/anaconda3/envs/gwp/lib/python3.12/site-packages/skopt/optimizer/optimizer.py:449: UserWarning: The objective has been evaluated at this point before.\n",
      "  warnings.warn(\"The objective has been evaluated \"\n"
     ]
    },
    {
     "name": "stdout",
     "output_type": "stream",
     "text": [
      "0.6584484477243682\n",
      "0.6913290723389919\n",
      "0.65163232650508\n",
      "0.6682414447395065\n",
      "0.6698513378028486\n",
      "0.8574926193733494\n",
      "0.6743065663058335\n",
      "0.6384716536406506\n",
      "0.6565614434648491\n",
      "0.6777626949124761\n",
      "0.6464262358182619\n",
      "0.6475440325297598\n",
      "0.6580215855811706\n",
      "0.6789938655350418\n"
     ]
    },
    {
     "name": "stderr",
     "output_type": "stream",
     "text": [
      "/root/anaconda3/envs/gwp/lib/python3.12/site-packages/skopt/optimizer/optimizer.py:449: UserWarning: The objective has been evaluated at this point before.\n",
      "  warnings.warn(\"The objective has been evaluated \"\n"
     ]
    },
    {
     "name": "stdout",
     "output_type": "stream",
     "text": [
      "0.6538664644068717\n",
      "0.6707314931723473\n",
      "0.7189156736475981\n",
      "0.6615329412367708\n"
     ]
    },
    {
     "name": "stderr",
     "output_type": "stream",
     "text": [
      "/root/anaconda3/envs/gwp/lib/python3.12/site-packages/skopt/optimizer/optimizer.py:449: UserWarning: The objective has been evaluated at this point before.\n",
      "  warnings.warn(\"The objective has been evaluated \"\n"
     ]
    },
    {
     "name": "stdout",
     "output_type": "stream",
     "text": [
      "0.6561024988869413\n"
     ]
    },
    {
     "name": "stderr",
     "output_type": "stream",
     "text": [
      "/root/anaconda3/envs/gwp/lib/python3.12/site-packages/skopt/optimizer/optimizer.py:449: UserWarning: The objective has been evaluated at this point before.\n",
      "  warnings.warn(\"The objective has been evaluated \"\n"
     ]
    },
    {
     "name": "stdout",
     "output_type": "stream",
     "text": [
      "0.6406537026609779\n"
     ]
    },
    {
     "name": "stderr",
     "output_type": "stream",
     "text": [
      "/root/anaconda3/envs/gwp/lib/python3.12/site-packages/skopt/optimizer/optimizer.py:449: UserWarning: The objective has been evaluated at this point before.\n",
      "  warnings.warn(\"The objective has been evaluated \"\n"
     ]
    },
    {
     "name": "stdout",
     "output_type": "stream",
     "text": [
      "0.6600716796833572\n",
      "0.6706249295518154\n",
      "0.6669791559393667\n"
     ]
    },
    {
     "name": "stderr",
     "output_type": "stream",
     "text": [
      "/root/anaconda3/envs/gwp/lib/python3.12/site-packages/skopt/optimizer/optimizer.py:449: UserWarning: The objective has been evaluated at this point before.\n",
      "  warnings.warn(\"The objective has been evaluated \"\n"
     ]
    },
    {
     "name": "stdout",
     "output_type": "stream",
     "text": [
      "0.670610523120167\n",
      "0.6615792699707234\n",
      "0.6500831694687067\n"
     ]
    },
    {
     "name": "stderr",
     "output_type": "stream",
     "text": [
      "/root/anaconda3/envs/gwp/lib/python3.12/site-packages/skopt/optimizer/optimizer.py:449: UserWarning: The objective has been evaluated at this point before.\n",
      "  warnings.warn(\"The objective has been evaluated \"\n"
     ]
    },
    {
     "name": "stdout",
     "output_type": "stream",
     "text": [
      "0.6444646810442124\n",
      "0.8755185137742808\n",
      "0.6642225276999151\n",
      "0.6442513480935502\n",
      "0.7084758997167233\n"
     ]
    },
    {
     "name": "stderr",
     "output_type": "stream",
     "text": [
      "/root/anaconda3/envs/gwp/lib/python3.12/site-packages/skopt/optimizer/optimizer.py:449: UserWarning: The objective has been evaluated at this point before.\n",
      "  warnings.warn(\"The objective has been evaluated \"\n"
     ]
    },
    {
     "name": "stdout",
     "output_type": "stream",
     "text": [
      "0.6618254763869076\n",
      "0.8464148708934618\n"
     ]
    },
    {
     "name": "stderr",
     "output_type": "stream",
     "text": [
      "/root/anaconda3/envs/gwp/lib/python3.12/site-packages/skopt/optimizer/optimizer.py:449: UserWarning: The objective has been evaluated at this point before.\n",
      "  warnings.warn(\"The objective has been evaluated \"\n"
     ]
    },
    {
     "name": "stdout",
     "output_type": "stream",
     "text": [
      "0.6595253023845145\n",
      "0.6505138610465304\n"
     ]
    },
    {
     "name": "stderr",
     "output_type": "stream",
     "text": [
      "/root/anaconda3/envs/gwp/lib/python3.12/site-packages/skopt/optimizer/optimizer.py:449: UserWarning: The objective has been evaluated at this point before.\n",
      "  warnings.warn(\"The objective has been evaluated \"\n"
     ]
    },
    {
     "name": "stdout",
     "output_type": "stream",
     "text": [
      "0.6449439177226305\n",
      "0.6403100647598737\n",
      "0.667660587733246\n",
      "0.6680404090902383\n"
     ]
    },
    {
     "name": "stderr",
     "output_type": "stream",
     "text": [
      "/root/anaconda3/envs/gwp/lib/python3.12/site-packages/skopt/optimizer/optimizer.py:449: UserWarning: The objective has been evaluated at this point before.\n",
      "  warnings.warn(\"The objective has been evaluated \"\n"
     ]
    },
    {
     "name": "stdout",
     "output_type": "stream",
     "text": [
      "0.6694084532274072\n"
     ]
    },
    {
     "name": "stderr",
     "output_type": "stream",
     "text": [
      "/root/anaconda3/envs/gwp/lib/python3.12/site-packages/skopt/optimizer/optimizer.py:449: UserWarning: The objective has been evaluated at this point before.\n",
      "  warnings.warn(\"The objective has been evaluated \"\n"
     ]
    },
    {
     "name": "stdout",
     "output_type": "stream",
     "text": [
      "0.6347525726349971\n"
     ]
    },
    {
     "name": "stderr",
     "output_type": "stream",
     "text": [
      "/root/anaconda3/envs/gwp/lib/python3.12/site-packages/skopt/optimizer/optimizer.py:449: UserWarning: The objective has been evaluated at this point before.\n",
      "  warnings.warn(\"The objective has been evaluated \"\n"
     ]
    },
    {
     "name": "stdout",
     "output_type": "stream",
     "text": [
      "0.6874223427002827\n"
     ]
    },
    {
     "name": "stderr",
     "output_type": "stream",
     "text": [
      "/root/anaconda3/envs/gwp/lib/python3.12/site-packages/skopt/optimizer/optimizer.py:449: UserWarning: The objective has been evaluated at this point before.\n",
      "  warnings.warn(\"The objective has been evaluated \"\n"
     ]
    },
    {
     "name": "stdout",
     "output_type": "stream",
     "text": [
      "0.6373711971368918\n",
      "1.2646909598340599\n",
      "0.6296578246827474\n",
      "0.7206587616998498\n",
      "0.6659496137085721\n"
     ]
    },
    {
     "name": "stderr",
     "output_type": "stream",
     "text": [
      "/root/anaconda3/envs/gwp/lib/python3.12/site-packages/skopt/optimizer/optimizer.py:449: UserWarning: The objective has been evaluated at this point before.\n",
      "  warnings.warn(\"The objective has been evaluated \"\n"
     ]
    },
    {
     "name": "stdout",
     "output_type": "stream",
     "text": [
      "0.6782214116373676\n"
     ]
    },
    {
     "name": "stderr",
     "output_type": "stream",
     "text": [
      "/root/anaconda3/envs/gwp/lib/python3.12/site-packages/skopt/optimizer/optimizer.py:449: UserWarning: The objective has been evaluated at this point before.\n",
      "  warnings.warn(\"The objective has been evaluated \"\n"
     ]
    },
    {
     "name": "stdout",
     "output_type": "stream",
     "text": [
      "0.6822990789417089\n",
      "0.6643599833934937\n",
      "0.6376216560465213\n",
      "0.645532784008652\n"
     ]
    },
    {
     "name": "stderr",
     "output_type": "stream",
     "text": [
      "/root/anaconda3/envs/gwp/lib/python3.12/site-packages/skopt/optimizer/optimizer.py:449: UserWarning: The objective has been evaluated at this point before.\n",
      "  warnings.warn(\"The objective has been evaluated \"\n"
     ]
    },
    {
     "name": "stdout",
     "output_type": "stream",
     "text": [
      "0.6553111487273199\n"
     ]
    },
    {
     "name": "stderr",
     "output_type": "stream",
     "text": [
      "/root/anaconda3/envs/gwp/lib/python3.12/site-packages/skopt/optimizer/optimizer.py:449: UserWarning: The objective has been evaluated at this point before.\n",
      "  warnings.warn(\"The objective has been evaluated \"\n"
     ]
    },
    {
     "name": "stdout",
     "output_type": "stream",
     "text": [
      "0.6497445545473419\n",
      "0.6207034500748584\n"
     ]
    },
    {
     "name": "stderr",
     "output_type": "stream",
     "text": [
      "/root/anaconda3/envs/gwp/lib/python3.12/site-packages/skopt/optimizer/optimizer.py:449: UserWarning: The objective has been evaluated at this point before.\n",
      "  warnings.warn(\"The objective has been evaluated \"\n"
     ]
    },
    {
     "name": "stdout",
     "output_type": "stream",
     "text": [
      "0.6526159623513308\n"
     ]
    },
    {
     "name": "stderr",
     "output_type": "stream",
     "text": [
      "/root/anaconda3/envs/gwp/lib/python3.12/site-packages/skopt/optimizer/optimizer.py:449: UserWarning: The objective has been evaluated at this point before.\n",
      "  warnings.warn(\"The objective has been evaluated \"\n"
     ]
    },
    {
     "name": "stdout",
     "output_type": "stream",
     "text": [
      "0.6658513843502746\n"
     ]
    },
    {
     "name": "stderr",
     "output_type": "stream",
     "text": [
      "/root/anaconda3/envs/gwp/lib/python3.12/site-packages/skopt/optimizer/optimizer.py:449: UserWarning: The objective has been evaluated at this point before.\n",
      "  warnings.warn(\"The objective has been evaluated \"\n"
     ]
    },
    {
     "name": "stdout",
     "output_type": "stream",
     "text": [
      "0.6789120629147615\n",
      "0.6467825544899195\n",
      "0.6962313356111145\n",
      "0.653699094639471\n",
      "0.6585462580255308\n"
     ]
    },
    {
     "name": "stderr",
     "output_type": "stream",
     "text": [
      "/root/anaconda3/envs/gwp/lib/python3.12/site-packages/skopt/optimizer/optimizer.py:449: UserWarning: The objective has been evaluated at this point before.\n",
      "  warnings.warn(\"The objective has been evaluated \"\n"
     ]
    },
    {
     "name": "stdout",
     "output_type": "stream",
     "text": [
      "0.6597657442260129\n",
      "0.6640450714393777\n",
      "0.6563225976892081\n"
     ]
    },
    {
     "name": "stderr",
     "output_type": "stream",
     "text": [
      "/root/anaconda3/envs/gwp/lib/python3.12/site-packages/skopt/optimizer/optimizer.py:449: UserWarning: The objective has been evaluated at this point before.\n",
      "  warnings.warn(\"The objective has been evaluated \"\n"
     ]
    },
    {
     "name": "stdout",
     "output_type": "stream",
     "text": [
      "0.655836636807104\n"
     ]
    },
    {
     "name": "stderr",
     "output_type": "stream",
     "text": [
      "/root/anaconda3/envs/gwp/lib/python3.12/site-packages/skopt/optimizer/optimizer.py:449: UserWarning: The objective has been evaluated at this point before.\n",
      "  warnings.warn(\"The objective has been evaluated \"\n"
     ]
    },
    {
     "name": "stdout",
     "output_type": "stream",
     "text": [
      "0.6478751764889195\n"
     ]
    },
    {
     "name": "stderr",
     "output_type": "stream",
     "text": [
      "/root/anaconda3/envs/gwp/lib/python3.12/site-packages/skopt/optimizer/optimizer.py:449: UserWarning: The objective has been evaluated at this point before.\n",
      "  warnings.warn(\"The objective has been evaluated \"\n"
     ]
    },
    {
     "name": "stdout",
     "output_type": "stream",
     "text": [
      "0.6500705821032586\n"
     ]
    },
    {
     "name": "stderr",
     "output_type": "stream",
     "text": [
      "/root/anaconda3/envs/gwp/lib/python3.12/site-packages/skopt/optimizer/optimizer.py:449: UserWarning: The objective has been evaluated at this point before.\n",
      "  warnings.warn(\"The objective has been evaluated \"\n"
     ]
    },
    {
     "name": "stdout",
     "output_type": "stream",
     "text": [
      "0.64688438875316\n"
     ]
    },
    {
     "name": "stderr",
     "output_type": "stream",
     "text": [
      "/root/anaconda3/envs/gwp/lib/python3.12/site-packages/skopt/optimizer/optimizer.py:449: UserWarning: The objective has been evaluated at this point before.\n",
      "  warnings.warn(\"The objective has been evaluated \"\n"
     ]
    },
    {
     "name": "stdout",
     "output_type": "stream",
     "text": [
      "0.6741083252972844\n"
     ]
    },
    {
     "name": "stderr",
     "output_type": "stream",
     "text": [
      "/root/anaconda3/envs/gwp/lib/python3.12/site-packages/skopt/optimizer/optimizer.py:449: UserWarning: The objective has been evaluated at this point before.\n",
      "  warnings.warn(\"The objective has been evaluated \"\n"
     ]
    },
    {
     "name": "stdout",
     "output_type": "stream",
     "text": [
      "0.6588495449720136\n"
     ]
    },
    {
     "name": "stderr",
     "output_type": "stream",
     "text": [
      "/root/anaconda3/envs/gwp/lib/python3.12/site-packages/skopt/optimizer/optimizer.py:449: UserWarning: The objective has been evaluated at this point before.\n",
      "  warnings.warn(\"The objective has been evaluated \"\n"
     ]
    },
    {
     "name": "stdout",
     "output_type": "stream",
     "text": [
      "0.6329179645839046\n",
      "Best score=0.6207\n",
      "Training: r2,mae,rmse:  0.9295018139665762 0.4368449876769571 0.5017420175898442\n",
      "Test: r2,mae,rmse:  0.877294392404097 0.4577495150885246 0.5807061670619282\n",
      "impact:  Index(['IP', 'qed', 'FractionCSP3', 'Chi2v', 'MinAbsEStateIndex',\n",
      "       'VSA_EState8', 'fr_alkyl_halide', 'BCUT2D_LOGPHI', 'fr_methoxy', 'SPS'],\n",
      "      dtype='object') [0.54867766 0.08351042 0.08805421 0.06290387 0.04570754 0.05960625\n",
      " 0.03554839 0.04845001 0.00436243 0.02317923]\n"
     ]
    }
   ],
   "source": [
    "data_prepare(data_csv=\"./ipcc_dataset.csv\",mm = \"Ada\", tar = \"GWP\",verbos=False)\n",
    "df_Xtrain, df_Ytrain, df_Xtest, df_Ytest=data_split(mm = \"Ada\", tar = \"GWP\",ratio = 0.8,verbos = True)\n",
    "df_Xtrain, df_Ytrain, df_Xtest, df_Ytest=normal(df_Xtrain, df_Ytrain, df_Xtest, df_Ytest, mm='Ada',tar='GWP')\n",
    "ada(df_Xtrain, df_Ytrain, df_Xtest, df_Ytest, tar='GWP', n_job=1, call=100, save = True)"
   ]
  },
  {
   "cell_type": "code",
   "execution_count": 27,
   "id": "c905980f-18fc-4024-aae5-93ac82c38a7e",
   "metadata": {
    "scrolled": true
   },
   "outputs": [
    {
     "name": "stdout",
     "output_type": "stream",
     "text": [
      "Selecting point  1\n",
      "Selecting point  2\n",
      "Selecting point  3\n",
      "Selecting point  4\n",
      "Selecting point  5\n",
      "Selecting point  6\n",
      "Selecting point  7\n",
      "Selecting point  8\n",
      "Selecting point  9\n",
      "Selecting point  10\n",
      "Selecting point  11\n",
      "Selecting point  12\n",
      "Selecting point  13\n",
      "Selecting point  14\n",
      "Selecting point  15\n",
      "Selecting point  16\n",
      "Selecting point  17\n",
      "Selecting point  18\n",
      "Selecting point  19\n",
      "Selecting point  20\n",
      "Selecting point  21\n",
      "Selecting point  22\n",
      "Selecting point  23\n",
      "Selecting point  24\n",
      "Selecting point  25\n",
      "Selecting point  26\n",
      "Selecting point  27\n",
      "Selecting point  28\n",
      "Selecting point  29\n",
      "Selecting point  30\n",
      "Selecting point  31\n",
      "Selecting point  32\n",
      "Selecting point  33\n",
      "Selecting point  34\n",
      "Selecting point  35\n",
      "Selecting point  36\n",
      "Selecting point  37\n",
      "Selecting point  38\n",
      "Selecting point  39\n",
      "Selecting point  40\n",
      "Selecting point  41\n",
      "Selecting point  42\n",
      "Selecting point  43\n",
      "Selecting point  44\n",
      "Selecting point  45\n",
      "Selecting point  46\n",
      "Selecting point  47\n",
      "Selecting point  48\n",
      "Selecting point  49\n",
      "Selecting point  50\n",
      "Selecting point  51\n",
      "Selecting point  52\n",
      "Selecting point  53\n",
      "Selecting point  54\n",
      "Selecting point  55\n",
      "Selecting point  56\n",
      "Selecting point  57\n",
      "Selecting point  58\n",
      "Selecting point  59\n",
      "Selecting point  60\n",
      "Selecting point  61\n",
      "Selecting point  62\n",
      "Selecting point  63\n",
      "Selecting point  64\n",
      "Selecting point  65\n",
      "Selecting point  66\n",
      "Selecting point  67\n",
      "Selecting point  68\n",
      "Selecting point  69\n",
      "Selecting point  70\n",
      "Selecting point  71\n",
      "Selecting point  72\n",
      "Selecting point  73\n",
      "Selecting point  74\n",
      "Selecting point  75\n",
      "Selecting point  76\n",
      "Selecting point  77\n",
      "Selecting point  78\n",
      "Selecting point  79\n",
      "Selecting point  80\n",
      "Selecting point  81\n",
      "Selecting point  82\n",
      "Selecting point  83\n",
      "Selecting point  84\n",
      "Selecting point  85\n",
      "Selecting point  86\n",
      "Selecting point  87\n",
      "Selecting point  88\n",
      "Selecting point  89\n",
      "Selecting point  90\n",
      "Selecting point  91\n",
      "Selecting point  92\n",
      "Selecting point  93\n",
      "Selecting point  94\n",
      "Selecting point  95\n",
      "Selecting point  96\n",
      "Selecting point  97\n",
      "Selecting point  98\n",
      "Selecting point  99\n",
      "Selecting point  100\n",
      "Selecting point  101\n",
      "Selecting point  102\n",
      "Selecting point  103\n",
      "Selecting point  104\n",
      "Selecting point  105\n",
      "Selecting point  106\n",
      "Selecting point  107\n",
      "Selecting point  108\n",
      "Selecting point  109\n",
      "Selecting point  110\n",
      "Selecting point  111\n",
      "Selecting point  112\n",
      "Selecting point  113\n",
      "Selecting point  114\n",
      "Selecting point  115\n",
      "Selecting point  116\n",
      "Selecting point  117\n",
      "Selecting point  118\n",
      "Selecting point  119\n",
      "Selecting point  120\n",
      "Selecting point  121\n",
      "Selecting point  122\n",
      "Selecting point  123\n",
      "Selecting point  124\n",
      "Selecting point  125\n",
      "Selecting point  126\n",
      "Selecting point  127\n",
      "Selecting point  128\n",
      "Selecting point  129\n",
      "Selecting point  130\n",
      "Selecting point  131\n",
      "Selecting point  132\n",
      "Selecting point  133\n",
      "Selecting point  134\n",
      "Selecting point  135\n",
      "Selecting point  136\n",
      "Selecting point  137\n",
      "Selecting point  138\n",
      "Selecting point  139\n",
      "Selecting point  140\n",
      "Selecting point  141\n",
      "Selecting point  142\n",
      "Selecting point  143\n",
      "Selecting point  144\n",
      "Selecting point  145\n",
      "Selecting point  146\n",
      "Selecting point  147\n",
      "Selecting point  148\n",
      "Selecting point  149\n",
      "Selecting point  150\n",
      "Selecting point  151\n",
      "Selecting point  152\n",
      "Selecting point  153\n",
      "Selecting point  154\n",
      "Selecting point  155\n",
      "Total number of materials :  196\n",
      "Number of features:  10\n",
      "3.758913948676212\n",
      "0.9445781877265931\n",
      "2.8942537803826314\n",
      "2.8153629897443304\n",
      "3.7113120220679354\n",
      "3.7690789023646225\n",
      "3.790226568114032\n",
      "3.010433047072817\n",
      "0.9070254856185684\n",
      "1.8170646271672273\n",
      "0.8449047491059061\n",
      "0.844913005610687\n",
      "1.0820644113170759\n",
      "3.5195177211233486\n",
      "0.844920508893396\n",
      "0.8449574748870923\n",
      "0.84489134956118\n",
      "0.8905207880211894\n",
      "0.844913005610687\n"
     ]
    },
    {
     "name": "stderr",
     "output_type": "stream",
     "text": [
      "/root/anaconda3/envs/gwp/lib/python3.12/site-packages/skopt/optimizer/optimizer.py:449: UserWarning: The objective has been evaluated at this point before.\n",
      "  warnings.warn(\"The objective has been evaluated \"\n"
     ]
    },
    {
     "name": "stdout",
     "output_type": "stream",
     "text": [
      "0.84486130591338\n",
      "0.8448399985576908\n",
      "0.8448955092495186\n",
      "0.8447507809206609\n",
      "3.7701080799037614\n",
      "0.844901073559428\n",
      "0.844913005610687\n"
     ]
    },
    {
     "name": "stderr",
     "output_type": "stream",
     "text": [
      "/root/anaconda3/envs/gwp/lib/python3.12/site-packages/skopt/optimizer/optimizer.py:449: UserWarning: The objective has been evaluated at this point before.\n",
      "  warnings.warn(\"The objective has been evaluated \"\n"
     ]
    },
    {
     "name": "stdout",
     "output_type": "stream",
     "text": [
      "0.8449230994532831\n",
      "0.8449116979874386\n",
      "0.8448264096728361\n",
      "0.8448609887204463\n",
      "0.8448618148892116\n",
      "0.8448107064012677\n",
      "0.8448981794405398\n",
      "0.844833386524029\n"
     ]
    },
    {
     "name": "stderr",
     "output_type": "stream",
     "text": [
      "/root/anaconda3/envs/gwp/lib/python3.12/site-packages/skopt/optimizer/optimizer.py:449: UserWarning: The objective has been evaluated at this point before.\n",
      "  warnings.warn(\"The objective has been evaluated \"\n"
     ]
    },
    {
     "name": "stdout",
     "output_type": "stream",
     "text": [
      "0.844913005610687\n",
      "0.8449119643609928\n",
      "0.8455620842802999\n",
      "0.8448030090699022\n"
     ]
    },
    {
     "name": "stderr",
     "output_type": "stream",
     "text": [
      "/root/anaconda3/envs/gwp/lib/python3.12/site-packages/skopt/optimizer/optimizer.py:449: UserWarning: The objective has been evaluated at this point before.\n",
      "  warnings.warn(\"The objective has been evaluated \"\n"
     ]
    },
    {
     "name": "stdout",
     "output_type": "stream",
     "text": [
      "0.844913005610687\n",
      "0.8448868133890397\n",
      "0.8448305863745759\n",
      "0.8454719477976538\n",
      "0.8448951311533994\n",
      "0.8448447134199822\n",
      "0.8453419321068552\n",
      "0.8445952828149392\n",
      "0.8446707604196941\n",
      "0.8452558673724221\n",
      "0.8949405844157413\n",
      "0.844615315628042\n",
      "0.8446882799753231\n",
      "0.844700611045198\n",
      "0.844710398923232\n",
      "0.8446989045471195\n",
      "0.8448943179238583\n",
      "0.8446813060855243\n",
      "0.8449184967720808\n",
      "0.8448449117927079\n",
      "0.8446996575719764\n",
      "0.844780079203073\n"
     ]
    },
    {
     "name": "stderr",
     "output_type": "stream",
     "text": [
      "/root/anaconda3/envs/gwp/lib/python3.12/site-packages/skopt/optimizer/optimizer.py:449: UserWarning: The objective has been evaluated at this point before.\n",
      "  warnings.warn(\"The objective has been evaluated \"\n"
     ]
    },
    {
     "name": "stdout",
     "output_type": "stream",
     "text": [
      "0.8449371156413015\n",
      "0.8449159097183998\n",
      "0.8447768669169102\n",
      "0.8448917665792793\n",
      "0.8449146881080093\n",
      "0.8447264127195059\n",
      "0.8448874257874964\n",
      "0.844637194975346\n",
      "0.8448861608786965\n",
      "0.8448923834245716\n",
      "0.8446663278051701\n",
      "0.8449165141728618\n",
      "0.8446236543210401\n",
      "0.8449001321356299\n",
      "0.8447467028794579\n",
      "0.8446383704099434\n",
      "0.8449086855474569\n",
      "0.8445165237924576\n",
      "0.8449195182895833\n",
      "0.8449235440022207\n",
      "0.8449042832913565\n",
      "0.8449195596505723\n",
      "0.8447968093543429\n",
      "0.8448930877139794\n",
      "0.844927856442068\n"
     ]
    },
    {
     "name": "stderr",
     "output_type": "stream",
     "text": [
      "/root/anaconda3/envs/gwp/lib/python3.12/site-packages/skopt/optimizer/optimizer.py:449: UserWarning: The objective has been evaluated at this point before.\n",
      "  warnings.warn(\"The objective has been evaluated \"\n"
     ]
    },
    {
     "name": "stdout",
     "output_type": "stream",
     "text": [
      "0.844913005610687\n",
      "0.8446390871987364\n",
      "0.8449004873779679\n",
      "0.8448364008766234\n"
     ]
    },
    {
     "name": "stderr",
     "output_type": "stream",
     "text": [
      "/root/anaconda3/envs/gwp/lib/python3.12/site-packages/skopt/optimizer/optimizer.py:449: UserWarning: The objective has been evaluated at this point before.\n",
      "  warnings.warn(\"The objective has been evaluated \"\n"
     ]
    },
    {
     "name": "stdout",
     "output_type": "stream",
     "text": [
      "0.844913005610687\n",
      "0.8449927709667981\n",
      "0.8449423854179756\n",
      "0.8448387782318905\n",
      "0.8449299126470908\n",
      "0.8449179067697093\n",
      "0.8449236404734604\n",
      "0.8446387213539179\n"
     ]
    },
    {
     "name": "stderr",
     "output_type": "stream",
     "text": [
      "/root/anaconda3/envs/gwp/lib/python3.12/site-packages/skopt/optimizer/optimizer.py:449: UserWarning: The objective has been evaluated at this point before.\n",
      "  warnings.warn(\"The objective has been evaluated \"\n"
     ]
    },
    {
     "name": "stdout",
     "output_type": "stream",
     "text": [
      "0.8448734375205383\n",
      "0.8446922577831268\n",
      "0.8444490744532231\n",
      "Best score=0.8444\n",
      "Training: r2,mae,rmse:  0.8462174281741133 0.48682827136446644 0.7310957223405836\n",
      "Test: r2,mae,rmse:  0.7122166771981673 0.7182962609319389 0.9477345334912942\n",
      "                   Importance\n",
      "IP                   0.522524\n",
      "FractionCSP3         0.124944\n",
      "SMR_VSA7             0.093312\n",
      "SlogP_VSA6           0.093312\n",
      "HomoLumoGap          0.038388\n",
      "VSA_EState8         -0.008224\n",
      "fr_ketone_Topliss    0.000000\n",
      "fr_ketone            0.000000\n",
      "AvgIpc              -0.005436\n",
      "EState_VSA6          0.000000\n"
     ]
    }
   ],
   "source": [
    "data_prepare(data_csv=\"./ipcc_dataset.csv\",mm = \"SVR\", tar = \"GWP\",verbos=False)\n",
    "df_Xtrain, df_Ytrain, df_Xtest, df_Ytest=data_split(mm = \"SVR\", tar = \"GWP\",ratio = 0.8,verbos = True)\n",
    "df_Xtrain, df_Ytrain, df_Xtest, df_Ytest=normal(df_Xtrain, df_Ytrain, df_Xtest, df_Ytest, mm='SVR',tar='GWP')\n",
    "svr(df_Xtrain, df_Ytrain, df_Xtest, df_Ytest, tar='GWP', n_job=1, call=100, save = True)"
   ]
  },
  {
   "cell_type": "code",
   "execution_count": 28,
   "id": "f47c6821-c73f-4613-bd34-e34872f1d642",
   "metadata": {
    "scrolled": true
   },
   "outputs": [
    {
     "name": "stdout",
     "output_type": "stream",
     "text": [
      "Selecting point  1\n",
      "Selecting point  2\n",
      "Selecting point  3\n",
      "Selecting point  4\n",
      "Selecting point  5\n",
      "Selecting point  6\n",
      "Selecting point  7\n",
      "Selecting point  8\n",
      "Selecting point  9\n",
      "Selecting point  10\n",
      "Selecting point  11\n",
      "Selecting point  12\n",
      "Selecting point  13\n",
      "Selecting point  14\n",
      "Selecting point  15\n",
      "Selecting point  16\n",
      "Selecting point  17\n",
      "Selecting point  18\n",
      "Selecting point  19\n",
      "Selecting point  20\n",
      "Selecting point  21\n",
      "Selecting point  22\n",
      "Selecting point  23\n",
      "Selecting point  24\n",
      "Selecting point  25\n",
      "Selecting point  26\n",
      "Selecting point  27\n",
      "Selecting point  28\n",
      "Selecting point  29\n",
      "Selecting point  30\n",
      "Selecting point  31\n",
      "Selecting point  32\n",
      "Selecting point  33\n",
      "Selecting point  34\n",
      "Selecting point  35\n",
      "Selecting point  36\n",
      "Selecting point  37\n",
      "Selecting point  38\n",
      "Selecting point  39\n",
      "Selecting point  40\n",
      "Selecting point  41\n",
      "Selecting point  42\n",
      "Selecting point  43\n",
      "Selecting point  44\n",
      "Selecting point  45\n",
      "Selecting point  46\n",
      "Selecting point  47\n",
      "Selecting point  48\n",
      "Selecting point  49\n",
      "Selecting point  50\n",
      "Selecting point  51\n",
      "Selecting point  52\n",
      "Selecting point  53\n",
      "Selecting point  54\n",
      "Selecting point  55\n",
      "Selecting point  56\n",
      "Selecting point  57\n",
      "Selecting point  58\n",
      "Selecting point  59\n",
      "Selecting point  60\n",
      "Selecting point  61\n",
      "Selecting point  62\n",
      "Selecting point  63\n",
      "Selecting point  64\n",
      "Selecting point  65\n",
      "Selecting point  66\n",
      "Selecting point  67\n",
      "Selecting point  68\n",
      "Selecting point  69\n",
      "Selecting point  70\n",
      "Selecting point  71\n",
      "Selecting point  72\n",
      "Selecting point  73\n",
      "Selecting point  74\n",
      "Selecting point  75\n",
      "Selecting point  76\n",
      "Selecting point  77\n",
      "Selecting point  78\n",
      "Selecting point  79\n",
      "Selecting point  80\n",
      "Selecting point  81\n",
      "Selecting point  82\n",
      "Selecting point  83\n",
      "Selecting point  84\n",
      "Selecting point  85\n",
      "Selecting point  86\n",
      "Selecting point  87\n",
      "Selecting point  88\n",
      "Selecting point  89\n",
      "Selecting point  90\n",
      "Selecting point  91\n",
      "Selecting point  92\n",
      "Selecting point  93\n",
      "Selecting point  94\n",
      "Selecting point  95\n",
      "Selecting point  96\n",
      "Selecting point  97\n",
      "Selecting point  98\n",
      "Selecting point  99\n",
      "Selecting point  100\n",
      "Selecting point  101\n",
      "Selecting point  102\n",
      "Selecting point  103\n",
      "Selecting point  104\n",
      "Selecting point  105\n",
      "Selecting point  106\n",
      "Selecting point  107\n",
      "Selecting point  108\n",
      "Selecting point  109\n",
      "Selecting point  110\n",
      "Selecting point  111\n",
      "Selecting point  112\n",
      "Selecting point  113\n",
      "Selecting point  114\n",
      "Selecting point  115\n",
      "Selecting point  116\n",
      "Selecting point  117\n",
      "Selecting point  118\n",
      "Selecting point  119\n",
      "Selecting point  120\n",
      "Selecting point  121\n",
      "Selecting point  122\n",
      "Selecting point  123\n",
      "Selecting point  124\n",
      "Selecting point  125\n",
      "Selecting point  126\n",
      "Selecting point  127\n",
      "Selecting point  128\n",
      "Selecting point  129\n",
      "Selecting point  130\n",
      "Selecting point  131\n",
      "Selecting point  132\n",
      "Selecting point  133\n",
      "Selecting point  134\n",
      "Selecting point  135\n",
      "Selecting point  136\n",
      "Selecting point  137\n",
      "Selecting point  138\n",
      "Selecting point  139\n",
      "Selecting point  140\n",
      "Selecting point  141\n",
      "Selecting point  142\n",
      "Selecting point  143\n",
      "Selecting point  144\n",
      "Selecting point  145\n",
      "Selecting point  146\n",
      "Selecting point  147\n",
      "Selecting point  148\n",
      "Selecting point  149\n",
      "Selecting point  150\n",
      "Selecting point  151\n",
      "Selecting point  152\n",
      "Selecting point  153\n",
      "Selecting point  154\n",
      "Selecting point  155\n",
      "Total number of materials :  196\n",
      "Number of features:  10\n",
      "4.300332106909467\n",
      "4.11799766439045\n",
      "3.9972891222621585\n",
      "4.660734376605605\n",
      "4.286213135907031\n",
      "4.428721812522466\n",
      "4.2911680108719725\n",
      "4.17382077946697\n",
      "4.398456288306393\n",
      "4.270251789137319\n",
      "4.156199218053835\n",
      "4.174525398642522\n",
      "4.119240708016852\n",
      "3.9972891222621585\n"
     ]
    },
    {
     "name": "stderr",
     "output_type": "stream",
     "text": [
      "/root/anaconda3/envs/gwp/lib/python3.12/site-packages/skopt/optimizer/optimizer.py:449: UserWarning: The objective has been evaluated at this point before.\n",
      "  warnings.warn(\"The objective has been evaluated \"\n"
     ]
    },
    {
     "name": "stdout",
     "output_type": "stream",
     "text": [
      "4.2233503178200875\n",
      "4.56919542352494\n"
     ]
    },
    {
     "name": "stderr",
     "output_type": "stream",
     "text": [
      "/root/anaconda3/envs/gwp/lib/python3.12/site-packages/skopt/optimizer/optimizer.py:449: UserWarning: The objective has been evaluated at this point before.\n",
      "  warnings.warn(\"The objective has been evaluated \"\n"
     ]
    },
    {
     "name": "stdout",
     "output_type": "stream",
     "text": [
      "3.9972891222621585\n"
     ]
    },
    {
     "name": "stderr",
     "output_type": "stream",
     "text": [
      "/root/anaconda3/envs/gwp/lib/python3.12/site-packages/skopt/optimizer/optimizer.py:449: UserWarning: The objective has been evaluated at this point before.\n",
      "  warnings.warn(\"The objective has been evaluated \"\n"
     ]
    },
    {
     "name": "stdout",
     "output_type": "stream",
     "text": [
      "3.9972891222621585\n"
     ]
    },
    {
     "name": "stderr",
     "output_type": "stream",
     "text": [
      "/root/anaconda3/envs/gwp/lib/python3.12/site-packages/skopt/optimizer/optimizer.py:449: UserWarning: The objective has been evaluated at this point before.\n",
      "  warnings.warn(\"The objective has been evaluated \"\n"
     ]
    },
    {
     "name": "stdout",
     "output_type": "stream",
     "text": [
      "3.9972891222621585\n"
     ]
    },
    {
     "name": "stderr",
     "output_type": "stream",
     "text": [
      "/root/anaconda3/envs/gwp/lib/python3.12/site-packages/skopt/optimizer/optimizer.py:449: UserWarning: The objective has been evaluated at this point before.\n",
      "  warnings.warn(\"The objective has been evaluated \"\n"
     ]
    },
    {
     "name": "stdout",
     "output_type": "stream",
     "text": [
      "3.9972891222621585\n",
      "4.048515802362838\n"
     ]
    },
    {
     "name": "stderr",
     "output_type": "stream",
     "text": [
      "/root/anaconda3/envs/gwp/lib/python3.12/site-packages/skopt/optimizer/optimizer.py:449: UserWarning: The objective has been evaluated at this point before.\n",
      "  warnings.warn(\"The objective has been evaluated \"\n"
     ]
    },
    {
     "name": "stdout",
     "output_type": "stream",
     "text": [
      "3.9972891222621585\n"
     ]
    },
    {
     "name": "stderr",
     "output_type": "stream",
     "text": [
      "/root/anaconda3/envs/gwp/lib/python3.12/site-packages/skopt/optimizer/optimizer.py:449: UserWarning: The objective has been evaluated at this point before.\n",
      "  warnings.warn(\"The objective has been evaluated \"\n"
     ]
    },
    {
     "name": "stdout",
     "output_type": "stream",
     "text": [
      "3.9972891222621585\n"
     ]
    },
    {
     "name": "stderr",
     "output_type": "stream",
     "text": [
      "/root/anaconda3/envs/gwp/lib/python3.12/site-packages/skopt/optimizer/optimizer.py:449: UserWarning: The objective has been evaluated at this point before.\n",
      "  warnings.warn(\"The objective has been evaluated \"\n"
     ]
    },
    {
     "name": "stdout",
     "output_type": "stream",
     "text": [
      "3.9972891222621585\n",
      "4.23367265892316\n",
      "4.056093718346557\n",
      "4.124859023603305\n"
     ]
    },
    {
     "name": "stderr",
     "output_type": "stream",
     "text": [
      "/root/anaconda3/envs/gwp/lib/python3.12/site-packages/skopt/optimizer/optimizer.py:449: UserWarning: The objective has been evaluated at this point before.\n",
      "  warnings.warn(\"The objective has been evaluated \"\n"
     ]
    },
    {
     "name": "stdout",
     "output_type": "stream",
     "text": [
      "3.9972891222621585\n"
     ]
    },
    {
     "name": "stderr",
     "output_type": "stream",
     "text": [
      "/root/anaconda3/envs/gwp/lib/python3.12/site-packages/skopt/optimizer/optimizer.py:449: UserWarning: The objective has been evaluated at this point before.\n",
      "  warnings.warn(\"The objective has been evaluated \"\n"
     ]
    },
    {
     "name": "stdout",
     "output_type": "stream",
     "text": [
      "3.9972891222621585\n"
     ]
    },
    {
     "name": "stderr",
     "output_type": "stream",
     "text": [
      "/root/anaconda3/envs/gwp/lib/python3.12/site-packages/skopt/optimizer/optimizer.py:449: UserWarning: The objective has been evaluated at this point before.\n",
      "  warnings.warn(\"The objective has been evaluated \"\n"
     ]
    },
    {
     "name": "stdout",
     "output_type": "stream",
     "text": [
      "3.9972891222621585\n"
     ]
    },
    {
     "name": "stderr",
     "output_type": "stream",
     "text": [
      "/root/anaconda3/envs/gwp/lib/python3.12/site-packages/skopt/optimizer/optimizer.py:449: UserWarning: The objective has been evaluated at this point before.\n",
      "  warnings.warn(\"The objective has been evaluated \"\n"
     ]
    },
    {
     "name": "stdout",
     "output_type": "stream",
     "text": [
      "3.9972891222621585\n"
     ]
    },
    {
     "name": "stderr",
     "output_type": "stream",
     "text": [
      "/root/anaconda3/envs/gwp/lib/python3.12/site-packages/skopt/optimizer/optimizer.py:449: UserWarning: The objective has been evaluated at this point before.\n",
      "  warnings.warn(\"The objective has been evaluated \"\n"
     ]
    },
    {
     "name": "stdout",
     "output_type": "stream",
     "text": [
      "3.9972891222621585\n"
     ]
    },
    {
     "name": "stderr",
     "output_type": "stream",
     "text": [
      "/root/anaconda3/envs/gwp/lib/python3.12/site-packages/skopt/optimizer/optimizer.py:449: UserWarning: The objective has been evaluated at this point before.\n",
      "  warnings.warn(\"The objective has been evaluated \"\n"
     ]
    },
    {
     "name": "stdout",
     "output_type": "stream",
     "text": [
      "3.9972891222621585\n"
     ]
    },
    {
     "name": "stderr",
     "output_type": "stream",
     "text": [
      "/root/anaconda3/envs/gwp/lib/python3.12/site-packages/skopt/optimizer/optimizer.py:449: UserWarning: The objective has been evaluated at this point before.\n",
      "  warnings.warn(\"The objective has been evaluated \"\n"
     ]
    },
    {
     "name": "stdout",
     "output_type": "stream",
     "text": [
      "3.9972891222621585\n"
     ]
    },
    {
     "name": "stderr",
     "output_type": "stream",
     "text": [
      "/root/anaconda3/envs/gwp/lib/python3.12/site-packages/skopt/optimizer/optimizer.py:449: UserWarning: The objective has been evaluated at this point before.\n",
      "  warnings.warn(\"The objective has been evaluated \"\n"
     ]
    },
    {
     "name": "stdout",
     "output_type": "stream",
     "text": [
      "3.9972891222621585\n"
     ]
    },
    {
     "name": "stderr",
     "output_type": "stream",
     "text": [
      "/root/anaconda3/envs/gwp/lib/python3.12/site-packages/skopt/optimizer/optimizer.py:449: UserWarning: The objective has been evaluated at this point before.\n",
      "  warnings.warn(\"The objective has been evaluated \"\n"
     ]
    },
    {
     "name": "stdout",
     "output_type": "stream",
     "text": [
      "3.9972891222621585\n"
     ]
    },
    {
     "name": "stderr",
     "output_type": "stream",
     "text": [
      "/root/anaconda3/envs/gwp/lib/python3.12/site-packages/skopt/optimizer/optimizer.py:449: UserWarning: The objective has been evaluated at this point before.\n",
      "  warnings.warn(\"The objective has been evaluated \"\n"
     ]
    },
    {
     "name": "stdout",
     "output_type": "stream",
     "text": [
      "3.9972891222621585\n"
     ]
    },
    {
     "name": "stderr",
     "output_type": "stream",
     "text": [
      "/root/anaconda3/envs/gwp/lib/python3.12/site-packages/skopt/optimizer/optimizer.py:449: UserWarning: The objective has been evaluated at this point before.\n",
      "  warnings.warn(\"The objective has been evaluated \"\n"
     ]
    },
    {
     "name": "stdout",
     "output_type": "stream",
     "text": [
      "3.9972891222621585\n"
     ]
    },
    {
     "name": "stderr",
     "output_type": "stream",
     "text": [
      "/root/anaconda3/envs/gwp/lib/python3.12/site-packages/skopt/optimizer/optimizer.py:449: UserWarning: The objective has been evaluated at this point before.\n",
      "  warnings.warn(\"The objective has been evaluated \"\n"
     ]
    },
    {
     "name": "stdout",
     "output_type": "stream",
     "text": [
      "3.9972891222621585\n"
     ]
    },
    {
     "name": "stderr",
     "output_type": "stream",
     "text": [
      "/root/anaconda3/envs/gwp/lib/python3.12/site-packages/skopt/optimizer/optimizer.py:449: UserWarning: The objective has been evaluated at this point before.\n",
      "  warnings.warn(\"The objective has been evaluated \"\n"
     ]
    },
    {
     "name": "stdout",
     "output_type": "stream",
     "text": [
      "3.9972891222621585\n"
     ]
    },
    {
     "name": "stderr",
     "output_type": "stream",
     "text": [
      "/root/anaconda3/envs/gwp/lib/python3.12/site-packages/skopt/optimizer/optimizer.py:449: UserWarning: The objective has been evaluated at this point before.\n",
      "  warnings.warn(\"The objective has been evaluated \"\n"
     ]
    },
    {
     "name": "stdout",
     "output_type": "stream",
     "text": [
      "3.9972891222621585\n"
     ]
    },
    {
     "name": "stderr",
     "output_type": "stream",
     "text": [
      "/root/anaconda3/envs/gwp/lib/python3.12/site-packages/skopt/optimizer/optimizer.py:449: UserWarning: The objective has been evaluated at this point before.\n",
      "  warnings.warn(\"The objective has been evaluated \"\n"
     ]
    },
    {
     "name": "stdout",
     "output_type": "stream",
     "text": [
      "3.9972891222621585\n"
     ]
    },
    {
     "name": "stderr",
     "output_type": "stream",
     "text": [
      "/root/anaconda3/envs/gwp/lib/python3.12/site-packages/skopt/optimizer/optimizer.py:449: UserWarning: The objective has been evaluated at this point before.\n",
      "  warnings.warn(\"The objective has been evaluated \"\n"
     ]
    },
    {
     "name": "stdout",
     "output_type": "stream",
     "text": [
      "3.9972891222621585\n"
     ]
    },
    {
     "name": "stderr",
     "output_type": "stream",
     "text": [
      "/root/anaconda3/envs/gwp/lib/python3.12/site-packages/skopt/optimizer/optimizer.py:449: UserWarning: The objective has been evaluated at this point before.\n",
      "  warnings.warn(\"The objective has been evaluated \"\n"
     ]
    },
    {
     "name": "stdout",
     "output_type": "stream",
     "text": [
      "3.9972891222621585\n"
     ]
    },
    {
     "name": "stderr",
     "output_type": "stream",
     "text": [
      "/root/anaconda3/envs/gwp/lib/python3.12/site-packages/skopt/optimizer/optimizer.py:449: UserWarning: The objective has been evaluated at this point before.\n",
      "  warnings.warn(\"The objective has been evaluated \"\n"
     ]
    },
    {
     "name": "stdout",
     "output_type": "stream",
     "text": [
      "3.9972891222621585\n"
     ]
    },
    {
     "name": "stderr",
     "output_type": "stream",
     "text": [
      "/root/anaconda3/envs/gwp/lib/python3.12/site-packages/skopt/optimizer/optimizer.py:449: UserWarning: The objective has been evaluated at this point before.\n",
      "  warnings.warn(\"The objective has been evaluated \"\n"
     ]
    },
    {
     "name": "stdout",
     "output_type": "stream",
     "text": [
      "3.9972891222621585\n"
     ]
    },
    {
     "name": "stderr",
     "output_type": "stream",
     "text": [
      "/root/anaconda3/envs/gwp/lib/python3.12/site-packages/skopt/optimizer/optimizer.py:449: UserWarning: The objective has been evaluated at this point before.\n",
      "  warnings.warn(\"The objective has been evaluated \"\n"
     ]
    },
    {
     "name": "stdout",
     "output_type": "stream",
     "text": [
      "3.9972891222621585\n"
     ]
    },
    {
     "name": "stderr",
     "output_type": "stream",
     "text": [
      "/root/anaconda3/envs/gwp/lib/python3.12/site-packages/skopt/optimizer/optimizer.py:449: UserWarning: The objective has been evaluated at this point before.\n",
      "  warnings.warn(\"The objective has been evaluated \"\n"
     ]
    },
    {
     "name": "stdout",
     "output_type": "stream",
     "text": [
      "3.9972891222621585\n"
     ]
    },
    {
     "name": "stderr",
     "output_type": "stream",
     "text": [
      "/root/anaconda3/envs/gwp/lib/python3.12/site-packages/skopt/optimizer/optimizer.py:449: UserWarning: The objective has been evaluated at this point before.\n",
      "  warnings.warn(\"The objective has been evaluated \"\n"
     ]
    },
    {
     "name": "stdout",
     "output_type": "stream",
     "text": [
      "3.9972891222621585\n"
     ]
    },
    {
     "name": "stderr",
     "output_type": "stream",
     "text": [
      "/root/anaconda3/envs/gwp/lib/python3.12/site-packages/skopt/optimizer/optimizer.py:449: UserWarning: The objective has been evaluated at this point before.\n",
      "  warnings.warn(\"The objective has been evaluated \"\n"
     ]
    },
    {
     "name": "stdout",
     "output_type": "stream",
     "text": [
      "3.9972891222621585\n"
     ]
    },
    {
     "name": "stderr",
     "output_type": "stream",
     "text": [
      "/root/anaconda3/envs/gwp/lib/python3.12/site-packages/skopt/optimizer/optimizer.py:449: UserWarning: The objective has been evaluated at this point before.\n",
      "  warnings.warn(\"The objective has been evaluated \"\n"
     ]
    },
    {
     "name": "stdout",
     "output_type": "stream",
     "text": [
      "3.9972891222621585\n"
     ]
    },
    {
     "name": "stderr",
     "output_type": "stream",
     "text": [
      "/root/anaconda3/envs/gwp/lib/python3.12/site-packages/skopt/optimizer/optimizer.py:449: UserWarning: The objective has been evaluated at this point before.\n",
      "  warnings.warn(\"The objective has been evaluated \"\n"
     ]
    },
    {
     "name": "stdout",
     "output_type": "stream",
     "text": [
      "3.9972891222621585\n"
     ]
    },
    {
     "name": "stderr",
     "output_type": "stream",
     "text": [
      "/root/anaconda3/envs/gwp/lib/python3.12/site-packages/skopt/optimizer/optimizer.py:449: UserWarning: The objective has been evaluated at this point before.\n",
      "  warnings.warn(\"The objective has been evaluated \"\n"
     ]
    },
    {
     "name": "stdout",
     "output_type": "stream",
     "text": [
      "3.9972891222621585\n"
     ]
    },
    {
     "name": "stderr",
     "output_type": "stream",
     "text": [
      "/root/anaconda3/envs/gwp/lib/python3.12/site-packages/skopt/optimizer/optimizer.py:449: UserWarning: The objective has been evaluated at this point before.\n",
      "  warnings.warn(\"The objective has been evaluated \"\n"
     ]
    },
    {
     "name": "stdout",
     "output_type": "stream",
     "text": [
      "3.9972891222621585\n"
     ]
    },
    {
     "name": "stderr",
     "output_type": "stream",
     "text": [
      "/root/anaconda3/envs/gwp/lib/python3.12/site-packages/skopt/optimizer/optimizer.py:449: UserWarning: The objective has been evaluated at this point before.\n",
      "  warnings.warn(\"The objective has been evaluated \"\n"
     ]
    },
    {
     "name": "stdout",
     "output_type": "stream",
     "text": [
      "3.9972891222621585\n"
     ]
    },
    {
     "name": "stderr",
     "output_type": "stream",
     "text": [
      "/root/anaconda3/envs/gwp/lib/python3.12/site-packages/skopt/optimizer/optimizer.py:449: UserWarning: The objective has been evaluated at this point before.\n",
      "  warnings.warn(\"The objective has been evaluated \"\n"
     ]
    },
    {
     "name": "stdout",
     "output_type": "stream",
     "text": [
      "3.9972891222621585\n"
     ]
    },
    {
     "name": "stderr",
     "output_type": "stream",
     "text": [
      "/root/anaconda3/envs/gwp/lib/python3.12/site-packages/skopt/optimizer/optimizer.py:449: UserWarning: The objective has been evaluated at this point before.\n",
      "  warnings.warn(\"The objective has been evaluated \"\n"
     ]
    },
    {
     "name": "stdout",
     "output_type": "stream",
     "text": [
      "3.9972891222621585\n"
     ]
    },
    {
     "name": "stderr",
     "output_type": "stream",
     "text": [
      "/root/anaconda3/envs/gwp/lib/python3.12/site-packages/skopt/optimizer/optimizer.py:449: UserWarning: The objective has been evaluated at this point before.\n",
      "  warnings.warn(\"The objective has been evaluated \"\n"
     ]
    },
    {
     "name": "stdout",
     "output_type": "stream",
     "text": [
      "3.9972891222621585\n"
     ]
    },
    {
     "name": "stderr",
     "output_type": "stream",
     "text": [
      "/root/anaconda3/envs/gwp/lib/python3.12/site-packages/skopt/optimizer/optimizer.py:449: UserWarning: The objective has been evaluated at this point before.\n",
      "  warnings.warn(\"The objective has been evaluated \"\n"
     ]
    },
    {
     "name": "stdout",
     "output_type": "stream",
     "text": [
      "3.9972891222621585\n"
     ]
    },
    {
     "name": "stderr",
     "output_type": "stream",
     "text": [
      "/root/anaconda3/envs/gwp/lib/python3.12/site-packages/skopt/optimizer/optimizer.py:449: UserWarning: The objective has been evaluated at this point before.\n",
      "  warnings.warn(\"The objective has been evaluated \"\n"
     ]
    },
    {
     "name": "stdout",
     "output_type": "stream",
     "text": [
      "3.9972891222621585\n"
     ]
    },
    {
     "name": "stderr",
     "output_type": "stream",
     "text": [
      "/root/anaconda3/envs/gwp/lib/python3.12/site-packages/skopt/optimizer/optimizer.py:449: UserWarning: The objective has been evaluated at this point before.\n",
      "  warnings.warn(\"The objective has been evaluated \"\n"
     ]
    },
    {
     "name": "stdout",
     "output_type": "stream",
     "text": [
      "3.9972891222621585\n"
     ]
    },
    {
     "name": "stderr",
     "output_type": "stream",
     "text": [
      "/root/anaconda3/envs/gwp/lib/python3.12/site-packages/skopt/optimizer/optimizer.py:449: UserWarning: The objective has been evaluated at this point before.\n",
      "  warnings.warn(\"The objective has been evaluated \"\n"
     ]
    },
    {
     "name": "stdout",
     "output_type": "stream",
     "text": [
      "3.9972891222621585\n"
     ]
    },
    {
     "name": "stderr",
     "output_type": "stream",
     "text": [
      "/root/anaconda3/envs/gwp/lib/python3.12/site-packages/skopt/optimizer/optimizer.py:449: UserWarning: The objective has been evaluated at this point before.\n",
      "  warnings.warn(\"The objective has been evaluated \"\n"
     ]
    },
    {
     "name": "stdout",
     "output_type": "stream",
     "text": [
      "3.9972891222621585\n"
     ]
    },
    {
     "name": "stderr",
     "output_type": "stream",
     "text": [
      "/root/anaconda3/envs/gwp/lib/python3.12/site-packages/skopt/optimizer/optimizer.py:449: UserWarning: The objective has been evaluated at this point before.\n",
      "  warnings.warn(\"The objective has been evaluated \"\n"
     ]
    },
    {
     "name": "stdout",
     "output_type": "stream",
     "text": [
      "3.9972891222621585\n"
     ]
    },
    {
     "name": "stderr",
     "output_type": "stream",
     "text": [
      "/root/anaconda3/envs/gwp/lib/python3.12/site-packages/skopt/optimizer/optimizer.py:449: UserWarning: The objective has been evaluated at this point before.\n",
      "  warnings.warn(\"The objective has been evaluated \"\n"
     ]
    },
    {
     "name": "stdout",
     "output_type": "stream",
     "text": [
      "3.9972891222621585\n"
     ]
    },
    {
     "name": "stderr",
     "output_type": "stream",
     "text": [
      "/root/anaconda3/envs/gwp/lib/python3.12/site-packages/skopt/optimizer/optimizer.py:449: UserWarning: The objective has been evaluated at this point before.\n",
      "  warnings.warn(\"The objective has been evaluated \"\n"
     ]
    },
    {
     "name": "stdout",
     "output_type": "stream",
     "text": [
      "3.9972891222621585\n"
     ]
    },
    {
     "name": "stderr",
     "output_type": "stream",
     "text": [
      "/root/anaconda3/envs/gwp/lib/python3.12/site-packages/skopt/optimizer/optimizer.py:449: UserWarning: The objective has been evaluated at this point before.\n",
      "  warnings.warn(\"The objective has been evaluated \"\n"
     ]
    },
    {
     "name": "stdout",
     "output_type": "stream",
     "text": [
      "3.9972891222621585\n"
     ]
    },
    {
     "name": "stderr",
     "output_type": "stream",
     "text": [
      "/root/anaconda3/envs/gwp/lib/python3.12/site-packages/skopt/optimizer/optimizer.py:449: UserWarning: The objective has been evaluated at this point before.\n",
      "  warnings.warn(\"The objective has been evaluated \"\n"
     ]
    },
    {
     "name": "stdout",
     "output_type": "stream",
     "text": [
      "3.9972891222621585\n"
     ]
    },
    {
     "name": "stderr",
     "output_type": "stream",
     "text": [
      "/root/anaconda3/envs/gwp/lib/python3.12/site-packages/skopt/optimizer/optimizer.py:449: UserWarning: The objective has been evaluated at this point before.\n",
      "  warnings.warn(\"The objective has been evaluated \"\n"
     ]
    },
    {
     "name": "stdout",
     "output_type": "stream",
     "text": [
      "3.9972891222621585\n"
     ]
    },
    {
     "name": "stderr",
     "output_type": "stream",
     "text": [
      "/root/anaconda3/envs/gwp/lib/python3.12/site-packages/skopt/optimizer/optimizer.py:449: UserWarning: The objective has been evaluated at this point before.\n",
      "  warnings.warn(\"The objective has been evaluated \"\n"
     ]
    },
    {
     "name": "stdout",
     "output_type": "stream",
     "text": [
      "3.9972891222621585\n"
     ]
    },
    {
     "name": "stderr",
     "output_type": "stream",
     "text": [
      "/root/anaconda3/envs/gwp/lib/python3.12/site-packages/skopt/optimizer/optimizer.py:449: UserWarning: The objective has been evaluated at this point before.\n",
      "  warnings.warn(\"The objective has been evaluated \"\n"
     ]
    },
    {
     "name": "stdout",
     "output_type": "stream",
     "text": [
      "3.9972891222621585\n"
     ]
    },
    {
     "name": "stderr",
     "output_type": "stream",
     "text": [
      "/root/anaconda3/envs/gwp/lib/python3.12/site-packages/skopt/optimizer/optimizer.py:449: UserWarning: The objective has been evaluated at this point before.\n",
      "  warnings.warn(\"The objective has been evaluated \"\n"
     ]
    },
    {
     "name": "stdout",
     "output_type": "stream",
     "text": [
      "3.9972891222621585\n"
     ]
    },
    {
     "name": "stderr",
     "output_type": "stream",
     "text": [
      "/root/anaconda3/envs/gwp/lib/python3.12/site-packages/skopt/optimizer/optimizer.py:449: UserWarning: The objective has been evaluated at this point before.\n",
      "  warnings.warn(\"The objective has been evaluated \"\n"
     ]
    },
    {
     "name": "stdout",
     "output_type": "stream",
     "text": [
      "3.9972891222621585\n"
     ]
    },
    {
     "name": "stderr",
     "output_type": "stream",
     "text": [
      "/root/anaconda3/envs/gwp/lib/python3.12/site-packages/skopt/optimizer/optimizer.py:449: UserWarning: The objective has been evaluated at this point before.\n",
      "  warnings.warn(\"The objective has been evaluated \"\n"
     ]
    },
    {
     "name": "stdout",
     "output_type": "stream",
     "text": [
      "3.9972891222621585\n"
     ]
    },
    {
     "name": "stderr",
     "output_type": "stream",
     "text": [
      "/root/anaconda3/envs/gwp/lib/python3.12/site-packages/skopt/optimizer/optimizer.py:449: UserWarning: The objective has been evaluated at this point before.\n",
      "  warnings.warn(\"The objective has been evaluated \"\n"
     ]
    },
    {
     "name": "stdout",
     "output_type": "stream",
     "text": [
      "3.9972891222621585\n"
     ]
    },
    {
     "name": "stderr",
     "output_type": "stream",
     "text": [
      "/root/anaconda3/envs/gwp/lib/python3.12/site-packages/skopt/optimizer/optimizer.py:449: UserWarning: The objective has been evaluated at this point before.\n",
      "  warnings.warn(\"The objective has been evaluated \"\n"
     ]
    },
    {
     "name": "stdout",
     "output_type": "stream",
     "text": [
      "3.9972891222621585\n"
     ]
    },
    {
     "name": "stderr",
     "output_type": "stream",
     "text": [
      "/root/anaconda3/envs/gwp/lib/python3.12/site-packages/skopt/optimizer/optimizer.py:449: UserWarning: The objective has been evaluated at this point before.\n",
      "  warnings.warn(\"The objective has been evaluated \"\n"
     ]
    },
    {
     "name": "stdout",
     "output_type": "stream",
     "text": [
      "3.9972891222621585\n"
     ]
    },
    {
     "name": "stderr",
     "output_type": "stream",
     "text": [
      "/root/anaconda3/envs/gwp/lib/python3.12/site-packages/skopt/optimizer/optimizer.py:449: UserWarning: The objective has been evaluated at this point before.\n",
      "  warnings.warn(\"The objective has been evaluated \"\n"
     ]
    },
    {
     "name": "stdout",
     "output_type": "stream",
     "text": [
      "3.9972891222621585\n"
     ]
    },
    {
     "name": "stderr",
     "output_type": "stream",
     "text": [
      "/root/anaconda3/envs/gwp/lib/python3.12/site-packages/skopt/optimizer/optimizer.py:449: UserWarning: The objective has been evaluated at this point before.\n",
      "  warnings.warn(\"The objective has been evaluated \"\n"
     ]
    },
    {
     "name": "stdout",
     "output_type": "stream",
     "text": [
      "3.9972891222621585\n"
     ]
    },
    {
     "name": "stderr",
     "output_type": "stream",
     "text": [
      "/root/anaconda3/envs/gwp/lib/python3.12/site-packages/skopt/optimizer/optimizer.py:449: UserWarning: The objective has been evaluated at this point before.\n",
      "  warnings.warn(\"The objective has been evaluated \"\n"
     ]
    },
    {
     "name": "stdout",
     "output_type": "stream",
     "text": [
      "3.9972891222621585\n"
     ]
    },
    {
     "name": "stderr",
     "output_type": "stream",
     "text": [
      "/root/anaconda3/envs/gwp/lib/python3.12/site-packages/skopt/optimizer/optimizer.py:449: UserWarning: The objective has been evaluated at this point before.\n",
      "  warnings.warn(\"The objective has been evaluated \"\n"
     ]
    },
    {
     "name": "stdout",
     "output_type": "stream",
     "text": [
      "3.9972891222621585\n"
     ]
    },
    {
     "name": "stderr",
     "output_type": "stream",
     "text": [
      "/root/anaconda3/envs/gwp/lib/python3.12/site-packages/skopt/optimizer/optimizer.py:449: UserWarning: The objective has been evaluated at this point before.\n",
      "  warnings.warn(\"The objective has been evaluated \"\n"
     ]
    },
    {
     "name": "stdout",
     "output_type": "stream",
     "text": [
      "3.9972891222621585\n"
     ]
    },
    {
     "name": "stderr",
     "output_type": "stream",
     "text": [
      "/root/anaconda3/envs/gwp/lib/python3.12/site-packages/skopt/optimizer/optimizer.py:449: UserWarning: The objective has been evaluated at this point before.\n",
      "  warnings.warn(\"The objective has been evaluated \"\n"
     ]
    },
    {
     "name": "stdout",
     "output_type": "stream",
     "text": [
      "3.9972891222621585\n"
     ]
    },
    {
     "name": "stderr",
     "output_type": "stream",
     "text": [
      "/root/anaconda3/envs/gwp/lib/python3.12/site-packages/skopt/optimizer/optimizer.py:449: UserWarning: The objective has been evaluated at this point before.\n",
      "  warnings.warn(\"The objective has been evaluated \"\n"
     ]
    },
    {
     "name": "stdout",
     "output_type": "stream",
     "text": [
      "3.9972891222621585\n"
     ]
    },
    {
     "name": "stderr",
     "output_type": "stream",
     "text": [
      "/root/anaconda3/envs/gwp/lib/python3.12/site-packages/skopt/optimizer/optimizer.py:449: UserWarning: The objective has been evaluated at this point before.\n",
      "  warnings.warn(\"The objective has been evaluated \"\n"
     ]
    },
    {
     "name": "stdout",
     "output_type": "stream",
     "text": [
      "3.9972891222621585\n"
     ]
    },
    {
     "name": "stderr",
     "output_type": "stream",
     "text": [
      "/root/anaconda3/envs/gwp/lib/python3.12/site-packages/skopt/optimizer/optimizer.py:449: UserWarning: The objective has been evaluated at this point before.\n",
      "  warnings.warn(\"The objective has been evaluated \"\n"
     ]
    },
    {
     "name": "stdout",
     "output_type": "stream",
     "text": [
      "3.9972891222621585\n"
     ]
    },
    {
     "name": "stderr",
     "output_type": "stream",
     "text": [
      "/root/anaconda3/envs/gwp/lib/python3.12/site-packages/skopt/optimizer/optimizer.py:449: UserWarning: The objective has been evaluated at this point before.\n",
      "  warnings.warn(\"The objective has been evaluated \"\n"
     ]
    },
    {
     "name": "stdout",
     "output_type": "stream",
     "text": [
      "3.9972891222621585\n"
     ]
    },
    {
     "name": "stderr",
     "output_type": "stream",
     "text": [
      "/root/anaconda3/envs/gwp/lib/python3.12/site-packages/skopt/optimizer/optimizer.py:449: UserWarning: The objective has been evaluated at this point before.\n",
      "  warnings.warn(\"The objective has been evaluated \"\n"
     ]
    },
    {
     "name": "stdout",
     "output_type": "stream",
     "text": [
      "3.9972891222621585\n"
     ]
    },
    {
     "name": "stderr",
     "output_type": "stream",
     "text": [
      "/root/anaconda3/envs/gwp/lib/python3.12/site-packages/skopt/optimizer/optimizer.py:449: UserWarning: The objective has been evaluated at this point before.\n",
      "  warnings.warn(\"The objective has been evaluated \"\n"
     ]
    },
    {
     "name": "stdout",
     "output_type": "stream",
     "text": [
      "3.9972891222621585\n"
     ]
    },
    {
     "name": "stderr",
     "output_type": "stream",
     "text": [
      "/root/anaconda3/envs/gwp/lib/python3.12/site-packages/skopt/optimizer/optimizer.py:449: UserWarning: The objective has been evaluated at this point before.\n",
      "  warnings.warn(\"The objective has been evaluated \"\n"
     ]
    },
    {
     "name": "stdout",
     "output_type": "stream",
     "text": [
      "3.9972891222621585\n"
     ]
    },
    {
     "name": "stderr",
     "output_type": "stream",
     "text": [
      "/root/anaconda3/envs/gwp/lib/python3.12/site-packages/skopt/optimizer/optimizer.py:449: UserWarning: The objective has been evaluated at this point before.\n",
      "  warnings.warn(\"The objective has been evaluated \"\n"
     ]
    },
    {
     "name": "stdout",
     "output_type": "stream",
     "text": [
      "3.9972891222621585\n"
     ]
    },
    {
     "name": "stderr",
     "output_type": "stream",
     "text": [
      "/root/anaconda3/envs/gwp/lib/python3.12/site-packages/skopt/optimizer/optimizer.py:449: UserWarning: The objective has been evaluated at this point before.\n",
      "  warnings.warn(\"The objective has been evaluated \"\n"
     ]
    },
    {
     "name": "stdout",
     "output_type": "stream",
     "text": [
      "3.9972891222621585\n"
     ]
    },
    {
     "name": "stderr",
     "output_type": "stream",
     "text": [
      "/root/anaconda3/envs/gwp/lib/python3.12/site-packages/skopt/optimizer/optimizer.py:449: UserWarning: The objective has been evaluated at this point before.\n",
      "  warnings.warn(\"The objective has been evaluated \"\n"
     ]
    },
    {
     "name": "stdout",
     "output_type": "stream",
     "text": [
      "3.9972891222621585\n"
     ]
    },
    {
     "name": "stderr",
     "output_type": "stream",
     "text": [
      "/root/anaconda3/envs/gwp/lib/python3.12/site-packages/skopt/optimizer/optimizer.py:449: UserWarning: The objective has been evaluated at this point before.\n",
      "  warnings.warn(\"The objective has been evaluated \"\n"
     ]
    },
    {
     "name": "stdout",
     "output_type": "stream",
     "text": [
      "3.9972891222621585\n"
     ]
    },
    {
     "name": "stderr",
     "output_type": "stream",
     "text": [
      "/root/anaconda3/envs/gwp/lib/python3.12/site-packages/skopt/optimizer/optimizer.py:449: UserWarning: The objective has been evaluated at this point before.\n",
      "  warnings.warn(\"The objective has been evaluated \"\n"
     ]
    },
    {
     "name": "stdout",
     "output_type": "stream",
     "text": [
      "3.9972891222621585\n"
     ]
    },
    {
     "name": "stderr",
     "output_type": "stream",
     "text": [
      "/root/anaconda3/envs/gwp/lib/python3.12/site-packages/skopt/optimizer/optimizer.py:449: UserWarning: The objective has been evaluated at this point before.\n",
      "  warnings.warn(\"The objective has been evaluated \"\n"
     ]
    },
    {
     "name": "stdout",
     "output_type": "stream",
     "text": [
      "3.9972891222621585\n"
     ]
    },
    {
     "name": "stderr",
     "output_type": "stream",
     "text": [
      "/root/anaconda3/envs/gwp/lib/python3.12/site-packages/skopt/optimizer/optimizer.py:449: UserWarning: The objective has been evaluated at this point before.\n",
      "  warnings.warn(\"The objective has been evaluated \"\n"
     ]
    },
    {
     "name": "stdout",
     "output_type": "stream",
     "text": [
      "3.9972891222621585\n"
     ]
    },
    {
     "name": "stderr",
     "output_type": "stream",
     "text": [
      "/root/anaconda3/envs/gwp/lib/python3.12/site-packages/skopt/optimizer/optimizer.py:449: UserWarning: The objective has been evaluated at this point before.\n",
      "  warnings.warn(\"The objective has been evaluated \"\n"
     ]
    },
    {
     "name": "stdout",
     "output_type": "stream",
     "text": [
      "3.9972891222621585\n"
     ]
    },
    {
     "name": "stderr",
     "output_type": "stream",
     "text": [
      "/root/anaconda3/envs/gwp/lib/python3.12/site-packages/skopt/optimizer/optimizer.py:449: UserWarning: The objective has been evaluated at this point before.\n",
      "  warnings.warn(\"The objective has been evaluated \"\n"
     ]
    },
    {
     "name": "stdout",
     "output_type": "stream",
     "text": [
      "3.9972891222621585\n"
     ]
    },
    {
     "name": "stderr",
     "output_type": "stream",
     "text": [
      "/root/anaconda3/envs/gwp/lib/python3.12/site-packages/skopt/optimizer/optimizer.py:449: UserWarning: The objective has been evaluated at this point before.\n",
      "  warnings.warn(\"The objective has been evaluated \"\n"
     ]
    },
    {
     "name": "stdout",
     "output_type": "stream",
     "text": [
      "3.9972891222621585\n",
      "Best score=3.9973\n",
      "Training: r2,mae,rmse:  0.21214921746600646 1.3521800514407052 1.6431692375548608\n",
      "Test: r2,mae,rmse:  -0.09902892422616505 1.641716010434375 1.8409837226799115\n",
      "                   Importance\n",
      "fr_ester             0.000000\n",
      "EState_VSA5          0.000000\n",
      "PEOE_VSA11           0.000000\n",
      "fr_ketone            0.000000\n",
      "fr_ketone_Topliss    0.000000\n",
      "VSA_EState5          0.000000\n",
      "EState_VSA6          0.000000\n",
      "EState_VSA4         -0.011734\n",
      "PEOE_VSA2            0.042485\n",
      "SlogP_VSA5          -0.019673\n"
     ]
    }
   ],
   "source": [
    "data_prepare(data_csv=\"./ipcc_dataset.csv\",mm = \"KNN\", tar = \"GWP\",verbos=False)\n",
    "df_Xtrain, df_Ytrain, df_Xtest, df_Ytest=data_split(mm = \"KNN\", tar = \"GWP\",ratio = 0.8,verbos = True)\n",
    "df_Xtrain, df_Ytrain, df_Xtest, df_Ytest=normal(df_Xtrain, df_Ytrain, df_Xtest, df_Ytest, mm='KNN',tar='GWP')\n",
    "knn(df_Xtrain, df_Ytrain, df_Xtest, df_Ytest, tar='GWP', n_job=1, call=100, save = True)"
   ]
  },
  {
   "cell_type": "code",
   "execution_count": 30,
   "id": "a62411b6-153a-4e59-ba2a-b6d9d309ccf2",
   "metadata": {
    "scrolled": true
   },
   "outputs": [
    {
     "name": "stdout",
     "output_type": "stream",
     "text": [
      "Selecting point  1\n",
      "Selecting point  2\n",
      "Selecting point  3\n",
      "Selecting point  4\n",
      "Selecting point  5\n",
      "Selecting point  6\n",
      "Selecting point  7\n",
      "Selecting point  8\n",
      "Selecting point  9\n",
      "Selecting point  10\n",
      "Selecting point  11\n",
      "Selecting point  12\n",
      "Selecting point  13\n",
      "Selecting point  14\n",
      "Selecting point  15\n",
      "Selecting point  16\n",
      "Selecting point  17\n",
      "Selecting point  18\n",
      "Selecting point  19\n",
      "Selecting point  20\n",
      "Selecting point  21\n",
      "Selecting point  22\n",
      "Selecting point  23\n",
      "Selecting point  24\n",
      "Selecting point  25\n",
      "Selecting point  26\n",
      "Selecting point  27\n",
      "Selecting point  28\n",
      "Selecting point  29\n",
      "Selecting point  30\n",
      "Selecting point  31\n",
      "Selecting point  32\n",
      "Selecting point  33\n",
      "Selecting point  34\n",
      "Selecting point  35\n",
      "Selecting point  36\n",
      "Selecting point  37\n",
      "Selecting point  38\n",
      "Selecting point  39\n",
      "Selecting point  40\n",
      "Selecting point  41\n",
      "Selecting point  42\n",
      "Selecting point  43\n",
      "Selecting point  44\n",
      "Selecting point  45\n",
      "Selecting point  46\n",
      "Selecting point  47\n",
      "Selecting point  48\n",
      "Selecting point  49\n",
      "Selecting point  50\n",
      "Selecting point  51\n",
      "Selecting point  52\n",
      "Selecting point  53\n",
      "Selecting point  54\n",
      "Selecting point  55\n",
      "Selecting point  56\n",
      "Selecting point  57\n",
      "Selecting point  58\n",
      "Selecting point  59\n",
      "Selecting point  60\n",
      "Selecting point  61\n",
      "Selecting point  62\n",
      "Selecting point  63\n",
      "Selecting point  64\n",
      "Selecting point  65\n",
      "Selecting point  66\n",
      "Selecting point  67\n",
      "Selecting point  68\n",
      "Selecting point  69\n",
      "Selecting point  70\n",
      "Selecting point  71\n",
      "Selecting point  72\n",
      "Selecting point  73\n",
      "Selecting point  74\n",
      "Selecting point  75\n",
      "Selecting point  76\n",
      "Selecting point  77\n",
      "Selecting point  78\n",
      "Selecting point  79\n",
      "Selecting point  80\n",
      "Selecting point  81\n",
      "Selecting point  82\n",
      "Selecting point  83\n",
      "Selecting point  84\n",
      "Selecting point  85\n",
      "Selecting point  86\n",
      "Selecting point  87\n",
      "Selecting point  88\n",
      "Selecting point  89\n",
      "Selecting point  90\n",
      "Selecting point  91\n",
      "Selecting point  92\n",
      "Selecting point  93\n",
      "Selecting point  94\n",
      "Selecting point  95\n",
      "Selecting point  96\n",
      "Selecting point  97\n",
      "Selecting point  98\n",
      "Selecting point  99\n",
      "Selecting point  100\n",
      "Selecting point  101\n",
      "Selecting point  102\n",
      "Selecting point  103\n",
      "Selecting point  104\n",
      "Selecting point  105\n",
      "Selecting point  106\n",
      "Selecting point  107\n",
      "Selecting point  108\n",
      "Selecting point  109\n",
      "Selecting point  110\n",
      "Selecting point  111\n",
      "Selecting point  112\n",
      "Selecting point  113\n",
      "Selecting point  114\n",
      "Selecting point  115\n",
      "Selecting point  116\n",
      "Selecting point  117\n",
      "Selecting point  118\n",
      "Selecting point  119\n",
      "Selecting point  120\n",
      "Selecting point  121\n",
      "Selecting point  122\n",
      "Selecting point  123\n",
      "Selecting point  124\n",
      "Selecting point  125\n",
      "Selecting point  126\n",
      "Selecting point  127\n",
      "Selecting point  128\n",
      "Selecting point  129\n",
      "Selecting point  130\n",
      "Selecting point  131\n",
      "Selecting point  132\n",
      "Selecting point  133\n",
      "Selecting point  134\n",
      "Selecting point  135\n",
      "Selecting point  136\n",
      "Selecting point  137\n",
      "Selecting point  138\n",
      "Selecting point  139\n",
      "Selecting point  140\n",
      "Selecting point  141\n",
      "Selecting point  142\n",
      "Selecting point  143\n",
      "Selecting point  144\n",
      "Selecting point  145\n",
      "Selecting point  146\n",
      "Selecting point  147\n",
      "Selecting point  148\n",
      "Selecting point  149\n",
      "Selecting point  150\n",
      "Selecting point  151\n",
      "Selecting point  152\n",
      "Selecting point  153\n",
      "Selecting point  154\n",
      "Selecting point  155\n",
      "Total number of materials :  196\n",
      "Number of features:  10\n"
     ]
    },
    {
     "name": "stderr",
     "output_type": "stream",
     "text": [
      "/root/anaconda3/envs/gwp/lib/python3.12/site-packages/skopt/optimizer/optimizer.py:449: UserWarning: The objective has been evaluated at this point before.\n",
      "  warnings.warn(\"The objective has been evaluated \"\n",
      "/root/anaconda3/envs/gwp/lib/python3.12/site-packages/skopt/optimizer/optimizer.py:449: UserWarning: The objective has been evaluated at this point before.\n",
      "  warnings.warn(\"The objective has been evaluated \"\n",
      "/root/anaconda3/envs/gwp/lib/python3.12/site-packages/skopt/optimizer/optimizer.py:449: UserWarning: The objective has been evaluated at this point before.\n",
      "  warnings.warn(\"The objective has been evaluated \"\n",
      "/root/anaconda3/envs/gwp/lib/python3.12/site-packages/skopt/optimizer/optimizer.py:449: UserWarning: The objective has been evaluated at this point before.\n",
      "  warnings.warn(\"The objective has been evaluated \"\n",
      "/root/anaconda3/envs/gwp/lib/python3.12/site-packages/skopt/optimizer/optimizer.py:449: UserWarning: The objective has been evaluated at this point before.\n",
      "  warnings.warn(\"The objective has been evaluated \"\n",
      "/root/anaconda3/envs/gwp/lib/python3.12/site-packages/skopt/optimizer/optimizer.py:449: UserWarning: The objective has been evaluated at this point before.\n",
      "  warnings.warn(\"The objective has been evaluated \"\n",
      "/root/anaconda3/envs/gwp/lib/python3.12/site-packages/skopt/optimizer/optimizer.py:449: UserWarning: The objective has been evaluated at this point before.\n",
      "  warnings.warn(\"The objective has been evaluated \"\n",
      "/root/anaconda3/envs/gwp/lib/python3.12/site-packages/skopt/optimizer/optimizer.py:449: UserWarning: The objective has been evaluated at this point before.\n",
      "  warnings.warn(\"The objective has been evaluated \"\n",
      "/root/anaconda3/envs/gwp/lib/python3.12/site-packages/skopt/optimizer/optimizer.py:449: UserWarning: The objective has been evaluated at this point before.\n",
      "  warnings.warn(\"The objective has been evaluated \"\n",
      "/root/anaconda3/envs/gwp/lib/python3.12/site-packages/skopt/optimizer/optimizer.py:449: UserWarning: The objective has been evaluated at this point before.\n",
      "  warnings.warn(\"The objective has been evaluated \"\n",
      "/root/anaconda3/envs/gwp/lib/python3.12/site-packages/skopt/optimizer/optimizer.py:449: UserWarning: The objective has been evaluated at this point before.\n",
      "  warnings.warn(\"The objective has been evaluated \"\n",
      "/root/anaconda3/envs/gwp/lib/python3.12/site-packages/skopt/optimizer/optimizer.py:449: UserWarning: The objective has been evaluated at this point before.\n",
      "  warnings.warn(\"The objective has been evaluated \"\n",
      "/root/anaconda3/envs/gwp/lib/python3.12/site-packages/skopt/optimizer/optimizer.py:449: UserWarning: The objective has been evaluated at this point before.\n",
      "  warnings.warn(\"The objective has been evaluated \"\n",
      "/root/anaconda3/envs/gwp/lib/python3.12/site-packages/skopt/optimizer/optimizer.py:449: UserWarning: The objective has been evaluated at this point before.\n",
      "  warnings.warn(\"The objective has been evaluated \"\n",
      "/root/anaconda3/envs/gwp/lib/python3.12/site-packages/skopt/optimizer/optimizer.py:449: UserWarning: The objective has been evaluated at this point before.\n",
      "  warnings.warn(\"The objective has been evaluated \"\n",
      "/root/anaconda3/envs/gwp/lib/python3.12/site-packages/skopt/optimizer/optimizer.py:449: UserWarning: The objective has been evaluated at this point before.\n",
      "  warnings.warn(\"The objective has been evaluated \"\n",
      "/root/anaconda3/envs/gwp/lib/python3.12/site-packages/skopt/optimizer/optimizer.py:449: UserWarning: The objective has been evaluated at this point before.\n",
      "  warnings.warn(\"The objective has been evaluated \"\n",
      "/root/anaconda3/envs/gwp/lib/python3.12/site-packages/skopt/optimizer/optimizer.py:449: UserWarning: The objective has been evaluated at this point before.\n",
      "  warnings.warn(\"The objective has been evaluated \"\n",
      "/root/anaconda3/envs/gwp/lib/python3.12/site-packages/skopt/optimizer/optimizer.py:449: UserWarning: The objective has been evaluated at this point before.\n",
      "  warnings.warn(\"The objective has been evaluated \"\n",
      "/root/anaconda3/envs/gwp/lib/python3.12/site-packages/skopt/optimizer/optimizer.py:449: UserWarning: The objective has been evaluated at this point before.\n",
      "  warnings.warn(\"The objective has been evaluated \"\n",
      "/root/anaconda3/envs/gwp/lib/python3.12/site-packages/skopt/optimizer/optimizer.py:449: UserWarning: The objective has been evaluated at this point before.\n",
      "  warnings.warn(\"The objective has been evaluated \"\n",
      "/root/anaconda3/envs/gwp/lib/python3.12/site-packages/skopt/optimizer/optimizer.py:449: UserWarning: The objective has been evaluated at this point before.\n",
      "  warnings.warn(\"The objective has been evaluated \"\n",
      "/root/anaconda3/envs/gwp/lib/python3.12/site-packages/skopt/optimizer/optimizer.py:449: UserWarning: The objective has been evaluated at this point before.\n",
      "  warnings.warn(\"The objective has been evaluated \"\n",
      "/root/anaconda3/envs/gwp/lib/python3.12/site-packages/skopt/optimizer/optimizer.py:449: UserWarning: The objective has been evaluated at this point before.\n",
      "  warnings.warn(\"The objective has been evaluated \"\n",
      "/root/anaconda3/envs/gwp/lib/python3.12/site-packages/skopt/optimizer/optimizer.py:449: UserWarning: The objective has been evaluated at this point before.\n",
      "  warnings.warn(\"The objective has been evaluated \"\n",
      "/root/anaconda3/envs/gwp/lib/python3.12/site-packages/skopt/optimizer/optimizer.py:449: UserWarning: The objective has been evaluated at this point before.\n",
      "  warnings.warn(\"The objective has been evaluated \"\n",
      "/root/anaconda3/envs/gwp/lib/python3.12/site-packages/skopt/optimizer/optimizer.py:449: UserWarning: The objective has been evaluated at this point before.\n",
      "  warnings.warn(\"The objective has been evaluated \"\n",
      "/root/anaconda3/envs/gwp/lib/python3.12/site-packages/skopt/optimizer/optimizer.py:449: UserWarning: The objective has been evaluated at this point before.\n",
      "  warnings.warn(\"The objective has been evaluated \"\n",
      "/root/anaconda3/envs/gwp/lib/python3.12/site-packages/skopt/optimizer/optimizer.py:449: UserWarning: The objective has been evaluated at this point before.\n",
      "  warnings.warn(\"The objective has been evaluated \"\n",
      "/root/anaconda3/envs/gwp/lib/python3.12/site-packages/skopt/optimizer/optimizer.py:449: UserWarning: The objective has been evaluated at this point before.\n",
      "  warnings.warn(\"The objective has been evaluated \"\n",
      "/root/anaconda3/envs/gwp/lib/python3.12/site-packages/skopt/optimizer/optimizer.py:449: UserWarning: The objective has been evaluated at this point before.\n",
      "  warnings.warn(\"The objective has been evaluated \"\n",
      "/root/anaconda3/envs/gwp/lib/python3.12/site-packages/skopt/optimizer/optimizer.py:449: UserWarning: The objective has been evaluated at this point before.\n",
      "  warnings.warn(\"The objective has been evaluated \"\n",
      "/root/anaconda3/envs/gwp/lib/python3.12/site-packages/skopt/optimizer/optimizer.py:449: UserWarning: The objective has been evaluated at this point before.\n",
      "  warnings.warn(\"The objective has been evaluated \"\n",
      "/root/anaconda3/envs/gwp/lib/python3.12/site-packages/skopt/optimizer/optimizer.py:449: UserWarning: The objective has been evaluated at this point before.\n",
      "  warnings.warn(\"The objective has been evaluated \"\n",
      "/root/anaconda3/envs/gwp/lib/python3.12/site-packages/skopt/optimizer/optimizer.py:449: UserWarning: The objective has been evaluated at this point before.\n",
      "  warnings.warn(\"The objective has been evaluated \"\n",
      "/root/anaconda3/envs/gwp/lib/python3.12/site-packages/skopt/optimizer/optimizer.py:449: UserWarning: The objective has been evaluated at this point before.\n",
      "  warnings.warn(\"The objective has been evaluated \"\n",
      "/root/anaconda3/envs/gwp/lib/python3.12/site-packages/skopt/optimizer/optimizer.py:449: UserWarning: The objective has been evaluated at this point before.\n",
      "  warnings.warn(\"The objective has been evaluated \"\n",
      "/root/anaconda3/envs/gwp/lib/python3.12/site-packages/skopt/optimizer/optimizer.py:449: UserWarning: The objective has been evaluated at this point before.\n",
      "  warnings.warn(\"The objective has been evaluated \"\n",
      "/root/anaconda3/envs/gwp/lib/python3.12/site-packages/skopt/optimizer/optimizer.py:449: UserWarning: The objective has been evaluated at this point before.\n",
      "  warnings.warn(\"The objective has been evaluated \"\n",
      "/root/anaconda3/envs/gwp/lib/python3.12/site-packages/skopt/optimizer/optimizer.py:449: UserWarning: The objective has been evaluated at this point before.\n",
      "  warnings.warn(\"The objective has been evaluated \"\n",
      "/root/anaconda3/envs/gwp/lib/python3.12/site-packages/skopt/optimizer/optimizer.py:449: UserWarning: The objective has been evaluated at this point before.\n",
      "  warnings.warn(\"The objective has been evaluated \"\n",
      "/root/anaconda3/envs/gwp/lib/python3.12/site-packages/skopt/optimizer/optimizer.py:449: UserWarning: The objective has been evaluated at this point before.\n",
      "  warnings.warn(\"The objective has been evaluated \"\n",
      "/root/anaconda3/envs/gwp/lib/python3.12/site-packages/skopt/optimizer/optimizer.py:449: UserWarning: The objective has been evaluated at this point before.\n",
      "  warnings.warn(\"The objective has been evaluated \"\n",
      "/root/anaconda3/envs/gwp/lib/python3.12/site-packages/skopt/optimizer/optimizer.py:449: UserWarning: The objective has been evaluated at this point before.\n",
      "  warnings.warn(\"The objective has been evaluated \"\n",
      "/root/anaconda3/envs/gwp/lib/python3.12/site-packages/skopt/optimizer/optimizer.py:449: UserWarning: The objective has been evaluated at this point before.\n",
      "  warnings.warn(\"The objective has been evaluated \"\n",
      "/root/anaconda3/envs/gwp/lib/python3.12/site-packages/skopt/optimizer/optimizer.py:449: UserWarning: The objective has been evaluated at this point before.\n",
      "  warnings.warn(\"The objective has been evaluated \"\n",
      "/root/anaconda3/envs/gwp/lib/python3.12/site-packages/skopt/optimizer/optimizer.py:449: UserWarning: The objective has been evaluated at this point before.\n",
      "  warnings.warn(\"The objective has been evaluated \"\n",
      "/root/anaconda3/envs/gwp/lib/python3.12/site-packages/skopt/optimizer/optimizer.py:449: UserWarning: The objective has been evaluated at this point before.\n",
      "  warnings.warn(\"The objective has been evaluated \"\n",
      "/root/anaconda3/envs/gwp/lib/python3.12/site-packages/skopt/optimizer/optimizer.py:449: UserWarning: The objective has been evaluated at this point before.\n",
      "  warnings.warn(\"The objective has been evaluated \"\n",
      "/root/anaconda3/envs/gwp/lib/python3.12/site-packages/skopt/optimizer/optimizer.py:449: UserWarning: The objective has been evaluated at this point before.\n",
      "  warnings.warn(\"The objective has been evaluated \"\n",
      "/root/anaconda3/envs/gwp/lib/python3.12/site-packages/skopt/optimizer/optimizer.py:449: UserWarning: The objective has been evaluated at this point before.\n",
      "  warnings.warn(\"The objective has been evaluated \"\n",
      "/root/anaconda3/envs/gwp/lib/python3.12/site-packages/skopt/optimizer/optimizer.py:449: UserWarning: The objective has been evaluated at this point before.\n",
      "  warnings.warn(\"The objective has been evaluated \"\n",
      "/root/anaconda3/envs/gwp/lib/python3.12/site-packages/skopt/optimizer/optimizer.py:449: UserWarning: The objective has been evaluated at this point before.\n",
      "  warnings.warn(\"The objective has been evaluated \"\n",
      "/root/anaconda3/envs/gwp/lib/python3.12/site-packages/skopt/optimizer/optimizer.py:449: UserWarning: The objective has been evaluated at this point before.\n",
      "  warnings.warn(\"The objective has been evaluated \"\n",
      "/root/anaconda3/envs/gwp/lib/python3.12/site-packages/skopt/optimizer/optimizer.py:449: UserWarning: The objective has been evaluated at this point before.\n",
      "  warnings.warn(\"The objective has been evaluated \"\n",
      "/root/anaconda3/envs/gwp/lib/python3.12/site-packages/skopt/optimizer/optimizer.py:449: UserWarning: The objective has been evaluated at this point before.\n",
      "  warnings.warn(\"The objective has been evaluated \"\n",
      "/root/anaconda3/envs/gwp/lib/python3.12/site-packages/skopt/optimizer/optimizer.py:449: UserWarning: The objective has been evaluated at this point before.\n",
      "  warnings.warn(\"The objective has been evaluated \"\n",
      "/root/anaconda3/envs/gwp/lib/python3.12/site-packages/skopt/optimizer/optimizer.py:449: UserWarning: The objective has been evaluated at this point before.\n",
      "  warnings.warn(\"The objective has been evaluated \"\n",
      "/root/anaconda3/envs/gwp/lib/python3.12/site-packages/skopt/optimizer/optimizer.py:449: UserWarning: The objective has been evaluated at this point before.\n",
      "  warnings.warn(\"The objective has been evaluated \"\n",
      "/root/anaconda3/envs/gwp/lib/python3.12/site-packages/skopt/optimizer/optimizer.py:449: UserWarning: The objective has been evaluated at this point before.\n",
      "  warnings.warn(\"The objective has been evaluated \"\n",
      "/root/anaconda3/envs/gwp/lib/python3.12/site-packages/skopt/optimizer/optimizer.py:449: UserWarning: The objective has been evaluated at this point before.\n",
      "  warnings.warn(\"The objective has been evaluated \"\n",
      "/root/anaconda3/envs/gwp/lib/python3.12/site-packages/skopt/optimizer/optimizer.py:449: UserWarning: The objective has been evaluated at this point before.\n",
      "  warnings.warn(\"The objective has been evaluated \"\n",
      "/root/anaconda3/envs/gwp/lib/python3.12/site-packages/skopt/optimizer/optimizer.py:449: UserWarning: The objective has been evaluated at this point before.\n",
      "  warnings.warn(\"The objective has been evaluated \"\n",
      "/root/anaconda3/envs/gwp/lib/python3.12/site-packages/skopt/optimizer/optimizer.py:449: UserWarning: The objective has been evaluated at this point before.\n",
      "  warnings.warn(\"The objective has been evaluated \"\n",
      "/root/anaconda3/envs/gwp/lib/python3.12/site-packages/skopt/optimizer/optimizer.py:449: UserWarning: The objective has been evaluated at this point before.\n",
      "  warnings.warn(\"The objective has been evaluated \"\n",
      "/root/anaconda3/envs/gwp/lib/python3.12/site-packages/skopt/optimizer/optimizer.py:449: UserWarning: The objective has been evaluated at this point before.\n",
      "  warnings.warn(\"The objective has been evaluated \"\n",
      "/root/anaconda3/envs/gwp/lib/python3.12/site-packages/skopt/optimizer/optimizer.py:449: UserWarning: The objective has been evaluated at this point before.\n",
      "  warnings.warn(\"The objective has been evaluated \"\n",
      "/root/anaconda3/envs/gwp/lib/python3.12/site-packages/skopt/optimizer/optimizer.py:449: UserWarning: The objective has been evaluated at this point before.\n",
      "  warnings.warn(\"The objective has been evaluated \"\n",
      "/root/anaconda3/envs/gwp/lib/python3.12/site-packages/skopt/optimizer/optimizer.py:449: UserWarning: The objective has been evaluated at this point before.\n",
      "  warnings.warn(\"The objective has been evaluated \"\n",
      "/root/anaconda3/envs/gwp/lib/python3.12/site-packages/skopt/optimizer/optimizer.py:449: UserWarning: The objective has been evaluated at this point before.\n",
      "  warnings.warn(\"The objective has been evaluated \"\n",
      "/root/anaconda3/envs/gwp/lib/python3.12/site-packages/skopt/optimizer/optimizer.py:449: UserWarning: The objective has been evaluated at this point before.\n",
      "  warnings.warn(\"The objective has been evaluated \"\n",
      "/root/anaconda3/envs/gwp/lib/python3.12/site-packages/skopt/optimizer/optimizer.py:449: UserWarning: The objective has been evaluated at this point before.\n",
      "  warnings.warn(\"The objective has been evaluated \"\n",
      "/root/anaconda3/envs/gwp/lib/python3.12/site-packages/skopt/optimizer/optimizer.py:449: UserWarning: The objective has been evaluated at this point before.\n",
      "  warnings.warn(\"The objective has been evaluated \"\n",
      "/root/anaconda3/envs/gwp/lib/python3.12/site-packages/skopt/optimizer/optimizer.py:449: UserWarning: The objective has been evaluated at this point before.\n",
      "  warnings.warn(\"The objective has been evaluated \"\n",
      "/root/anaconda3/envs/gwp/lib/python3.12/site-packages/skopt/optimizer/optimizer.py:449: UserWarning: The objective has been evaluated at this point before.\n",
      "  warnings.warn(\"The objective has been evaluated \"\n",
      "/root/anaconda3/envs/gwp/lib/python3.12/site-packages/skopt/optimizer/optimizer.py:449: UserWarning: The objective has been evaluated at this point before.\n",
      "  warnings.warn(\"The objective has been evaluated \"\n",
      "/root/anaconda3/envs/gwp/lib/python3.12/site-packages/skopt/optimizer/optimizer.py:449: UserWarning: The objective has been evaluated at this point before.\n",
      "  warnings.warn(\"The objective has been evaluated \"\n",
      "/root/anaconda3/envs/gwp/lib/python3.12/site-packages/skopt/optimizer/optimizer.py:449: UserWarning: The objective has been evaluated at this point before.\n",
      "  warnings.warn(\"The objective has been evaluated \"\n",
      "/root/anaconda3/envs/gwp/lib/python3.12/site-packages/skopt/optimizer/optimizer.py:449: UserWarning: The objective has been evaluated at this point before.\n",
      "  warnings.warn(\"The objective has been evaluated \"\n",
      "/root/anaconda3/envs/gwp/lib/python3.12/site-packages/skopt/optimizer/optimizer.py:449: UserWarning: The objective has been evaluated at this point before.\n",
      "  warnings.warn(\"The objective has been evaluated \"\n",
      "/root/anaconda3/envs/gwp/lib/python3.12/site-packages/skopt/optimizer/optimizer.py:449: UserWarning: The objective has been evaluated at this point before.\n",
      "  warnings.warn(\"The objective has been evaluated \"\n",
      "/root/anaconda3/envs/gwp/lib/python3.12/site-packages/skopt/optimizer/optimizer.py:449: UserWarning: The objective has been evaluated at this point before.\n",
      "  warnings.warn(\"The objective has been evaluated \"\n",
      "/root/anaconda3/envs/gwp/lib/python3.12/site-packages/skopt/optimizer/optimizer.py:449: UserWarning: The objective has been evaluated at this point before.\n",
      "  warnings.warn(\"The objective has been evaluated \"\n",
      "/root/anaconda3/envs/gwp/lib/python3.12/site-packages/skopt/optimizer/optimizer.py:449: UserWarning: The objective has been evaluated at this point before.\n",
      "  warnings.warn(\"The objective has been evaluated \"\n",
      "/root/anaconda3/envs/gwp/lib/python3.12/site-packages/skopt/optimizer/optimizer.py:449: UserWarning: The objective has been evaluated at this point before.\n",
      "  warnings.warn(\"The objective has been evaluated \"\n",
      "/root/anaconda3/envs/gwp/lib/python3.12/site-packages/skopt/optimizer/optimizer.py:449: UserWarning: The objective has been evaluated at this point before.\n",
      "  warnings.warn(\"The objective has been evaluated \"\n",
      "/root/anaconda3/envs/gwp/lib/python3.12/site-packages/skopt/optimizer/optimizer.py:449: UserWarning: The objective has been evaluated at this point before.\n",
      "  warnings.warn(\"The objective has been evaluated \"\n",
      "/root/anaconda3/envs/gwp/lib/python3.12/site-packages/skopt/optimizer/optimizer.py:449: UserWarning: The objective has been evaluated at this point before.\n",
      "  warnings.warn(\"The objective has been evaluated \"\n",
      "/root/anaconda3/envs/gwp/lib/python3.12/site-packages/skopt/optimizer/optimizer.py:449: UserWarning: The objective has been evaluated at this point before.\n",
      "  warnings.warn(\"The objective has been evaluated \"\n",
      "/root/anaconda3/envs/gwp/lib/python3.12/site-packages/skopt/optimizer/optimizer.py:449: UserWarning: The objective has been evaluated at this point before.\n",
      "  warnings.warn(\"The objective has been evaluated \"\n"
     ]
    },
    {
     "name": "stdout",
     "output_type": "stream",
     "text": [
      "Training: r2,mae,rmse:  0.8841223795454561 0.5473532431127299 0.6466652595391188\n",
      "Test: r2,mae,rmse:  0.7312541028747419 0.654453713345514 0.8362328507194603\n",
      "                Importance\n",
      "HomoLumoGap       0.885301\n",
      "BCUT2D_LOGPLOW    0.174312\n",
      "MolMR             0.016137\n",
      "fr_halogen        0.287628\n",
      "IP                0.431085\n",
      "Chi1n             0.266760\n",
      "BCUT2D_CHGLO      0.000752\n",
      "Chi1v            -0.019778\n",
      "BCUT2D_MRHI       0.185615\n",
      "BertzCT           0.070252\n"
     ]
    },
    {
     "data": {
      "image/png": "[encoded data removed]",
      "text/plain": [
       "<Figure size 1000x500 with 1 Axes>"
      ]
     },
     "metadata": {},
     "output_type": "display_data"
    }
   ],
   "source": [
    "data_prepare(data_csv=\"./ipcc_dataset.csv\",mm = \"MLP\", tar = \"GWP\",verbos=False)\n",
    "df_Xtrain, df_Ytrain, df_Xtest, df_Ytest=data_split(mm = \"MLP\", tar = \"GWP\",ratio = 0.8,verbos = True)\n",
    "df_Xtrain, df_Ytrain, df_Xtest, df_Ytest=normal(df_Xtrain, df_Ytrain, df_Xtest, df_Ytest, mm='MLP',tar='GWP')\n",
    "mlp(df_Xtrain, df_Ytrain, df_Xtest, df_Ytest, tar='GWP', n_job=1, call=100, save = True)"
   ]
  },
  {
   "cell_type": "code",
   "execution_count": null,
   "id": "63deb2e1-e1ce-4ce8-9190-19a6f05dca1a",
   "metadata": {},
   "outputs": [],
   "source": []
  }
 ],
 "metadata": {
  "kernelspec": {
   "display_name": "Python 3",
   "language": "python",
   "name": "python3"
  },
  "language_info": {
   "codemirror_mode": {
    "name": "ipython",
    "version": 3
   },
   "file_extension": ".py",
   "mimetype": "text/x-python",
   "name": "python",
   "nbconvert_exporter": "python",
   "pygments_lexer": "ipython3",
   "version": "3.9.18"
  }
 },
 "nbformat": 4,
 "nbformat_minor": 5
}
